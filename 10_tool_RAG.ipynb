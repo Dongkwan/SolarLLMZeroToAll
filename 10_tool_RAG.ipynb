{
 "cells": [
  {
   "cell_type": "markdown",
   "metadata": {},
   "source": [
    "## Smart RAG\n",
    "- Know what you know and what you don't know.\n"
   ]
  },
  {
   "cell_type": "code",
   "execution_count": 15,
   "metadata": {},
   "outputs": [],
   "source": [
    "! pip3 install -qU  markdownify  langchain-upstage rank_bm25"
   ]
  },
  {
   "cell_type": "code",
   "execution_count": 16,
   "metadata": {},
   "outputs": [
    {
     "name": "stdout",
     "output_type": "stream",
     "text": [
      "The dotenv extension is already loaded. To reload it, use:\n",
      "  %reload_ext dotenv\n"
     ]
    }
   ],
   "source": [
    "\n",
    "%load_ext dotenv\n",
    "%dotenv\n",
    "# UPSTAGE_API_KEY"
   ]
  },
  {
   "cell_type": "code",
   "execution_count": 17,
   "metadata": {},
   "outputs": [],
   "source": [
    "import warnings\n",
    "\n",
    "warnings.filterwarnings(\"ignore\")"
   ]
  },
  {
   "cell_type": "code",
   "execution_count": 18,
   "metadata": {},
   "outputs": [],
   "source": [
    "\n",
    "solar_summary = \"\"\"\n",
    "SOLAR 10.7B: Scaling Large Language Models with Simple yet Effective Depth Up-Scaling\n",
    "\n",
    "We introduce SOLAR 10.7B, a large language model (LLM) with 10.7 billion parameters, \n",
    "demonstrating superior performance in various natural language processing (NLP) tasks. \n",
    "Inspired by recent efforts to efficiently up-scale LLMs, \n",
    "we present a method for scaling LLMs called depth up-scaling (DUS), \n",
    "which encompasses depthwise scaling and continued pretraining.\n",
    "In contrast to other LLM up-scaling methods that use mixture-of-experts, \n",
    "DUS does not require complex changes to train and inference efficiently. \n",
    "We show experimentally that DUS is simple yet effective \n",
    "in scaling up high-performance LLMs from small ones. \n",
    "Building on the DUS model, we additionally present SOLAR 10.7B-Instruct, \n",
    "a variant fine-tuned for instruction-following capabilities, \n",
    "surpassing Mixtral-8x7B-Instruct. \n",
    "SOLAR 10.7B is publicly available under the Apache 2.0 license, \n",
    "promoting broad access and application in the LLM field.\n",
    "\"\"\""
   ]
  },
  {
   "cell_type": "code",
   "execution_count": 19,
   "metadata": {},
   "outputs": [],
   "source": [
    "# Tools\n",
    "from langchain_core.tools import tool\n",
    "import requests\n",
    "import os\n",
    "from tavily import TavilyClient\n",
    "from langchain_upstage import ChatUpstage\n",
    "\n",
    "tavily = TavilyClient(api_key=os.environ[\"TAVILY_API_KEY\"])\n",
    "\n",
    "\n",
    "@tool\n",
    "def solar_paper_search(query: str) -> str:\n",
    "    \"\"\"Query for research paper about solarllm, dus, llm and general AI.\n",
    "    If the query is about DUS, Upstage, AI related topics, use this.\n",
    "    \"\"\"\n",
    "    return solar_summary\n",
    "\n",
    "\n",
    "@tool\n",
    "def internet_search(query: str) -> str:\n",
    "    \"\"\"This is for query for internet search engine like Google.\n",
    "    Query for general topics.\n",
    "    \"\"\"\n",
    "    return tavily.search(query=query)\n",
    "\n",
    "\n",
    "@tool\n",
    "def get_news(topic: str) -> str:\n",
    "    \"\"\"Get latest news about a topic.\n",
    "    If users are more like recent news, use this.\n",
    "    \"\"\"\n",
    "    # https://newsapi.org/v2/everything?q=tesla&from=2024-04-01&sortBy=publishedAt&apiKey=API_KEY\n",
    "    # change this to request news from a real API\n",
    "    news_url = f\"https://newsapi.org/v2/everything?q={topic}&apiKey={os.environ['NEWS_API_KEY']}\"\n",
    "    respnse = requests.get(news_url)\n",
    "    return respnse.json()\n",
    "\n",
    "\n",
    "tools = [solar_paper_search, internet_search, get_news]\n",
    "\n",
    "llm = ChatUpstage()\n",
    "llm_with_tools = llm.bind_tools(tools)"
   ]
  },
  {
   "cell_type": "code",
   "execution_count": 20,
   "metadata": {},
   "outputs": [],
   "source": [
    "def call_tool(tool_call):\n",
    "    tool_name = tool_call[\"name\"].lower()\n",
    "    if tool_name not in globals():\n",
    "        print(\"Tool not found\", tool_name)\n",
    "        return None\n",
    "    selected_tool = globals()[tool_name]\n",
    "    return selected_tool.invoke(tool_call[\"args\"])"
   ]
  },
  {
   "cell_type": "code",
   "execution_count": 21,
   "metadata": {},
   "outputs": [
    {
     "data": {
      "text/plain": [
       "[{'name': 'solar_paper_search',\n",
       "  'args': {'query': 'Solar LLM'},\n",
       "  'id': '8d491b94-0806-4e3e-a083-ab9bd7711d16'}]"
      ]
     },
     "execution_count": 21,
     "metadata": {},
     "output_type": "execute_result"
    }
   ],
   "source": [
    "llm_with_tools.invoke(\"What is Solar LLM?\").tool_calls\n"
   ]
  },
  {
   "cell_type": "code",
   "execution_count": 22,
   "metadata": {},
   "outputs": [
    {
     "data": {
      "text/plain": [
       "[{'name': 'get_news',\n",
       "  'args': {'topic': 'Seoul'},\n",
       "  'id': '31422e2a-edf7-453f-8376-84cd7d62984a'}]"
      ]
     },
     "execution_count": 22,
     "metadata": {},
     "output_type": "execute_result"
    }
   ],
   "source": [
    "llm_with_tools.invoke(\"What is news about Seoul\").tool_calls\n"
   ]
  },
  {
   "cell_type": "code",
   "execution_count": 29,
   "metadata": {},
   "outputs": [
    {
     "data": {
      "text/plain": [
       "[{'name': 'internet_search',\n",
       "  'args': {'query': 'Best place in Seoul'},\n",
       "  'id': '4c09e29e-bb34-4db2-96ba-90582421f4f3'}]"
      ]
     },
     "execution_count": 29,
     "metadata": {},
     "output_type": "execute_result"
    }
   ],
   "source": [
    "llm_with_tools.invoke(\"What's best place in Seoul?\").tool_calls\n"
   ]
  },
  {
   "cell_type": "code",
   "execution_count": 24,
   "metadata": {},
   "outputs": [],
   "source": [
    "from langchain_core.prompts import PromptTemplate\n",
    "from langchain_core.output_parsers import StrOutputParser\n",
    "\n",
    "\n",
    "prompt_template = PromptTemplate.from_template(\n",
    "    \"\"\"\n",
    "    Please provide answer for question from the following context. \n",
    "    ---\n",
    "    Question: {question}\n",
    "    ---\n",
    "    Context: {context}\n",
    "    \"\"\"\n",
    ")\n",
    "chain = prompt_template | llm | StrOutputParser()"
   ]
  },
  {
   "cell_type": "code",
   "execution_count": 25,
   "metadata": {},
   "outputs": [],
   "source": [
    "# Smart RAG, Self-Improving RAG\n",
    "import os\n",
    "from tavily import TavilyClient\n",
    "\n",
    "\n",
    "def tool_rag(question):\n",
    "    tool_calls = llm_with_tools.invoke(question).tool_calls\n",
    "    print(tool_calls)\n",
    "    context = \"\"\n",
    "    for tool_call in tool_calls:\n",
    "        context += str(call_tool(tool_call))\n",
    "\n",
    "    chain = prompt_template | llm | StrOutputParser()\n",
    "    return chain.invoke({\"context\": context, \"question\": question})"
   ]
  },
  {
   "cell_type": "code",
   "execution_count": 26,
   "metadata": {},
   "outputs": [
    {
     "name": "stdout",
     "output_type": "stream",
     "text": [
      "[{'name': 'solar_paper_search', 'args': {'query': 'Solar llm'}, 'id': 'a00dec97-40a3-471e-8aab-28a96a5ec88b'}]\n"
     ]
    },
    {
     "data": {
      "text/plain": [
       "'Solar llm is a large language model (LLM) with 10.7 billion parameters, introduced as a result of depth up-scaling (DUS), which is a method for scaling LLMs that encompasses depthwise scaling and continued pretraining.'"
      ]
     },
     "execution_count": 26,
     "metadata": {},
     "output_type": "execute_result"
    }
   ],
   "source": [
    "tool_rag(\"What is Solar llm?\")"
   ]
  },
  {
   "cell_type": "code",
   "execution_count": 27,
   "metadata": {},
   "outputs": [
    {
     "name": "stdout",
     "output_type": "stream",
     "text": [
      "[{'name': 'get_news', 'args': {'topic': 'Tesla'}, 'id': 'ed2fca01-b6cc-49cb-a949-ee32ce0e71e5'}]\n"
     ]
    },
    {
     "data": {
      "text/plain": [
       "'Tesla is in the news for various reasons. Here are some of the recent news articles about Tesla:\\n\\n1. The company has issued a voluntary recall for nearly 4,000 Cybertrucks because the accelerator pad could get trapped, pushing the car to full speed.\\n2. A federal report found that Tesla\\'s Autopilot system was involved in at least 13 fatal crashes in which drivers misused the system in ways the automaker should have foreseen and done more to prevent.\\n3. Tesla told investors that sales and revenue are down but that new \"more affordable vehicles\" will launch before mid-2025, sooner than originally planned.\\n4. The company is recalling around 3,878 Cybertruck vehicles due to a faulty accelerator pedal cover that could get dislodged and trapped by the interior rim.\\n5. Tesla is laying off more than 10% of its workforce, which CEO Elon Musk said was a difficult decision to reduce the company\\'s global headcount.\\n6. Climate protestors in Germany broke through police barricades on Friday, amid clashes between activists and law enforcement, near the grounds of a Tesla gigafactory.\\n7. A Tesla driver was charged with killing a motorcyclist after turning on Autopilot and browsing his phone.\\n8. Elon Musk laid off the Supercharger team after taking $17 million in federal charging grants.\\n9. A TikToker got locked inside of her Tesla Model 3 for 40 minutes in the hot sun while it was installing a software update, and as of this writing, her vehicle is still not driveable.\\n10. Tesla is planning to launch a ride-hailing service, similar to Uber.\\n11. The US Supreme Court dismissed Elon Musk\\'s appeal about a 2018 SEC settlement regarding his infamous \"funding secured\" tweet.\\n12. Elon Musk is visiting Beijing to discuss enabling autonomous driving mode on Tesla cars in China.\\n13. The company is facing an uphill battle in China after years of favorable treatment in the region.\\n14. Some Cybertruck owners are reporting issues they say occurred shortly after getting their new Tesla pickup.\\n15. Tesla has cleared key regulatory obstacles that had previously hindered the rollout of its self-driving software in China.\\n16. Tesla is facing new hurdles in China after years of favorable treatment in the region.\\n17. Tesla is continuing to cut deeper at the company, with workers posting about the latest wave on social media.\\n18. The company\\'s easy ride in China may be coming to an end.\\n19. Tesla is playing a brutal price game of \"how low can you go\" with its Chinese EV rivals.\\n20. Facebook co-founder accuses Tesla of being the next \"Enron\" and speculated that people \"are going to jail at the end.\"\\n21. Tesla is down half a dozen executives and leaders amid layoffs in the last month.\\n22. Elon Musk says Tesla needs a \"complete organizational overhaul\" to get to \"the next level\" amid mass layoffs at the company.\\n23. Tesla\\'s Superchargers are known for being the best, but the network\\'s growth is in question at the worst possible time.\\n24. Wedbush analysts say Tesla needs to focus on releasing a sub-$30,000 car in the next 18 months.\\n25. Tesla is again urging shareholders to approve CEO Elon Musk\\'s multibillion-dollar pay package that a Delaware judge vetoed.\\n26. Tesla wants to give Elon Musk a $55 billion pay package, which the company says is a \"matter of fundamental fairness and respect to our CEO.\"\\n27. The company is pulling out all the stops to get Elon Musk his $47 billion pay package.\\n28. Elon Musk really wants you to think Tesla still has a Supercharger plan.\\n29. Teslas would hesitate while making left turns on two-way streets in San Francisco\\'s Sunset District, a former Tesla employee told The Information.\\n30. Tesla may try to rehire some of the employees it laid off.\\n31. Tesla revoked internships weeks before start date, students say.\\n32. Tesla just launched a new souped-up Model 3 as it battles slumping sales.\\n33. The DoJ is reportedly investigating if Tesla committed securities or wire fraud in Autopilot probe.\\n34. GM wants to scoop up interns impacted by Tesla\\'s cuts, recruiter says.\\n35. Uber\\'s CEO says Tesla will need us for robotaxis.\\n36. Elon Musk is looking to deploy Tesla\\'s robotaxis in China, state media reports say.\\n37. Tesla just launched a new souped-up Model 3 as it battles slumping sales.\\n38. Tesla is blaming struggling EV sales on hybrid craze.\\n39. Elon Musk cancels trip to India as Tesla struggles at home.\\n40. Tesla layoffs impacted nearly 12% of its Texas staff.\\n41. Tesla\\'s layoff plans may not be confined to the US, with Reuters reporting jobcuts in China too, a major market for the EV maker.\\n42. Elon Musk isn\\'t even close to being done with his \\'absolutely hard core\\' slashing of Tesla\\'s headcount.\\n43. Tesla will ask shareholders to vote again on Elon Musk\\'s mammoth $47 billion pay package months after it was voided in court.\\n44. One economist says Elon Musk has turned Tesla into a meme stock.\\n45. Tesla layoffs have reportedly also hit its international offices.\\n46. Tesla Semi trucks in short supply for PepsiCo as its rivals use competing EV big rigs.\\n47. Elon Musk says Tesla still plans to grow Supercharging network after eliminating global team, but \\'at a slower pace\\'.\\n48. Tesla brought down the price of its FSD software, now called Supervised FSD, to $99. Elon Musk once said the price would increase.\\n49. Elon Musk gave Tesla investors the one thing they\\'ve been demanding — and it worked brilliantly.\\n50. Now\\'s the time for Elon Musk to reveal his Tesla rescue plan — if he has one.\\n51. Cybertruck owner calls for trend of sticking body parts in the frunk to end after his finger wound up in a splint.\\n52. Tesla to lay off more than 10 percent of its workers as sales slow.\\n53. A Tesla supplier says Elon Musk\\'s Supercharger layoffs were \\'a sharp kick in the pants\\'.\\n54. Elon Musk revealed when the Tesla Optimus Gen 2, the company\\'s humanoid robot, will be available for purchase.\\n55. Elon Musk\\'s wealth has crashed by $160 billion from its peak as Tesla\\'s problems pile up.\\n56. A Cybertruck owner\\'s video claiming a stuck accelerator pedal attracts the attention of US safety regulator.\\n57. The daily schedule of Elon Musk, from a morning donut to upping his sleep hours.\\n58. China is likely to hit back against US tariffs on electric vehicles, Wedbush\\'s Dan Ives says.\\n59. TikToker says she was trapped in 115-degree heat after her Tesla locked her inside during a software update.\\n60. The last thing Elon Musk wants right now is barrelling toward Tesla.\\n61. Live updates: Tesla to report quarterly earnings today after market close.\\n62. Elon Musk says he picked Tesla robotaxi\\'s August 8 launch date because it\\'s a lucky number in China.\\n63. Elon Musk will face intense competition if he tries to bring Tesla\\'s full self-driving technology to China.\\n64. Tesla stock set to surge 10% on Elon Musk\\'s China full self-driving \\'home run\\'.\\n65. Some Tesla owners just got a cool new update that makes loading their cars a lot easier.\\n66. Halo\\'s iconic Razorback comes to life with this Tesla Cybertruck wrap.\\n67. Musk\\'s visit to China was a much-needed win for both sides — and a snub to India.\\n68. Tesla\\'s chaotic layoffs leave employees nervous and wondering when the cuts will end.\\n69. Tesla slashes prices for cars and software after one of its toughest weeks yet.\\n70. Tesla is recalling almost 4,000 Cyber'"
      ]
     },
     "execution_count": 27,
     "metadata": {},
     "output_type": "execute_result"
    }
   ],
   "source": [
    "tool_rag(\"What is news about Tesla?\")"
   ]
  },
  {
   "cell_type": "code",
   "execution_count": 30,
   "metadata": {},
   "outputs": [
    {
     "name": "stdout",
     "output_type": "stream",
     "text": [
      "[{'name': 'internet_search', 'args': {'query': 'iPhone 13 spec'}, 'id': '470f191a-255e-4528-a4ed-8b3a8d6ed083'}]\n"
     ]
    },
    {
     "data": {
      "text/plain": [
       "'The iPhone 13 has a 6.1-inch display with a resolution of 2532 x 1170 pixels and a refresh rate of 60Hz. It is powered by the Apple A15 Bionic chipset and comes with 4GB of RAM. The iPhone 13 has a dual camera setup with 12MP sensors for both the primary and front-facing cameras. It has a 3240mAh battery and comes with 128GB of internal storage, which is not expandable. The phone is available in multiple colors including Starlight, Midnight, Blue, Pink, and Green.'"
      ]
     },
     "execution_count": 30,
     "metadata": {},
     "output_type": "execute_result"
    }
   ],
   "source": [
    "tool_rag(\"iPhone 13 spec?\")"
   ]
  },
  {
   "cell_type": "markdown",
   "metadata": {},
   "source": [
    "# Excercise\n",
    "Solar LLM is small, so it might not give the best results for complex tasks. For those, you can use larger LLMs like GPT-4. However, for quick answers and summaries, using a small size LLM like Solar can give better performance and efficiency.\n"
   ]
  }
 ],
 "metadata": {
  "kernelspec": {
   "display_name": ".venv",
   "language": "python",
   "name": "python3"
  },
  "language_info": {
   "codemirror_mode": {
    "name": "ipython",
    "version": 3
   },
   "file_extension": ".py",
   "mimetype": "text/x-python",
   "name": "python",
   "nbconvert_exporter": "python",
   "pygments_lexer": "ipython3",
   "version": "3.9.6"
  }
 },
 "nbformat": 4,
 "nbformat_minor": 2
}
