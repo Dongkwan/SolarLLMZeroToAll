{
 "cells": [
  {
   "cell_type": "markdown",
   "metadata": {},
   "source": [
    "## Smart RAG\n",
    "- Know what you know and what you don't know.\n"
   ]
  },
  {
   "cell_type": "code",
   "execution_count": 1,
   "metadata": {},
   "outputs": [],
   "source": [
    "! pip3 install -qU  markdownify  langchain-upstage rank_bm25"
   ]
  },
  {
   "cell_type": "code",
   "execution_count": 2,
   "metadata": {},
   "outputs": [],
   "source": [
    "\n",
    "%load_ext dotenv\n",
    "%dotenv\n",
    "# UPSTAGE_API_KEY"
   ]
  },
  {
   "cell_type": "code",
   "execution_count": 3,
   "metadata": {},
   "outputs": [],
   "source": [
    "import warnings\n",
    "\n",
    "warnings.filterwarnings(\"ignore\")"
   ]
  },
  {
   "cell_type": "code",
   "execution_count": 4,
   "metadata": {},
   "outputs": [],
   "source": [
    "from langchain_upstage import ChatUpstage\n",
    "\n",
    "llm = ChatUpstage()"
   ]
  },
  {
   "cell_type": "code",
   "execution_count": 5,
   "metadata": {},
   "outputs": [],
   "source": [
    "\n",
    "solar_summary = \"\"\"\n",
    "SOLAR 10.7B: Scaling Large Language Models with Simple yet Effective Depth Up-Scaling\n",
    "\n",
    "We introduce SOLAR 10.7B, a large language model (LLM) with 10.7 billion parameters, \n",
    "demonstrating superior performance in various natural language processing (NLP) tasks. \n",
    "Inspired by recent efforts to efficiently up-scale LLMs, \n",
    "we present a method for scaling LLMs called depth up-scaling (DUS), \n",
    "which encompasses depthwise scaling and continued pretraining.\n",
    "In contrast to other LLM up-scaling methods that use mixture-of-experts, \n",
    "DUS does not require complex changes to train and inference efficiently. \n",
    "We show experimentally that DUS is simple yet effective \n",
    "in scaling up high-performance LLMs from small ones. \n",
    "Building on the DUS model, we additionally present SOLAR 10.7B-Instruct, \n",
    "a variant fine-tuned for instruction-following capabilities, \n",
    "surpassing Mixtral-8x7B-Instruct. \n",
    "SOLAR 10.7B is publicly available under the Apache 2.0 license, \n",
    "promoting broad access and application in the LLM field.\n",
    "\"\"\""
   ]
  },
  {
   "cell_type": "code",
   "execution_count": 6,
   "metadata": {},
   "outputs": [],
   "source": [
    "# Tools\n",
    "from langchain_core.tools import tool\n",
    "import requests\n",
    "import os\n",
    "from tavily import TavilyClient\n",
    "\n",
    "tavily = TavilyClient(api_key=os.environ[\"TAVILY_API_KEY\"])\n",
    "\n",
    "\n",
    "@tool\n",
    "def solar_paper_search(query: str) -> str:\n",
    "    \"\"\"Query for research paper about solarllm, dus, llm and general AI.\n",
    "    If the query is about DUS, Upstage, AI related topics, use this.\n",
    "    \"\"\"\n",
    "    return solar_summary\n",
    "\n",
    "\n",
    "@tool\n",
    "def internet_search(query: str) -> str:\n",
    "    \"\"\"This is for query for internet search engine like Google.\n",
    "    Query for general topics.\n",
    "    \"\"\"\n",
    "    return tavily.search(query=query)\n",
    "\n",
    "\n",
    "@tool\n",
    "def get_news(topic: str) -> str:\n",
    "    \"\"\"Get latest news about a topic.\n",
    "    If users are more like recent news, use this.\n",
    "    \"\"\"\n",
    "    # https://newsapi.org/v2/everything?q=tesla&from=2024-04-01&sortBy=publishedAt&apiKey=API_KEY\n",
    "    # change this to request news from a real API\n",
    "    news_url = f\"https://newsapi.org/v2/everything?q={topic}&apiKey={os.environ['NEWS_API_KEY']}\"\n",
    "    respnse = requests.get(news_url)\n",
    "    return respnse.json()\n",
    "\n",
    "\n",
    "tools = [solar_paper_search, internet_search, get_news]\n",
    "\n",
    "\n",
    "llm_with_tools = llm.bind_tools(tools)"
   ]
  },
  {
   "cell_type": "code",
   "execution_count": 7,
   "metadata": {},
   "outputs": [],
   "source": [
    "def call_tool(tool_call):\n",
    "    tool_name = tool_call[\"name\"].lower()\n",
    "    if tool_name not in globals():\n",
    "        print(\"Tool not found\", tool_name)\n",
    "        return None\n",
    "    selected_tool = globals()[tool_name]\n",
    "    return selected_tool.invoke(tool_call[\"args\"])"
   ]
  },
  {
   "cell_type": "code",
   "execution_count": 8,
   "metadata": {},
   "outputs": [
    {
     "data": {
      "text/plain": [
       "[]"
      ]
     },
     "execution_count": 8,
     "metadata": {},
     "output_type": "execute_result"
    }
   ],
   "source": [
    "llm_with_tools.invoke(\"What is Solar LLM?\").tool_calls\n"
   ]
  },
  {
   "cell_type": "code",
   "execution_count": 9,
   "metadata": {},
   "outputs": [
    {
     "data": {
      "text/plain": [
       "[{'name': 'get_news',\n",
       "  'args': {'topic': 'Seoul'},\n",
       "  'id': '27afeab7-c37e-4620-b09d-9df4124a0e59'}]"
      ]
     },
     "execution_count": 9,
     "metadata": {},
     "output_type": "execute_result"
    }
   ],
   "source": [
    "llm_with_tools.invoke(\"What is news about Seoul\").tool_calls\n"
   ]
  },
  {
   "cell_type": "code",
   "execution_count": 10,
   "metadata": {},
   "outputs": [
    {
     "data": {
      "text/plain": [
       "[{'name': 'internet_search',\n",
       "  'args': {'query': 'Best place in Seoul'},\n",
       "  'id': 'bda41077-04a6-4e9d-b9e0-1bc4ab8118a3'}]"
      ]
     },
     "execution_count": 10,
     "metadata": {},
     "output_type": "execute_result"
    }
   ],
   "source": [
    "llm_with_tools.invoke(\"What's best place in Seoul?\").tool_calls\n"
   ]
  },
  {
   "cell_type": "code",
   "execution_count": 11,
   "metadata": {},
   "outputs": [],
   "source": [
    "from langchain_core.prompts import PromptTemplate\n",
    "from langchain_core.output_parsers import StrOutputParser\n",
    "\n",
    "\n",
    "prompt_template = PromptTemplate.from_template(\n",
    "    \"\"\"\n",
    "    Please provide answer for question from the following context. \n",
    "    ---\n",
    "    Question: {question}\n",
    "    ---\n",
    "    Context: {context}\n",
    "    \"\"\"\n",
    ")\n",
    "chain = prompt_template | llm | StrOutputParser()"
   ]
  },
  {
   "cell_type": "code",
   "execution_count": 12,
   "metadata": {},
   "outputs": [],
   "source": [
    "# Smart RAG, Self-Improving RAG\n",
    "import os\n",
    "from tavily import TavilyClient\n",
    "\n",
    "\n",
    "def tool_rag(question):\n",
    "    tool_calls = llm_with_tools.invoke(question).tool_calls\n",
    "    print(tool_calls)\n",
    "    context = \"\"\n",
    "    for tool_call in tool_calls:\n",
    "        context += str(call_tool(tool_call))\n",
    "\n",
    "    chain = prompt_template | llm | StrOutputParser()\n",
    "    return chain.invoke({\"context\": context, \"question\": question})"
   ]
  },
  {
   "cell_type": "code",
   "execution_count": 13,
   "metadata": {},
   "outputs": [
    {
     "name": "stdout",
     "output_type": "stream",
     "text": [
      "[]\n"
     ]
    },
    {
     "data": {
      "text/plain": [
       "'Solar Illumination is a company that develops and manufactures advanced solar energy systems for residential and commercial use. Their products include solar panels, solar batteries, and solar energy management systems, all designed to provide clean, renewable energy to homes and businesses.'"
      ]
     },
     "execution_count": 13,
     "metadata": {},
     "output_type": "execute_result"
    }
   ],
   "source": [
    "tool_rag(\"What is Solar llm?\")"
   ]
  },
  {
   "cell_type": "code",
   "execution_count": 14,
   "metadata": {},
   "outputs": [
    {
     "name": "stdout",
     "output_type": "stream",
     "text": [
      "[{'name': 'get_news', 'args': {'topic': 'Tesla'}, 'id': '215039f2-9ee6-41b9-a756-6284a9d0a86b'}]\n"
     ]
    },
    {
     "data": {
      "text/plain": [
       "'Here are the news about Tesla based on the provided context:\\n\\n1. Tesla has issued a voluntary recall for nearly 4,000 Cybertrucks due to a potential issue with the accelerator pedal.\\n2. Federal regulators concluded that Tesla\\'s Autopilot system lacked standard protections in an investigative report into crashes and deaths associated with the technology.\\n3. Tesla announced plans to launch \"more affordable vehicles\" and a \"Cybercab\" before mid-2025, sooner than originally planned.\\n4. Tesla has recalled all 3,878 Cybertrucks due to a faulty accelerator pedal.\\n5. Elon Musk is reportedly laying off hundreds more employees, including the majority of the Supercharging team.\\n6. Some Tesla Cybertruck buyers have reported delays in deliveries, with some claiming that an accelerator issue is to blame.\\n7. Tesla announced that it will lay off more than 10% of its global workforce.\\n8. Climate protestors broke through police barricades on Friday near a Tesla gigafactory in Germany.\\n9. The US Supreme Court rejected Elon Musk\\'s appeal in a case related to his \"funding secured\" tweet.\\n10. Tesla\\'s self-driving claims are under federal securities and wire fraud investigation.\\n11. Tesla\\'s profits dropped by 55% in the first quarter of 2024, and Elon Musk dodged questions about affordable cars during the earnings call.\\n12. Tesla is planning to launch a ride-hailing service.\\n13. Elon Musk is $36 billion richer since returning from his trip to China.\\n14. Some Cybertruck owners reported issues with the vehicle\\'s steering system within days of taking delivery.\\n15. Tesla is laying off more than 10% of its workforce, according to an internal memo.\\n16. Some of Tesla\\'s laid-off employees received new severance offers with higher pay and extra health insurance coverage.\\n17. Elon Musk gave a vague answer when asked if he plans to step back at Tesla in the next 3 years.\\n18. Tesla is laying off recruiters as part of its ongoing workforce reduction.\\n19. Tesla sent some laid-off employees new severance offers after Elon Musk said some were \"incorrectly low\" the first time.\\n20. Tesla is laying off its new marketing team months after launching it.\\n21. Tesla\\'s easy ride in China may be coming to an end as the company faces new hurdles in the region.\\n22. Tesla sent out another wave of layoff notices as employees entered the fourth week of job cuts.\\n23. Tesla\\'s brutal layoffs have caused chaos within the company.\\n24. Elon Musk has to quickly lay out what the layoffs mean, according to an analyst.\\n25. Tesla is shortening shifts on its Cybertruck line.\\n26. A Tesla executive said he resigned as recent layoffs hurt morale and threw the company \"out of balance.\"\\n27. Several Tesla executives have announced they are leaving the company since Elon Musk announced layoffs.\\n28. Tesla is playing a brutal price game of \"how low can you go\" with its Chinese EV rivals.\\n29. Facebook co-founder accuses Tesla of being the next \"Enron.\"\\n30. Elon Musk says Tesla needs a \"complete organizational overhaul\" to get to \"the next level\" amid mass layoffs at the company.\\n31. Tesla\\'s Supercharger changes are hurting the wider EV industry.\\n32. Tesla is pulling out all the stops to get Elon Musk his $47 billion pay package.\\n33. GM wants to scoop up interns impacted by Tesla\\'s cuts, recruiter says.\\n34. Uber\\'s CEO says Tesla will need Uber for robotaxis.\\n35. Elon Musk is looking to deploy Tesla\\'s robotaxis in China, state media reports say.\\n36. Tesla just launched a new souped-up Model 3 as it battles slumping sales.\\n37. The DoJ is reportedly investigating if Tesla committed securities or wire fraud in Autopilot probe.\\n38. GM wants to hire interns that had their offers rescinded by Tesla.\\n39. Tesla will ask shareholders to vote again on Elon Musk\\'s mammoth $55 billion pay package months after it was voided in court.\\n40. Californians appear to be losing enthusiasm for Tesla.\\n41. Elon Musk is looking to deploy Tesla\\'s robotaxis in China, state media reports say.\\n42. Tesla layoffs impacted nearly 12% of its Texas staff.\\n43. Elon Musk cancels trip to India as Tesla struggles at home.\\n44. Tesla is blaming struggling EV sales on hybrid craze.\\n45. Tesla will ask shareholders to vote again on Elon Musk\\'s mammoth $47 billion pay package months after it was voided in court.\\n46. One economist says Elon Musk has turned Tesla into a meme stock.\\n47. Tesla layoffs reportedly also hit its international offices.\\n48. Tesla Semi trucks in short supply for PepsiCo as its rivals use competing EV big rigs.\\n49. Elon Musk isn\\'t even close to being done with his \"absolutely hard core\" slashing of Tesla\\'s headcount.\\n50. Tesla plans to slow production of new Supercharging stations to focus on \"100% uptime and expansion of existing locations.\"\\n51. Tesla slashed the price of its Full Self-Driving software to $99 per month.\\n52. Cybertruck owner calls for trend of sticking body parts in the frunk to end after his finger wound up in a splint.\\n53. Elon Musk says Tesla still plans to grow Supercharging network after eliminating global team, but \\'at a slower pace\\'.\\n54. Elon Musk once said Tesla\\'s FSD would only get more expensive. The automaker just slashed the price to $99 a month.\\n55. Cybertruck owner says he was trapped in 115-degree heat after his Tesla locked him inside during a software update.\\n56. The UAW union victory at Volkswagen in Tennessee represents a turning point for the union as they gain strength to take on Tesla.\\n57. Tesla to report quarterly earnings today after market close.\\n58. Elon Musk says he picked Tesla robotaxi\\'s August 8 launch date because it\\'s a lucky number in China.\\n59. Elon Musk will face intense competition if he tries to bring Tesla\\'s full self-driving technology to China.\\n60. Elon Musk\\'s wealth has crashed by $160 billion from its peak as Tesla\\'s problems pile up.\\n61. A Cybertruck owner\\'s video claiming a stuck accelerator pedal attracts the attention of US safety regulator.\\n62. The daily schedule of Elon Musk, from a morning donut to upping his sleep hours.\\n63. China is likely to hit back against US tariffs on electric vehicles, Wedbush\\'s Dan Ives says.\\n64. Tesla stock set to surge 10% on Elon Musk\\'s China full self-driving \\'home run\\'.\\n65. Some Tesla owners just got a cool new update that makes loading their cars a lot easier.\\n66. Halo\\'s iconic Razorback comes to life with this Tesla Cybertruck wrap.\\n67. Musk\\'s visit to China was a much-needed win for both sides — and a snub to India.\\n68. Tesla\\'s chaotic layoffs leave employees nervous and wondering when the cuts will end.\\n69. Tesla slashes prices for cars and software after one of its toughest weeks yet.\\n70. Tesla is recalling almost 4,000 Cybertrucks over a fault that could cause the accelerator to jam open.\\n71. Tesla\\'s Mexico Gigafactory is still a key piece of the company\\'s future.\\n72. Elon Musk\\'s biggest booster says it might be \\'time to sleep on the floor\\' at Tesla.\\n73. I drove the Tesla Cybertruck. These 7 design flaws surprised me.\\n74. Cheap Musical Tesla Coil Put Through Its Paces.\\n75. Mark Zuckerberg overtakes Elon Musk as the world\\'s 3rd-richest person as their companies\\' stocks go in opposite directions.'"
      ]
     },
     "execution_count": 14,
     "metadata": {},
     "output_type": "execute_result"
    }
   ],
   "source": [
    "tool_rag(\"What is news about Tesla?\")"
   ]
  },
  {
   "cell_type": "code",
   "execution_count": 15,
   "metadata": {},
   "outputs": [
    {
     "name": "stdout",
     "output_type": "stream",
     "text": [
      "[{'name': 'internet_search', 'args': {'query': 'iPhone 13 spec'}, 'id': '6b7a00ee-2d33-410f-a727-a15733e28f8b'}]\n"
     ]
    },
    {
     "data": {
      "text/plain": [
       "'The iPhone 13 specs include:\\n\\n* Display: 6.1 inches with a resolution of 2532 x 1170 pixels and a 60Hz refresh rate\\n* Camera: 12 MP dual camera and a 12 MP front camera\\n* Hardware: Apple A15 Bionic chipset, 4GB RAM\\n* Storage: 128GB, not expandable\\n* Battery: 3240 mAh\\n* Size: 2.82 inches x 5.78 inches x 0.30 inches\\n* Weight: 6.14 ounces (174 grams)\\n\\nThe iPhone 13 is available in the following colors: (PRODUCT)RED, Starlight, Midnight, Blue, Pink, and Green. It has a Ceramic Shield front and a glass back and aluminum design.'"
      ]
     },
     "execution_count": 15,
     "metadata": {},
     "output_type": "execute_result"
    }
   ],
   "source": [
    "tool_rag(\"iPhone 13 spec?\")"
   ]
  },
  {
   "cell_type": "markdown",
   "metadata": {},
   "source": [
    "# Excercise\n",
    "Solar LLM is small, so it might not give the best results for complex tasks. For those, you can use larger LLMs like GPT-4. However, for quick answers and summaries, using a small size LLM like Solar can give better performance and efficiency.\n",
    "\n",
    "Please note that good engineering involves making things work with limited components.\n",
    "![Engineering](figures/engineering.jpg)"
   ]
  }
 ],
 "metadata": {
  "kernelspec": {
   "display_name": ".venv",
   "language": "python",
   "name": "python3"
  },
  "language_info": {
   "codemirror_mode": {
    "name": "ipython",
    "version": 3
   },
   "file_extension": ".py",
   "mimetype": "text/x-python",
   "name": "python",
   "nbconvert_exporter": "python",
   "pygments_lexer": "ipython3",
   "version": "3.9.6"
  }
 },
 "nbformat": 4,
 "nbformat_minor": 2
}
