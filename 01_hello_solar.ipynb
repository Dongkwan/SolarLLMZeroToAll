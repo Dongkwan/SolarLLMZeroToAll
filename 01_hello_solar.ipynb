{
 "cells": [
  {
   "cell_type": "code",
   "execution_count": 1,
   "metadata": {},
   "outputs": [],
   "source": [
    "! pip3 install -qU  markdownify  langchain-upstage  requests"
   ]
  },
  {
   "cell_type": "code",
   "execution_count": 2,
   "metadata": {},
   "outputs": [],
   "source": [
    "\n",
    "%load_ext dotenv\n",
    "%dotenv\n",
    "# set UPSTAGE_API_KEY"
   ]
  },
  {
   "cell_type": "code",
   "execution_count": 3,
   "metadata": {},
   "outputs": [],
   "source": [
    "import warnings\n",
    "\n",
    "warnings.filterwarnings(\"ignore\")"
   ]
  },
  {
   "cell_type": "code",
   "execution_count": 4,
   "metadata": {},
   "outputs": [
    {
     "name": "stdout",
     "output_type": "stream",
     "text": [
      "(\"I'm sorry, I'm not sure what you're asking for. Can you please provide more \"\n",
      " 'context or clarify your question?')\n"
     ]
    }
   ],
   "source": [
    "import os\n",
    "from openai import OpenAI\n",
    "from pprint import pprint\n",
    "\n",
    "client = OpenAI(\n",
    "    api_key=os.environ[\"UPSTAGE_API_KEY\"], base_url=\"https://api.upstage.ai/v1/solar\"\n",
    ")\n",
    "chat_result = client.chat.completions.create(\n",
    "    model=\"solar-1-mini-chat\",\n",
    "    messages=[\n",
    "        {\"role\": \"system\", \"content\": \"Can you tell me good place to vision in SF?\"},\n",
    "    ],\n",
    ")\n",
    "\n",
    "pprint(chat_result.choices[0].message.content)"
   ]
  },
  {
   "cell_type": "code",
   "execution_count": 5,
   "metadata": {},
   "outputs": [
    {
     "name": "stdout",
     "output_type": "stream",
     "text": [
      "('Sure, I can suggest you a few places to visit in Seoul for a scenic view. '\n",
      " 'Here are some of the best places to visit in Seoul for a scenic view:\\n'\n",
      " '\\n'\n",
      " '1. Namsan Tower: Namsan Tower is a communication and observation tower '\n",
      " 'located in central Seoul. It offers a panoramic view of the city and is a '\n",
      " 'popular spot for tourists.\\n'\n",
      " '2. Bukhansan National Park: Bukhansan National Park is a mountain range '\n",
      " 'located in the northern part of Seoul. It offers a scenic view of the city '\n",
      " 'and is a popular spot for hiking.\\n'\n",
      " '3. Seoul Sky: Seoul Sky is an observation deck located in the Lotte World '\n",
      " 'Tower. It offers a 360-degree view of the city and is the highest '\n",
      " 'observation deck in Korea.\\n'\n",
      " '4. Haeundae Beach: Haeundae Beach is a popular beach located in the southern '\n",
      " 'part of Seoul. It offers a scenic view of the ocean and is a popular spot '\n",
      " 'for swimming and sunbathing.\\n'\n",
      " '5. Gyeongbokgung Palace: Gyeongbokgung Palace is a palace located in central '\n",
      " 'Seoul. It offers a scenic view of the city and is a popular spot for '\n",
      " 'tourists.\\n'\n",
      " '\\n'\n",
      " 'These are just a few of the many places to visit in Seoul for a scenic view. '\n",
      " 'I hope this helps!')\n"
     ]
    }
   ],
   "source": [
    "chat_result = client.chat.completions.create(\n",
    "    model=\"solar-1-mini-chat\",\n",
    "    messages=[\n",
    "        {\"role\": \"system\", \"content\": \"Can you tell me good place to vision in Seoul?\"},\n",
    "    ],\n",
    ")\n",
    "\n",
    "pprint(chat_result.choices[0].message.content)"
   ]
  },
  {
   "cell_type": "code",
   "execution_count": 6,
   "metadata": {},
   "outputs": [
    {
     "data": {
      "text/plain": [
       "AIMessage(content=\"The best season to learn Korean depends on your personal preferences and goals. Here are some factors to consider:\\n\\n1. Time commitment: If you have a lot of free time, you can start learning Korean at any time. However, if you have a busy schedule, you may want to plan your studies around your free time.\\n2. Motivation: If you have a specific goal in mind, such as traveling to Korea or watching Korean dramas, you may be more motivated to learn during the season that aligns with your goal.\\n3. Availability of resources: If you're looking to take a Korean language course or find a language exchange partner, you may want to consider the availability of resources during different seasons.\\n4. Climate: If you're studying Korean in a country with a different climate than Korea, you may want to consider the season that aligns with Korea's climate to get a better sense of the language and culture.\\n\\nUltimately, the best season to learn Korean is the one that works best for you and your goals.\", response_metadata={'token_usage': {'completion_tokens': 226, 'prompt_tokens': 21, 'total_tokens': 247}, 'model_name': 'solar-1-mini-chat', 'system_fingerprint': None, 'finish_reason': 'stop', 'logprobs': None}, id='run-ec44f22c-3245-4a19-ab00-7cfc39fd49fa-0')"
      ]
     },
     "execution_count": 6,
     "metadata": {},
     "output_type": "execute_result"
    }
   ],
   "source": [
    "# Quick hello world\n",
    "from langchain_upstage import ChatUpstage\n",
    "\n",
    "llm = ChatUpstage()\n",
    "llm.invoke(\"What's the best season to get to Korean?\")"
   ]
  },
  {
   "cell_type": "code",
   "execution_count": 7,
   "metadata": {},
   "outputs": [
    {
     "data": {
      "text/plain": [
       "(1, 4096)"
      ]
     },
     "execution_count": 7,
     "metadata": {},
     "output_type": "execute_result"
    }
   ],
   "source": [
    "from langchain_upstage import UpstageEmbeddings\n",
    "\n",
    "embeddings_model = UpstageEmbeddings()\n",
    "embeddings = embeddings_model.embed_documents(\n",
    "    [\n",
    "        \"Whay is the best season to visit Korea?\",\n",
    "    ])\n",
    "\n",
    "len(embeddings), len(embeddings[0])"
   ]
  }
 ],
 "metadata": {
  "kernelspec": {
   "display_name": ".venv",
   "language": "python",
   "name": "python3"
  },
  "language_info": {
   "codemirror_mode": {
    "name": "ipython",
    "version": 3
   },
   "file_extension": ".py",
   "mimetype": "text/x-python",
   "name": "python",
   "nbconvert_exporter": "python",
   "pygments_lexer": "ipython3",
   "version": "3.9.6"
  }
 },
 "nbformat": 4,
 "nbformat_minor": 2
}
