{
 "cells": [
  {
   "cell_type": "code",
   "execution_count": 1,
   "metadata": {},
   "outputs": [],
   "source": [
    "! pip3 install -qU langchain-upstage  requests python-dotenv"
   ]
  },
  {
   "cell_type": "markdown",
   "metadata": {},
   "source": [
    "## UPSTAGE_API_KEY\n",
    "To obtain your Upstage API key, follow these steps:\n",
    "\n",
    "1. Visit the Upstage AI console at <https://console.upstage.ai>.\n",
    "2. Sign up for an account if you don't already have one.\n",
    "3. Log in to your account.\n",
    "4. Navigate to the API key section.\n",
    "5. Generate your API key.\n",
    "6. Copy the key and save it securely.\n",
    "\n",
    "![Console](./figures/console.upstage.ai.jpg)"
   ]
  },
  {
   "cell_type": "code",
   "execution_count": 2,
   "metadata": {},
   "outputs": [],
   "source": [
    "\n",
    "%load_ext dotenv\n",
    "%dotenv\n",
    "# set UPSTAGE_API_KEY in .env file\n",
    "# UPSTAGE_API_KEY=your_api_key"
   ]
  },
  {
   "cell_type": "code",
   "execution_count": 3,
   "metadata": {},
   "outputs": [],
   "source": [
    "import warnings\n",
    "\n",
    "warnings.filterwarnings(\"ignore\")"
   ]
  },
  {
   "cell_type": "code",
   "execution_count": 4,
   "metadata": {},
   "outputs": [
    {
     "name": "stdout",
     "output_type": "stream",
     "text": [
      "('Sure, here are some popular places to visit in San Francisco:\\n'\n",
      " '\\n'\n",
      " '1. Golden Gate Bridge: This iconic bridge is one of the most famous '\n",
      " 'landmarks in San Francisco. It offers stunning views of the San Francisco '\n",
      " 'Bay and the Pacific Ocean.\\n'\n",
      " '2. Alcatraz Island: This former federal prison is now a popular tourist '\n",
      " \"attraction. Visitors can take a ferry to the island and explore the prison's \"\n",
      " 'history and architecture.\\n'\n",
      " \"3. Fisherman's Wharf: This popular waterfront district is known for its \"\n",
      " \"seafood restaurants, street performers, and souvenir shops. It's also a \"\n",
      " 'great place to catch a glimpse of the San Francisco Bay and the Bay Bridge.\\n'\n",
      " \"4. Chinatown: San Francisco's Chinatown is the largest Chinese enclave \"\n",
      " \"outside of Asia. It's a vibrant neighborhood with traditional Chinese \"\n",
      " 'architecture, shops, and restaurants.\\n'\n",
      " '5. Union Square: This popular shopping and dining destination is located in '\n",
      " \"the heart of San Francisco. It's surrounded by high-end department stores, \"\n",
      " 'luxury hotels, and upscale restaurants.\\n'\n",
      " '6. Lombard Street: Known as the \"crookedest street in the world,\" Lombard '\n",
      " 'Street is a popular spot for tourists to take photos and enjoy the scenic '\n",
      " 'views.\\n'\n",
      " '7. The Painted Ladies: These colorful Victorian houses are a popular spot '\n",
      " 'for photo opportunities and are located in the Alamo Square neighborhood.\\n'\n",
      " '8. The Presidio: This former military base is now a national park and offers '\n",
      " 'hiking trails, scenic views, and historic buildings.\\n'\n",
      " '9. The Castro: This vibrant neighborhood is known for its LGBTQ+ community '\n",
      " 'and is home to a variety of bars, restaurants, and shops.\\n'\n",
      " '10. The Exploratorium: This interactive science museum is located on the '\n",
      " 'Embarcadero and offers a variety of hands-on exhibits and experiences for '\n",
      " 'all ages.')\n"
     ]
    }
   ],
   "source": [
    "import os\n",
    "from openai import OpenAI\n",
    "from pprint import pprint\n",
    "\n",
    "client = OpenAI(\n",
    "    api_key=os.environ[\"UPSTAGE_API_KEY\"], base_url=\"https://api.upstage.ai/v1/solar\"\n",
    ")\n",
    "chat_result = client.chat.completions.create(\n",
    "    model=\"solar-1-mini-chat\",\n",
    "    messages=[\n",
    "        {\"role\": \"system\", \"content\": \"Can you tell me good place to vision in SF?\"},\n",
    "    ],\n",
    ")\n",
    "\n",
    "pprint(chat_result.choices[0].message.content)"
   ]
  },
  {
   "cell_type": "code",
   "execution_count": 5,
   "metadata": {},
   "outputs": [
    {
     "name": "stdout",
     "output_type": "stream",
     "text": [
      "('Yes, I can help you with that. There are many places in Seoul to go for '\n",
      " 'vision correction. Here are some options to consider:\\n'\n",
      " '\\n'\n",
      " '1. Seoul National University Hospital: This is a large hospital in Seoul '\n",
      " 'that offers a range of vision correction procedures, including LASIK, PRK, '\n",
      " 'and refractive lens exchange.\\n'\n",
      " '2. Gangnam Severance Hospital: This hospital is also located in Seoul and '\n",
      " 'offers a range of vision correction procedures, including LASIK, PRK, and '\n",
      " 'refractive lens exchange.\\n'\n",
      " '3. Kyung Hee University Hospital at Gangdong: This hospital is located in '\n",
      " 'eastern Seoul and offers a range of vision correction procedures, including '\n",
      " 'LASIK, PRK, and refractive lens exchange.\\n'\n",
      " '4. Asan Medical Center: This hospital is located in central Seoul and offers '\n",
      " 'a range of vision correction procedures, including LASIK, PRK, and '\n",
      " 'refractive lens exchange.\\n'\n",
      " '5. Samsung Medical Center: This hospital is located in southern Seoul and '\n",
      " 'offers a range of vision correction procedures, including LASIK, PRK, and '\n",
      " 'refractive lens exchange.\\n'\n",
      " '\\n'\n",
      " \"It's always a good idea to do your own research and consult with a doctor to \"\n",
      " 'determine which option is best for you.')\n"
     ]
    }
   ],
   "source": [
    "chat_result = client.chat.completions.create(\n",
    "    model=\"solar-1-mini-chat\",\n",
    "    messages=[\n",
    "        {\"role\": \"system\", \"content\": \"Can you tell me good place to vision in Seoul?\"},\n",
    "    ],\n",
    ")\n",
    "\n",
    "pprint(chat_result.choices[0].message.content)"
   ]
  },
  {
   "cell_type": "code",
   "execution_count": 6,
   "metadata": {},
   "outputs": [
    {
     "data": {
      "text/plain": [
       "AIMessage(content=\"The best season to learn Korean depends on your personal preference and availability. However, many people find that the summer is a good time to start learning Korean because it's a time when many people have more free time and can dedicate themselves to learning a new language. Additionally, many Korean language schools and programs offer summer courses and intensive programs that can help you make rapid progress in your language learning.\", response_metadata={'token_usage': {'completion_tokens': 85, 'prompt_tokens': 21, 'total_tokens': 106}, 'model_name': 'solar-1-mini-chat', 'system_fingerprint': None, 'finish_reason': 'stop', 'logprobs': None}, id='run-32cec4b2-1880-4d9e-9c94-d05917def9ea-0')"
      ]
     },
     "execution_count": 6,
     "metadata": {},
     "output_type": "execute_result"
    }
   ],
   "source": [
    "# Quick hello world\n",
    "from langchain_upstage import ChatUpstage\n",
    "\n",
    "llm = ChatUpstage()\n",
    "llm.invoke(\"What's the best season to get to Korean?\")"
   ]
  },
  {
   "cell_type": "code",
   "execution_count": 7,
   "metadata": {},
   "outputs": [
    {
     "data": {
      "text/plain": [
       "(1, 4096)"
      ]
     },
     "execution_count": 7,
     "metadata": {},
     "output_type": "execute_result"
    }
   ],
   "source": [
    "from langchain_upstage import UpstageEmbeddings\n",
    "\n",
    "embeddings_model = UpstageEmbeddings()\n",
    "embeddings = embeddings_model.embed_documents(\n",
    "    [\n",
    "        \"Whay is the best season to visit Korea?\",\n",
    "    ])\n",
    "\n",
    "len(embeddings), len(embeddings[0])"
   ]
  }
 ],
 "metadata": {
  "kernelspec": {
   "display_name": ".venv",
   "language": "python",
   "name": "python3"
  },
  "language_info": {
   "codemirror_mode": {
    "name": "ipython",
    "version": 3
   },
   "file_extension": ".py",
   "mimetype": "text/x-python",
   "name": "python",
   "nbconvert_exporter": "python",
   "pygments_lexer": "ipython3",
   "version": "3.9.6"
  }
 },
 "nbformat": 4,
 "nbformat_minor": 2
}
