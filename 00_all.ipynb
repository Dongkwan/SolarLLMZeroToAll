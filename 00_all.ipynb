{
 "cells": [
  {
   "cell_type": "markdown",
   "metadata": {},
   "source": [
    "# Upstage Full Stack LLM with Langchain\n",
    "## Code to Understand approach"
   ]
  },
  {
   "cell_type": "code",
   "execution_count": 1,
   "metadata": {},
   "outputs": [
    {
     "name": "stdout",
     "output_type": "stream",
     "text": [
      "\u001b[33mWARNING: You are using pip version 21.2.4; however, version 24.0 is available.\n",
      "You should consider upgrading via the '/Library/Developer/CommandLineTools/usr/bin/python3 -m pip install --upgrade pip' command.\u001b[0m\n"
     ]
    }
   ],
   "source": [
    "! pip3 install -q openai langchain_community tiktoken langchain-upstage langchainhub faiss-cpu langchain python-dotenv tavily-python"
   ]
  },
  {
   "cell_type": "code",
   "execution_count": 2,
   "metadata": {},
   "outputs": [],
   "source": [
    "%load_ext dotenv\n",
    "%dotenv\n",
    "# UPSTAGE_API_KEY from https://console.upstage.ai/\n",
    "# TAVILY_API_KEY https://app.tavily.com\n",
    "# NEWS_API_KEY from https://newsapi.org/"
   ]
  },
  {
   "cell_type": "code",
   "execution_count": 3,
   "metadata": {},
   "outputs": [
    {
     "name": "stdout",
     "output_type": "stream",
     "text": [
      "ChatCompletion(id='220036b9-46f9-4452-a148-f6fe2124b934', choices=[Choice(finish_reason='stop', index=0, logprobs=None, message=ChatCompletionMessage(content=\"I'm sorry, but I don't see a specific question in your prompt. Could you please provide more information or clarify what you would like to know about Korea?\", role='assistant', function_call=None, tool_calls=None))], created=1714562781, model='upstage/solar-1-mini-chat-ko-0108', object='chat.completion', system_fingerprint=None, usage=CompletionUsage(completion_tokens=37, prompt_tokens=26, total_tokens=63))\n",
      "Message only:\n",
      "(\"I'm sorry, but I don't see a specific question in your prompt. Could you \"\n",
      " 'please provide more information or clarify what you would like to know about '\n",
      " 'Korea?')\n"
     ]
    }
   ],
   "source": [
    "import os\n",
    "from openai import OpenAI\n",
    "from pprint import pprint\n",
    "\n",
    "client = OpenAI(\n",
    "    api_key=os.environ[\"UPSTAGE_API_KEY\"], base_url=\"https://api.upstage.ai/v1/solar\"\n",
    ")\n",
    "response = client.chat.completions.create(\n",
    "    model=\"solar-1-mini-chat\",\n",
    "    messages=[\n",
    "        {\"role\": \"system\", \"content\": \"You are a helpful assistant.\"},\n",
    "        {\"role\": \"user\", \"content\": \"What about Korea?\"},\n",
    "    ],\n",
    ")\n",
    "pprint(response)\n",
    "print(\"Message only:\")\n",
    "pprint(response.choices[0].message.content)"
   ]
  },
  {
   "cell_type": "code",
   "execution_count": 4,
   "metadata": {},
   "outputs": [
    {
     "name": "stdout",
     "output_type": "stream",
     "text": [
      "ChatCompletion(id='960edd84-4c7a-42f2-8708-c6dadabca43b', choices=[Choice(finish_reason='stop', index=0, logprobs=None, message=ChatCompletionMessage(content=\"For Korea, it's Seoul.\", role='assistant', function_call=None, tool_calls=None))], created=1714562782, model='upstage/solar-1-mini-chat-ko-0108', object='chat.completion', system_fingerprint=None, usage=CompletionUsage(completion_tokens=10, prompt_tokens=55, total_tokens=65))\n",
      "Message only:\n",
      "\"For Korea, it's Seoul.\"\n"
     ]
    }
   ],
   "source": [
    "# few shots: examples or history\n",
    "response = client.chat.completions.create(\n",
    "    model=\"solar-1-mini-chat\",\n",
    "    messages=[\n",
    "        {\"role\": \"system\", \"content\": \"You are a helpful assistant.\"},\n",
    "        # examples\n",
    "        {\"role\": \"user\", \"content\": \"What is the capital of France?\"},\n",
    "        {\n",
    "            \"role\": \"assistant\",\n",
    "            \"content\": \"I know of it. It's Paris!!\",\n",
    "        },\n",
    "        # user input\n",
    "        {\"role\": \"user\", \"content\": \"What about Korea?\"},\n",
    "    ],\n",
    ")\n",
    "pprint(response)\n",
    "print(\"Message only:\")\n",
    "pprint(response.choices[0].message.content)"
   ]
  },
  {
   "cell_type": "code",
   "execution_count": 5,
   "metadata": {},
   "outputs": [
    {
     "name": "stderr",
     "output_type": "stream",
     "text": [
      "/Users/hunkim/Library/Python/3.9/lib/python/site-packages/urllib3/__init__.py:35: NotOpenSSLWarning: urllib3 v2 only supports OpenSSL 1.1.1+, currently the 'ssl' module is compiled with 'LibreSSL 2.8.3'. See: https://github.com/urllib3/urllib3/issues/3020\n",
      "  warnings.warn(\n"
     ]
    },
    {
     "name": "stdout",
     "output_type": "stream",
     "text": [
      "For Korea, you mean South Korea or North Korea?\n"
     ]
    }
   ],
   "source": [
    "# langchain, 1. llm defule, 2. prompt define, 3. chain, 4. chain.invoke\n",
    "\n",
    "# 1. define your favorate llm, solar\n",
    "from langchain_upstage import ChatUpstage\n",
    "llm= ChatUpstage()\n",
    "\n",
    "# 2. define chat prompt\n",
    "from langchain_core.prompts import ChatPromptTemplate\n",
    "rag_with_history_prompt = ChatPromptTemplate.from_messages(\n",
    "    [\n",
    "        (\"system\", \"You are a helpful assistant.\"),\n",
    "        (\"human\", \"What is the capital of France?\"),\n",
    "        (\"ai\", \"I know of it. It's Paris!!\"),\n",
    "        (\"human\", \"What about Korea?\"),\n",
    "    ]\n",
    ")\n",
    "\n",
    "# 3. define chain \n",
    "from langchain_core.output_parsers import StrOutputParser\n",
    "chain = rag_with_history_prompt | llm | StrOutputParser()\n",
    "\n",
    "# 4. invoke the chain\n",
    "response = chain.invoke({})\n",
    "print(response)"
   ]
  },
  {
   "cell_type": "code",
   "execution_count": 6,
   "metadata": {},
   "outputs": [
    {
     "name": "stdout",
     "output_type": "stream",
     "text": [
      "Korea is divided into two countries, North Korea and South Korea. The capital of South Korea is Seoul, and the capital of North Korea is Pyongyang.\n",
      "---\n",
      "I know that too! The capital of Japan is Tokyo.\n"
     ]
    }
   ],
   "source": [
    "# parameterized prompt template\n",
    "rag_with_history_prompt = ChatPromptTemplate.from_messages(\n",
    "    [\n",
    "        (\"system\", \"You are a helpful assistant.\"),\n",
    "        (\"human\", \"What is the capital of France?\"),\n",
    "        (\"ai\", \"I know of it. It's Paris!!\"),\n",
    "        (\"human\", \"What about {country}?\"),\n",
    "    ]\n",
    ")\n",
    "\n",
    "chain = rag_with_history_prompt | llm | StrOutputParser()\n",
    "\n",
    "# 4. invoke chain with param\n",
    "print(chain.invoke({\"country\": \"Korea\"}))\n",
    "print(\"---\")\n",
    "print(chain.invoke({\"country\": \"Japan\"}))"
   ]
  },
  {
   "cell_type": "code",
   "execution_count": 7,
   "metadata": {},
   "outputs": [
    {
     "name": "stdout",
     "output_type": "stream",
     "text": [
      "The capital of South Korea is Seoul.\n"
     ]
    }
   ],
   "source": [
    "from langchain_core.prompts import ChatPromptTemplate, MessagesPlaceholder\n",
    "\n",
    "# More general chat\n",
    "rag_with_history_prompt = ChatPromptTemplate.from_messages(\n",
    "    [\n",
    "        (\"system\", \"You are a helpful assistant.\"),\n",
    "        MessagesPlaceholder(variable_name=\"history\"),\n",
    "        (\"human\", \"{input}\"),\n",
    "    ]\n",
    ")\n",
    "\n",
    "from langchain_core.messages import AIMessage, HumanMessage\n",
    "\n",
    "history = [\n",
    "    HumanMessage(\"What is the capital of France?\"),\n",
    "    AIMessage(\"It's Paris!!\"),\n",
    "]\n",
    "\n",
    "chain = rag_with_history_prompt | llm | StrOutputParser()\n",
    "response = chain.invoke({\"history\": history, \"input\": \"What about Korea?\"})\n",
    "print(response)"
   ]
  },
  {
   "cell_type": "code",
   "execution_count": 8,
   "metadata": {},
   "outputs": [],
   "source": [
    "from langchain_upstage import (\n",
    "    UpstageLayoutAnalysisLoader,\n",
    "    UpstageGroundednessCheck,\n",
    "    ChatUpstage,\n",
    "    UpstageEmbeddings,\n",
    ")\n",
    "from langchain_community.vectorstores import FAISS\n",
    "from langchain.text_splitter import RecursiveCharacterTextSplitter\n",
    "\n",
    "\n",
    "layzer = UpstageLayoutAnalysisLoader(\"./solar_paper_sample.pdf\", output_type=\"html\")\n",
    "# For improved memory efficiency, consider using the lazy_load method to load documents page by page.\n",
    "docs = layzer.load()  # or layzer.lazy_load()"
   ]
  },
  {
   "cell_type": "code",
   "execution_count": 9,
   "metadata": {},
   "outputs": [
    {
     "name": "stdout",
     "output_type": "stream",
     "text": [
      "(\"<table id='0' \"\n",
      " \"style='font-size:14px'><thead></thead><tbody><tr><td>Model</td><td>Alpaca-GPT4</td><td>OpenOrca</td><td>Synth. \"\n",
      " 'Math-Instruct</td><td>H6 '\n",
      " '(Avg.)</td><td>ARC</td><td>HellaSwag</td><td>MMLU</td><td>TruthfulQA</td><td>Winogrande</td><td>GSM8K</td></tr><tr><td>SFT '\n",
      " 'v1</td><td>0</td><td>X</td><td>X</td><td>69.15</td><td>67.66</td><td>86.03</td><td>65.88</td><td>60.12</td><td>82.95</td><td>52.24</td></tr><tr><td>SFT '\n",
      " 'v2</td><td>0</td><td>O</td><td>X</td><td>69.21</td><td>65.36</td><td>85.39</td><td>65.93</td><td>58.47</td><td>82.79</td><td>57.32</td></tr><tr><td>SFT '\n",
      " 'v3</td><td>0</td><td>O</td><td>O</td><td>70.03</td><td>65.87</td><td>85.55</td><td>65.31</td><td>57.93</td><td>81.37</td><td>64.14</td></tr><tr><td>SFT '\n",
      " 'v4</td><td>0</td><td>X</td><td>0</td><td>70.88</td><td>67.32</td><td>85.87</td><td>65.87</td><td>58.97</td><td>82.48</td><td>64.75</td></tr><tr><td>SFT '\n",
      " 'v3 + '\n",
      " 'v4</td><td>0</td><td>0</td><td>0</td><td>71.11</td><td>67.32</td><td>85.96</td><td>65.95</td><td>58.80</td><td>82.08</td><td>66.57</td></tr></tbody></table><table '\n",
      " \"id='2' \"\n",
      " \"style='font-size:14px'><thead></thead><tbody><tr><td>Model</td><td>Ultrafeedback \"\n",
      " 'Clean</td><td>Synth. Math-Alignment</td><td>H6 '\n",
      " '(Avg.)</td><td>ARC</td><td>HellaSwag</td><td>MMLU</td><td>TruthfulQA</td><td>Winogrande</td><td>GSM8K</td></tr><tr><td>DPO '\n",
      " 'v1</td><td></td><td></td><td>73.06</td><td>71.42</td><td>88.49</td><td>66.14</td><td>72.04</td><td>81.45</td><td>58.83</td></tr><tr><td>DPO '\n",
      " 'v2</td><td></td><td></td><td>73.42</td><td>71.50</td><td>88.28</td><td>65.97</td><td>71.71</td><td>82.79</td><td>60.27</td></tr><tr><td>DPO '\n",
      " 'v1+v2</td><td></td><td></td><td>73.21</td><td>71.33</td><td>88.36</td><td>65.92</td><td>72.65</td><td>82.79</td><td>58.23</td></tr></tbody><caption '\n",
      " \"id='1' style='font-size:16px'>Table 3: Ablation studies on the different \"\n",
      " \"datasets used for instruction tuning. 'SFT v3+v4' indicates that the \"\n",
      " \"model<br>is merged from 'SFT v3' and 'SFT v4' by simply averaging the model \"\n",
      " 'weights. The best scores for H6 and the<br>individual tasks are shown in '\n",
      " \"bold.</caption></table><table id='4' \"\n",
      " \"style='font-size:16px'><thead></thead><tbody><tr><td>Model</td><td>Base SFT \"\n",
      " 'Model</td><td>H6 '\n",
      " '(Avg.)</td><td>ARC</td><td>HellaSwag</td><td>MMLU</td><td>TruthfulQA</td><td>Winogrande</td><td>GSM8K</td></tr><tr><td>DPO '\n",
      " 'v2</td><td>SFT '\n",
      " 'v3</td><td>73.42</td><td>71.50</td><td>88.28</td><td>65.97</td><td>71.71</td><td>82.79</td><td>60.27</td></tr><tr><td>DPO '\n",
      " 'v3</td><td>SFT v3 + '\n",
      " 'v4</td><td>73.58</td><td>71.33</td><td>88.08</td><td>65.39</td><td>72.45</td><td>81.93</td><td>62.32</td></tr></tbody><caption '\n",
      " \"id='3' style='font-size:16px'>Table 4: Ablation studies on the different \"\n",
      " \"datasets used during the direct preference optimization (DPO) stage.<br>'SFT \"\n",
      " \"v3' is used as the SFT base model for DPO. We name ablated models with the \"\n",
      " \"'DPO' prefix to indicate the<br>alignment tuning stage. 'DPO v1+v2' \"\n",
      " \"indicates that the model is merged from 'DPO v1' and 'DPO v2' by \"\n",
      " 'simply<br>averaging the model weights. The best scores for H6 and the '\n",
      " \"individual tasks are shown in bold.</caption></table><p id='5' \"\n",
      " \"style='font-size:16px'>Table 5: Ablation studies on the different SFT base \"\n",
      " 'models used during the direct preference optimization (DPO)<br>stage. '\n",
      " 'Ultrafeedback Clean and Synth. Math-Alignment datasets are used. We name '\n",
      " \"ablated models with the 'DPO'<br>prefix to indicate the alignment tuning \"\n",
      " 'stage. The best scores for H6 and the individual tasks are shown in '\n",
      " \"bold.</p><p id='6' style='font-size:20px'>When we add the OpenOrca dataset \"\n",
      " \"to train the<br>second ablated model, 'SFT v2', the resulting H6<br>score is \"\n",
      " \"69.21, which is little change from 69.15 of<br>'SFT v1'. However, the task \"\n",
      " \"scores vary more as<br>'SFT v2' gets a substantially higher GSM8K \"\n",
      " \"score<br>of 57.32 compared to 52.24 of 'SFT v1' but also<br>gets noticeably \"\n",
      " 'lower scores across the board for<br>ARC, HellaSwag, and TruthfulQA. This '\n",
      " 'seems to<br>indicate that using OpenOrca results in a model that<br>behaves '\n",
      " \"differently from using only Alpaca-GPT4.</p><p id='7' \"\n",
      " \"style='font-size:20px'>Second, we investigate whether Synth. \"\n",
      " \"Math-<br>Instruct dataset is beneficial. For 'SFT v3', we<br>add the Synth. \"\n",
      " 'Math-Instruct dataset, which boosts<br>GSM8K scores to 64.14 and achieves '\n",
      " 'comparable<br>scores for the other tasks. Interestingly, when we<br>add the '\n",
      " \"Synth. Math-Instruct dataset to 'SFT v1'<br>to train 'SFT v4' , we get our \"\n",
      " \"highest H6 score of<br>70.88 with higher scores than 'SFT v3' for all \"\n",
      " 'tasks.<br>From the above, we can see that adding the Synth.<br>Math-Instruct '\n",
      " \"dataset is helpful.</p><p id='8' style='font-size:20px'>Lastly, we see \"\n",
      " 'whether merging models trained<br>with and without OpenOrca can boost '\n",
      " 'performance.<br>In the first analysis, we saw that using OpenOrca '\n",
      " 're-<br>sulted in a model that behaved differently from the<br>model that was '\n",
      " \"trained without OpenOrca. Build-<br>ing on this intuition, we merge 'SFT v3' \"\n",
      " \"and 'SFT<br>v4' as they are the best-performing models with</p><br><p id='9' \"\n",
      " \"style='font-size:20px'>and without OpenOrca. To our surprise, the \"\n",
      " \"result-<br>ing merged model 'SFT v3+v4' retains the high<br>scores for \"\n",
      " \"non-GSM8K tasks from 'SFT v4' but<br>also achieves a higher GSM8K score than \"\n",
      " \"'SFT v3'<br>or 'SFT v4'. Thus, we see that merging models<br>that specialize \"\n",
      " 'in different tasks is a promising way<br>to obtain a model that performs '\n",
      " \"well generally.</p><p id='10' style='font-size:22px'>4.3.2 Alignment \"\n",
      " \"Tuning</p><br><p id='11' style='font-size:20px'>As we utilize sDPO for \"\n",
      " 'practical alignment tun-<br>ing, there are additional aspects to ablate such '\n",
      " 'as<br>the SFT base models used. Thus, we present ab-<br>lations for the '\n",
      " 'different training datasets used for<br>training, the different SFT base '\n",
      " 'models to initialize<br>the sDPO training, and finally, the model '\n",
      " \"merging<br>strategy to obtain the final alignment-tuned model.</p><p id='12' \"\n",
      " \"style='font-size:20px'>Ablation on the training datasets. We ablate \"\n",
      " 'on<br>the different alignment datasets used during DPO<br>in Tab. 4. We use '\n",
      " \"'SFT v3' as the SFT base model<br>for DPO. 'DPO v1' only uses the \"\n",
      " \"Ultrafeedback<br>Clean dataset while 'DPO v2' also used the \"\n",
      " \"Synth.<br>Math-Alignment dataset.</p><br><p id='13' \"\n",
      " \"style='font-size:18px'>First, we test how Ultrafeedback Clean and<br>Synth. \"\n",
      " \"Math-Alignment impacts model perfor-<br>mance. For 'DPO v1' , it achieves \"\n",
      " '73.06 in H6,<br>which is a substantial boost from the SFT base<br>model '\n",
      " \"score of 70.03. However, we note that while</p><table id='14' \"\n",
      " \"style='font-size:14px'><thead></thead><tbody><tr><td>Model</td><td>H6 \"\n",
      " '(Avg.)</td><td>ARC</td><td>HellaSwag</td><td>MMLU</td><td>TruthfulQA</td><td>Winogrande</td><td>GSM8K</td></tr><tr><td>Cand. '\n",
      " '1</td><td>73.73</td><td>70.48</td><td>87.47</td><td>65.73</td><td>70.62</td><td>81.53</td><td>66.57</td></tr><tr><td>Cand. '\n",
      " '2</td><td>73.28</td><td>71.59</td><td>88.39</td><td>66.14</td><td>72.50</td><td>81.99</td><td>59.14</td></tr></tbody></table><table '\n",
      " \"id='16' \"\n",
      " \"style='font-size:14px'><thead></thead><tbody><tr><td>Model</td><td>Merge \"\n",
      " 'Method</td><td>H6 '\n",
      " '(Avg.)</td><td>ARC</td><td>HellaSwag</td><td>MMLU</td><td>TruthfulQA</td><td>Winogrande</td><td>GSM8K</td></tr><tr><td>Merge '\n",
      " 'v1</td><td>Average (0.5, '\n",
      " '0.5)</td><td>74.00</td><td>71.16</td><td>88.01</td><td>66.14</td><td>71.71</td><td>82.08</td><td>64.90</td></tr><tr><td>Merge '\n",
      " 'v2</td><td>Average (0.4, '\n",
      " '0.6)</td><td>73.93</td><td>71.08</td><td>88.08</td><td>66.27</td><td>71.89</td><td>81.77</td><td>64.52</td></tr><tr><td>Merge '\n",
      " 'v3</td><td>Average (0.6, '\n",
      " '0.4)</td><td>74.05</td><td>71.08</td><td>87.88</td><td>66.13</td><td>71.61</td><td>82.08</td><td>65.50</td></tr><tr><td>Merge '\n",
      " 'v4</td><td>SLERP</td><td>73.96</td><td>71.16</td><td>88.03</td><td>66.25</td><td>71.79</td><td>81.93</td><td>64.59</td></tr></tbody><caption '\n",
      " \"id='15' style='font-size:16px'>Table 6: Performance comparison amongst the \"\n",
      " \"merge candidates. 'Cand. 1' and 'Cand. 2' are trained using the<br>same \"\n",
      " \"setting as 'DPO v2' and 'DPO v3' , respectively, but with slightly different \"\n",
      " 'hyper-parameters. The best scores<br>for H6 and the individual tasks are '\n",
      " \"shown in bold.</caption></table><caption id='17' \"\n",
      " \"style='font-size:16px'>Table 7: Ablation studies on the different merge \"\n",
      " \"methods used for obtaining the final model. We use 'Cand. 1'<br>and 'Cand. \"\n",
      " \"2' from Tab. 6 as our two models for merging. We name the merged models with \"\n",
      " \"the 'Merge' prefix to<br>indicate they are merged. The best scores for H6 \"\n",
      " \"and the individual tasks are shown in bold.</caption><p id='18' \"\n",
      " \"style='font-size:22px'>scores for tasks like ARC, HellaSwag, and \"\n",
      " 'Truth-<br>fulQA all improved by good margins, the score<br>for GSM8K is '\n",
      " '58.83, which is lower than the<br>SFT base model score of 64.14. Adding '\n",
      " \"Synth.<br>Math-Alignment to train 'DPO v2', we see that<br>the GSM8k score \"\n",
      " 'improves to 60.27, which is<br>lower than the SFT base model but still '\n",
      " \"higher<br>than 'DPO v1' Other task scores are also not nega-<br>tively \"\n",
      " 'impacted by adding Synth. Math-Alignment.<br>Thus, we can conclude that '\n",
      " \"adding Synth. Math-<br>Alignment is beneficial for H6.</p><br><p id='19' \"\n",
      " \"style='font-size:20px'>Then, we experiment whether merging 'DPO<br>v1' and \"\n",
      " \"'DPO v2' is beneficial. Unfortunately,<br>'DPO v1+v2' scores 73.21 in H6, \"\n",
      " \"which is worse<br>than 'DPO v2'. More importantly, the gain in<br>the GSM8K \"\n",
      " 'score from adding Synth. Math-<br>Alignment is gone, which is undesirable. '\n",
      " \"One<br>reason for this could be that 'DPO v2' is a strict<br>improvement \"\n",
      " \"over 'DPO v1' , unlike the case for<br>merging 'SFT v3' and 'SFT v4' where \"\n",
      " \"the models<br>had different strengths and weaknesses.</p><p id='20' \"\n",
      " \"style='font-size:20px'>Ablation on the SFT base models. When ap-<br>plying \"\n",
      " 'DPO, we start from a model that is already<br>instruction tuned ,i.e., the '\n",
      " 'SFT base model and ab-<br>late on using different SFT base models. We '\n",
      " 'use<br>Ultrafeedback Clean and Synth. Math-Alignment<br>datasets for this '\n",
      " \"ablation. Each of the ablated mod-<br>els is trained as follows. 'DPO v2' \"\n",
      " \"uses 'SFT v3'<br>as the base SFT model, while 'DPO v3' uses 'SFT<br>v3+v4' \"\n",
      " \"as the SFT base model instead.</p><br><p id='21' style='font-size:20px'>Note \"\n",
      " \"that 'SFT v3+v4' has higher scores on all<br>tasks compared to 'SFT v3' , \"\n",
      " 'and the gap is espe-<br>cially large for ARC (+1.45) and GSM8K '\n",
      " '(+2.43).<br>Surprisingly, the two models perform similarly in<br>terms of '\n",
      " \"H6. A closer look at the scores for the</p><br><p id='22' \"\n",
      " \"style='font-size:20px'>individual tasks shows only a small margin in \"\n",
      " 'the<br>GSM8K scores, and other task scores show little<br>difference. Thus, '\n",
      " 'the performance gaps in certain<br>tasks in the SFT base models do not '\n",
      " \"always carry<br>over to the alignment-tuned models.</p><p id='23' \"\n",
      " \"style='font-size:18px'>Ablation on different merge methods. From</p><br><p \"\n",
      " \"id='24' style='font-size:20px'>Tab. 3, we saw that merging two models that \"\n",
      " 'have<br>different strengths can be beneficial to performance.<br>To utilize '\n",
      " 'this for the alignment-tuned model as<br>well, we train two models named '\n",
      " \"'Cand. 1' and<br>'Cand. 2' using the same training dataset and SFT<br>base \"\n",
      " \"model as 'DPO v2' and 'DPO v3' but with dif-<br>ferent hyper-parameters to \"\n",
      " \"maximize each model's<br>respective strengths. We compare 'Cand. 1' \"\n",
      " \"and<br>'Cand. 2' in Tab. 6 where we can see that 'Cand. 1'<br>has high GSM8K \"\n",
      " \"scores but relatively low scores<br>for the other tasks, whereas 'Cand. 2' \"\n",
      " 'has low<br>scores for GSM8K but high scores for the other<br>tasks. We merge '\n",
      " 'these two models using various<br>methods and ablate the results in Tab.. '\n",
      " \"7.</p><p id='25' style='font-size:20px'>We use two merge methods: 1) Average \"\n",
      " \"(a, b),<br>where a and b denote the weighting for 'Cand.<br>1' and 'Cand. 2' \"\n",
      " 'when averaging weights and 2)<br>SLERP (Shoemake, 1985). We use (0.5, 0.5), '\n",
      " '(0.4,<br>0.6), and (0.6, 0.4) for Average (a, b). From Tab. 7,<br>we can see '\n",
      " 'that the different merge methods have<br>little effect on the H6 scores. The '\n",
      " 'scores for the<br>individual tasks also do not differ by much, '\n",
      " 'suggest-<br>ing that as long as the merge candidates have suffi-<br>ciently '\n",
      " 'different strengths, the exact merge method<br>may not be as crucial. Thus, '\n",
      " \"we chose 'Merge v1'<br>as our SOLAR 10.7B-Instruct model.</p>\")\n"
     ]
    }
   ],
   "source": [
    "for doc in docs:\n",
    "    pprint(doc.page_content)"
   ]
  },
  {
   "cell_type": "code",
   "execution_count": 10,
   "metadata": {},
   "outputs": [
    {
     "name": "stdout",
     "output_type": "stream",
     "text": [
      "RESPONSE1\n",
      " It seems that the performance comparison amongst the merge candidates is presented in Table 6. The candidates are 'Merge v1', 'Merge v2', 'Merge v3', and 'Merge v4'. The best scores for H6 and the individual tasks are shown in bold. The best candidate for H6 is 'Merge v3' with a score of 74.0, which is higher than the other candidates.\n"
     ]
    }
   ],
   "source": [
    "# More general chat\n",
    "rag_with_history_prompt = ChatPromptTemplate.from_messages(\n",
    "    [\n",
    "        (\n",
    "            \"system\",\n",
    "            \"\"\"\n",
    "You are an assistant for question-answering tasks. \n",
    "Use the following pieces of retrieved context to answer the question considering the history of the conversation. \n",
    "If you don't know the answer, just say that you don't know. \n",
    "---\n",
    "CONTEXT:\n",
    "{context}\n",
    "         \"\"\",\n",
    "        ),\n",
    "        MessagesPlaceholder(variable_name=\"history\"),\n",
    "        (\"human\", \"{input}\"),\n",
    "    ]\n",
    ")\n",
    "\n",
    "from langchain_core.messages import AIMessage, HumanMessage\n",
    "\n",
    "history = [\n",
    "]\n",
    "\n",
    "chain = rag_with_history_prompt | llm | StrOutputParser()\n",
    "query1 = \"Performance comparison amongst the merge candidate\"\n",
    "response1 = chain.invoke({\"history\": history, \"context\": docs, \"input\": query1})\n",
    "print(\"RESPONSE1\\n\", response1)\n"
   ]
  },
  {
   "cell_type": "code",
   "execution_count": 11,
   "metadata": {},
   "outputs": [
    {
     "name": "stdout",
     "output_type": "stream",
     "text": [
      "RESPONSE2\n",
      " Ablation studies are presented in Table 3, Table 4, Table 6 and Table 7.\n",
      "\n",
      "\n",
      "* Table 3 presents the ablation studies on the different datasets used for instruction tuning. It shows the effect of adding the OpenOrca and Synth. Math-Instruct datasets to SFT v1 and SFT v3, respectively, and the combination of SFT v3 and SFT v4.\n",
      "* Table 4 presents the ablation studies on the different SFT base models used during the direct preference optimization (DPO) stage. It uses 'SFT v3' as the SFT base model for DPO and compares the performance of 'DPO v1' and 'DPO v2' with different alignment datasets used during DPO.\n",
      "* Table 6 presents the performance comparison amongst the merge candidates. It compares 'Cand. 1' and 'Cand. 2' trained using the same setting as 'DPO v2' and 'DPO v3' respectively, but with slightly different hyper-parameters, and different merge methods.\n",
      "* Table 7 presents the ablation studies on the different merge methods used for obtaining the final model. It uses 'Cand. 1' and 'Cand. 2' from Table 6 as the models for merging and compares the performance of the merged models using different methods. The best scores for H6 and the individual tasks are shown in bold.\n"
     ]
    }
   ],
   "source": [
    "history = [\n",
    "    HumanMessage(query1),\n",
    "    AIMessage(response1)\n",
    "]\n",
    "query2 = \"How about Ablation studies?\"\n",
    "response2 = chain.invoke({\"history\": history, \"context\": docs, \"input\": query2})\n",
    "print(\"RESPONSE2\\n\", response2)"
   ]
  },
  {
   "cell_type": "code",
   "execution_count": 12,
   "metadata": {},
   "outputs": [],
   "source": [
    "# Let's load something big\n",
    "layzer = UpstageLayoutAnalysisLoader(\"./solar_paper.pdf\", output_type=\"html\")\n",
    "# For improved memory efficiency, consider using the lazy_load method to load documents page by page.\n",
    "docs = layzer.load()  # or layzer.lazy_load()"
   ]
  },
  {
   "cell_type": "code",
   "execution_count": 13,
   "metadata": {},
   "outputs": [
    {
     "name": "stdout",
     "output_type": "stream",
     "text": [
      "Error Error code: 400 - {'error': {'message': \"This model's maximum context length is 16384 tokens. However, your messages resulted in 21357 tokens. Please reduce the length of the messages.\", 'type': 'invalid_request_error', 'param': 'messages', 'code': 'context_length_exceeded'}}\n"
     ]
    }
   ],
   "source": [
    "chain = rag_with_history_prompt | llm | StrOutputParser()\n",
    "query1 = \"What is DUS? WHy it's good?\"\n",
    "try:\n",
    "    response1 = chain.invoke({\"history\": history, \"context\": docs, \"input\": query1})\n",
    "    print(response)\n",
    "except Exception as e:\n",
    "    print(\"Error\", e)"
   ]
  },
  {
   "cell_type": "code",
   "execution_count": 14,
   "metadata": {},
   "outputs": [
    {
     "name": "stdout",
     "output_type": "stream",
     "text": [
      "Splits: 132\n",
      "page_content=\"al., 2023).</p><br><p id='133' style='font-size:14px'>Departing from the horizontal expansion char-<br>acteristic of MoE models, the DUS method intro-</p><p id='134' style='font-size:16px'>duces model scaling in the vertical dimension. No-<br>tably, DUS does not introduce dynamism in the<br>scaled model, which significantly reduces the com-<br>plexity when compared to MoE. This shift in ap-<br>proach offers a unique and more straightforward<br>way of working, moving away from\" metadata={'total_pages': 10, 'type': 'html', 'split': 'none'}\n"
     ]
    }
   ],
   "source": [
    "# RAG 1. load doc (done), 2. chunking, splits, 3. embeding - indexing, 4. retrieve \n",
    "\n",
    "# 2. Split\n",
    "text_splitter = RecursiveCharacterTextSplitter(chunk_size=500, chunk_overlap=100)\n",
    "splits = text_splitter.split_documents(docs)\n",
    "print(\"Splits:\", len(splits))\n",
    "\n",
    "# 3. Embed & indexing\n",
    "vectorstore = FAISS.from_documents(documents=splits, embedding=UpstageEmbeddings())\n",
    "retriever = vectorstore.as_retriever(k=10)\n",
    "\n",
    "# 4. retrive\n",
    "result_docs = retriever.invoke(\"What is DUS?\")\n",
    "print(result_docs[1])"
   ]
  },
  {
   "cell_type": "code",
   "execution_count": 15,
   "metadata": {},
   "outputs": [
    {
     "name": "stdout",
     "output_type": "stream",
     "text": [
      "DUS stands for Depth Up-Scaling. It is a method of introducing model scaling in the vertical dimension, departing from the horizontal expansion characteristic of MoE models. DUS does not introduce dynamism in the scaled model, which significantly reduces the complexity when compared to MoE. It offers a unique and more straightforward way of working, moving away from the typical approach of adding more layers in the horizontal dimension.\n"
     ]
    }
   ],
   "source": [
    "# Finally query using RAG\n",
    "query = \"What is DUS?\"\n",
    "result_docs = retriever.invoke(query)\n",
    "\n",
    "response = chain.invoke({\"history\": history, \"context\": result_docs, \"input\": query})\n",
    "print(response)"
   ]
  },
  {
   "cell_type": "code",
   "execution_count": 16,
   "metadata": {},
   "outputs": [
    {
     "name": "stdout",
     "output_type": "stream",
     "text": [
      "DUS (Depth Up-Scaling) is considered good because it departs from the horizontal expansion characteristic of MoE models and instead introduces model scaling in the vertical dimension. Unlike MoE, DUS does not introduce dynamism in the scaled model, which significantly reduces the complexity. This approach offers a unique and more straightforward way of working, moving away from the typical approach of adding more layers in the horizontal dimension.\n",
      "\n",
      "Furthermore, DUS achieves performance comparable to MoE models while reducing the complexity and making training more efficient. This makes it a favorable method for scaling models in the vertical dimension.\n"
     ]
    }
   ],
   "source": [
    "history = [\n",
    "    HumanMessage(query),\n",
    "    AIMessage(response)\n",
    "]\n",
    "\n",
    "query = \"Why it is good?\"\n",
    "result_docs = retriever.invoke(query)\n",
    "\n",
    "response = chain.invoke({\"history\": history, \"context\": result_docs, \"input\": query})\n",
    "print(response)"
   ]
  },
  {
   "cell_type": "code",
   "execution_count": 17,
   "metadata": {},
   "outputs": [
    {
     "name": "stdout",
     "output_type": "stream",
     "text": [
      "['1. What is the Upstage DUS approach and how does it work?',\n",
      " '2. Can you explain the DUS approach developed by Upstage?',\n",
      " \"3. I'm interested in learning about the DUS approach created by Upstage. Can \"\n",
      " 'you provide more information?',\n",
      " '4. Could you give me an overview of the DUS approach developed by Upstage?',\n",
      " '5. What are the key features of the DUS approach developed by Upstage?',\n",
      " '1. What are the key components of the DUS approach developed by Upstage?',\n",
      " '2. How does the DUS approach by Upstage differ from other user experience '\n",
      " 'design methods?',\n",
      " '3. What are the benefits of using the DUS approach in user experience '\n",
      " 'design?',\n",
      " '4. Can you provide examples of successful implementations of the DUS '\n",
      " 'approach by Upstage?',\n",
      " '1. \"What is the DUS approach developed by Upstage?\"',\n",
      " '2. \"What are the key components of the DUS approach developed by Upstage?\"',\n",
      " '3. \"How does the DUS approach developed by Upstage differ from other '\n",
      " 'approaches in the field?\"']\n"
     ]
    }
   ],
   "source": [
    "from langchain_upstage import ChatUpstage\n",
    "from langchain_core.output_parsers import StrOutputParser\n",
    "from langchain.prompts import ChatPromptTemplate\n",
    "\n",
    "\n",
    "def query_expander(query):\n",
    "    # Multi Query: Different Perspectives\n",
    "    multi_query_template = \"\"\"You are an AI language model assistant. Your task is to generate five \n",
    "    different versions of the given user question to retrieve relevant documents from a vector \n",
    "    database. By generating multiple perspectives on the user question, your goal is to help\n",
    "    the user overcome some of the limitations of the distance-based similarity search. \n",
    "    Provide these alternative questions separated by newlines. Original question: {query}\"\"\"\n",
    "\n",
    "    # RAG-Fusion: Related\n",
    "    rag_fusion_template = \"\"\"You are a helpful assistant that generates multiple search queries based on a single input query. \\n\n",
    "    Generate multiple search queries related to: {query} \\n\n",
    "    Output (4 queries):\"\"\"\n",
    "\n",
    "    # Decomposition\n",
    "    decomposition_template = \"\"\"You are a helpful assistant that generates multiple sub-questions related to an input question. \\n\n",
    "    The goal is to break down the input into a set of sub-problems / sub-questions that can be answers in isolation. \\n\n",
    "    Generate multiple search queries related to: {query} \\n\n",
    "    Output (3 queries):\"\"\"\n",
    "\n",
    "    query_expander_templates = [\n",
    "        multi_query_template,\n",
    "        rag_fusion_template,\n",
    "        decomposition_template,\n",
    "    ]\n",
    "\n",
    "    expanded_queries = []\n",
    "    for template in query_expander_templates:\n",
    "        prompt_perspectives = ChatPromptTemplate.from_template(template)\n",
    "\n",
    "        generate_queries = (\n",
    "            prompt_perspectives\n",
    "            | ChatUpstage(temperature=0)\n",
    "            | StrOutputParser()\n",
    "            | (lambda x: x.split(\"\\n\"))\n",
    "        )\n",
    "        expanded_queries += generate_queries.invoke({\"query\": query})\n",
    "\n",
    "    return expanded_queries\n",
    "\n",
    "\n",
    "expanded_queries = query_expander(\"What is the DUS approach developed by Upstage?\")\n",
    "pprint(expanded_queries)"
   ]
  },
  {
   "cell_type": "code",
   "execution_count": 18,
   "metadata": {},
   "outputs": [
    {
     "name": "stdout",
     "output_type": "stream",
     "text": [
      "Search for:  1. What are the benefits of it?\n",
      "Search for:  2. What makes it a positive choice?\n",
      "Search for:  3. What are the advantages of using it?\n",
      "Search for:  4. What makes it a good option?\n",
      "Search for:  5. What are the positive aspects of it?\n",
      "Search for:  1. Benefits of being good\n",
      "Search for:  2. Good deeds and their impact\n",
      "Search for:  3. Moral philosophy: the value of goodness\n",
      "Search for:  4. Goodness in relationships and society\n",
      "Search for:  1. What are the benefits of using it?\n",
      "Search for:  2. What are the positive attributes of it?\n",
      "Search for:  3. What are the advantages of using it over alternatives?\n",
      "Search for:  What is DUS? Why it is good?\n",
      "expended_result_docs 13\n",
      "Unique docs: 13\n",
      "DUS stands for Depth Up-Scaling. It is a method of introducing model scaling in the vertical dimension, departing from the horizontal expansion characteristic of MoE models. DUS does not introduce dynamism in the scaled model, which significantly reduces the complexity when compared to MoE. It offers a unique and more straightforward way of working, moving away from the typical approach of adding more layers in the horizontal dimension.\n",
      "\n",
      "The benefits of DUS include:\n",
      "\n",
      "1. Reduced complexity: DUS reduces the complexity of the model by not introducing dynamism, which simplifies the training process and reduces resource requirements.\n",
      "2. Improved efficiency: DUS allows for a more efficient use of resources, as it reduces the need for large-scale models and reduces the computational cost of training.\n",
      "3. Increased scalability: DUS allows for the scaling of the model in the vertical dimension, which can lead to significant improvements in performance and efficiency.\n",
      "\n",
      "Overall, DUS is a good choice for those looking for a simpler and more efficient way to scale their models, without sacrificing performance.\n"
     ]
    }
   ],
   "source": [
    "# Finally query using RAG\n",
    "oroginal_query = \"What is DUS? Why it is good?\"\n",
    "expanded_queries = query_expander(query)\n",
    "expanded_queries.append(oroginal_query)\n",
    "\n",
    "expended_result_docs = []\n",
    "for query in expanded_queries:\n",
    "    print(\"Search for: \", query)\n",
    "    result_docs = retriever.invoke(query)\n",
    "    expended_result_docs.append(result_docs)\n",
    "\n",
    "# remove duplicates \n",
    "unique_docs = (list(set(expanded_queries)))\n",
    "print(\"expended_result_docs\", len(expended_result_docs))\n",
    "print(\"Unique docs:\", len(unique_docs))\n",
    "\n",
    "response = chain.invoke({\"history\": history, \"context\": expanded_queries, \"input\": query})\n",
    "print(response)"
   ]
  },
  {
   "cell_type": "code",
   "execution_count": 19,
   "metadata": {},
   "outputs": [],
   "source": [
    "# RAG or Search?\n",
    "def is_in(question, context):\n",
    "    is_in_conetxt = \"\"\"You are a helpful assistant and have a good understanding on \n",
    "context and questions. Using your best judgement, please check if the answer of the question is in the given context.\n",
    "If answer is on the context, please returen yes. Otherwise resturn yes. \n",
    "Only resturn yes or no. Please do not include any additional information.\n",
    "Please do youe best. Here are question and the context:\n",
    "---\n",
    "QUESTION: {question}\n",
    "\n",
    "CONTEXT: {context}\n",
    "\n",
    "Output (yes or no):\"\"\"\n",
    "\n",
    "    is_in_prompt = ChatPromptTemplate.from_template(is_in_conetxt)\n",
    "    chain = is_in_prompt | ChatUpstage() | StrOutputParser()\n",
    "\n",
    "    response = chain.invoke({\"history\": [], \"context\": context, \"question\": question})\n",
    "    print(response)\n",
    "    return response.lower().startswith(\"yes\")"
   ]
  },
  {
   "cell_type": "code",
   "execution_count": 20,
   "metadata": {},
   "outputs": [
    {
     "name": "stdout",
     "output_type": "stream",
     "text": [
      "no.\n",
      "False\n"
     ]
    }
   ],
   "source": [
    "question = \"Can you tell me about Sung Kim's life?\"\n",
    "context = retriever.invoke(question)\n",
    "print(is_in(question, context))"
   ]
  },
  {
   "cell_type": "code",
   "execution_count": 21,
   "metadata": {},
   "outputs": [
    {
     "name": "stdout",
     "output_type": "stream",
     "text": [
      "yes.\n",
      "True\n"
     ]
    }
   ],
   "source": [
    "question = \"What is DUS?\"\n",
    "context = retriever.invoke(question)\n",
    "print(is_in(question, context))"
   ]
  },
  {
   "cell_type": "code",
   "execution_count": 22,
   "metadata": {},
   "outputs": [],
   "source": [
    "# Smart RAG, Self-Improving RAG\n",
    "from tavily import TavilyClient\n",
    "\n",
    "def smart_rag(question):\n",
    "    context = retriever.invoke(question)\n",
    "    if not is_in(question, context):\n",
    "        print(\"Searching in tavily\")\n",
    "        tavily = TavilyClient(api_key=os.environ[\"TAVILY_API_KEY\"])\n",
    "        context  = tavily.search(query=question)\n",
    "\n",
    "    chain = rag_with_history_prompt | llm | StrOutputParser()\n",
    "    return chain.invoke({\"history\": history, \"context\": context, \"input\": question})\n"
   ]
  },
  {
   "cell_type": "code",
   "execution_count": 23,
   "metadata": {},
   "outputs": [
    {
     "name": "stdout",
     "output_type": "stream",
     "text": [
      "yes\n"
     ]
    },
    {
     "data": {
      "text/plain": [
       "'DUS stands for Depth Up-Scaling. It is a method of introducing model scaling in the vertical dimension, departing from the horizontal expansion characteristic of MoE models. DUS does not introduce dynamism in the scaled model, which significantly reduces the complexity when compared to MoE. It offers a unique and more straightforward way of working, moving away from the typical approach of adding more layers in the horizontal dimension.'"
      ]
     },
     "execution_count": 23,
     "metadata": {},
     "output_type": "execute_result"
    }
   ],
   "source": [
    "question = \"What is DUS?\"\n",
    "smart_rag(question)\n"
   ]
  },
  {
   "cell_type": "code",
   "execution_count": 24,
   "metadata": {},
   "outputs": [
    {
     "name": "stdout",
     "output_type": "stream",
     "text": [
      "no\n",
      "Searching in tavily\n"
     ]
    },
    {
     "data": {
      "text/plain": [
       "\"I'm sorry, but I don't have the current population of San Francisco in my retrieved context. Can you please provide me with a more recent context or let me know if you have any other questions?\""
      ]
     },
     "execution_count": 24,
     "metadata": {},
     "output_type": "execute_result"
    }
   ],
   "source": [
    "question = \"What's the population of San Francisco?\"\n",
    "smart_rag(question)"
   ]
  },
  {
   "cell_type": "code",
   "execution_count": 25,
   "metadata": {},
   "outputs": [
    {
     "name": "stdout",
     "output_type": "stream",
     "text": [
      "grounded\n",
      "✅ Groundedness check passed\n"
     ]
    }
   ],
   "source": [
    "# GC\n",
    "from langchain_upstage import UpstageGroundednessCheck\n",
    "\n",
    "groundedness_check = UpstageGroundednessCheck()\n",
    "\n",
    "request_input = {\n",
    "    \"context\": str(unique_docs),\n",
    "    \"answer\": response,\n",
    "}\n",
    "response = groundedness_check.invoke(request_input)\n",
    "\n",
    "print(response)\n",
    "if response.lower().startswith(\"grounded\"):\n",
    "    print(\"✅ Groundedness check passed\")\n",
    "else:\n",
    "    print(\"❌ Groundedness check failed\")"
   ]
  },
  {
   "cell_type": "code",
   "execution_count": 26,
   "metadata": {},
   "outputs": [],
   "source": [
    "# Tools\n",
    "from langchain_core.tools import tool\n",
    "import requests\n",
    "\n",
    "@tool\n",
    "def add(a: int, b: int) -> int:\n",
    "    \"\"\"Adds a and b.\"\"\"\n",
    "    return a + b\n",
    "\n",
    "\n",
    "@tool\n",
    "def multiply(a: int, b: int) -> int:\n",
    "    \"\"\"Multiplies a and b.\"\"\"\n",
    "    return a * b\n",
    "\n",
    "@tool\n",
    "def get_news(topic: str) -> str:\n",
    "    \"\"\"Get news on a given topic.\"\"\"\n",
    "    # https://newsapi.org/v2/everything?q=tesla&from=2024-04-01&sortBy=publishedAt&apiKey=API_KEY\n",
    "    # change this to request news from a real API\n",
    "    news_url = f\"https://newsapi.org/v2/everything?q={topic}&apiKey={os.environ['NEWS_API_KEY']}\"\n",
    "    respnse = requests.get(news_url)\n",
    "    return respnse.json()\n",
    "\n",
    "tools = [add, multiply, get_news]"
   ]
  },
  {
   "cell_type": "code",
   "execution_count": 27,
   "metadata": {},
   "outputs": [],
   "source": [
    "llm_with_tools = llm.bind_tools(tools)\n"
   ]
  },
  {
   "cell_type": "code",
   "execution_count": null,
   "metadata": {},
   "outputs": [],
   "source": []
  },
  {
   "cell_type": "code",
   "execution_count": 28,
   "metadata": {},
   "outputs": [],
   "source": [
    "def call_tool(tool_call):\n",
    "    tool_name = tool_call[\"name\"].lower()\n",
    "    if tool_name not in globals():\n",
    "        print(\"Tool not found\", tool_name)\n",
    "        return None\n",
    "    selected_tool = globals()[tool_name]\n",
    "    return selected_tool.invoke(tool_call[\"args\"])"
   ]
  },
  {
   "cell_type": "code",
   "execution_count": 29,
   "metadata": {},
   "outputs": [
    {
     "name": "stdout",
     "output_type": "stream",
     "text": [
      "[{'name': 'multiply', 'args': {'a': 3, 'b': 12}, 'id': 'cec08011-0453-45c7-b085-9011bcfc4aa1'}, {'name': 'add', 'args': {'a': 11, 'b': 49}, 'id': '462ecd26-d496-43ca-b211-2d0958e12adb'}]\n"
     ]
    }
   ],
   "source": [
    "query = \"What is 3 * 12? Also, what is 11 + 49?\"\n",
    "\n",
    "tool_calls = llm_with_tools.invoke(query).tool_calls\n",
    "print(tool_calls)"
   ]
  },
  {
   "cell_type": "code",
   "execution_count": 30,
   "metadata": {},
   "outputs": [
    {
     "name": "stdout",
     "output_type": "stream",
     "text": [
      "36\n",
      "60\n"
     ]
    }
   ],
   "source": [
    "for tool_call in tool_calls:\n",
    "    print(call_tool(tool_call))\n"
   ]
  },
  {
   "cell_type": "code",
   "execution_count": 31,
   "metadata": {},
   "outputs": [
    {
     "name": "stdout",
     "output_type": "stream",
     "text": [
      "[{'name': 'get_news', 'args': {'topic': 'NewJeans'}, 'id': 'fe38b94f-7cc7-47ce-8fc2-1c635b10b0c4'}]\n",
      "{'status': 'ok', 'totalResults': 287, 'articles': [{'source': {'id': 'the-verge', 'name': 'The Verge'}, 'author': 'Amrita Khalid', 'title': 'You don’t know your K-pop persona, do you?', 'description': 'The streaming service has launched a quiz to celebrate K-pop fans and commemorate the genre’s global success.', 'url': 'https://www.theverge.com/2024/4/23/24138370/spotify-launches-k-pop-persona-quiz', 'urlToImage': 'https://cdn.vox-cdn.com/thumbor/R8QosYN1HjNZ4_t68kbgPVzO0h8=/0x0:2216x1172/1200x628/filters:focal(1108x586:1109x587)/cdn.vox-cdn.com/uploads/chorus_asset/file/25414136/Screen_Shot_2024_04_23_at_9.07.24_AM.png', 'publishedAt': '2024-04-23T18:17:24Z', 'content': 'You dont know your K-pop persona, do you?\\r\\nYou dont know your K-pop persona, do you?\\r\\n / Dont be super shy. Spotify does.\\r\\nByAmrita Khalid, one of the authors of audio industry newsletter Hot Pod. Kh… [+2160 chars]'}, {'source': {'id': None, 'name': 'Stereogum'}, 'author': 'Danielle Chelosky', 'title': 'NewJeans – “Bubble Gum”', 'description': 'Last year, NewJeans released their sophomore EP Get Up. Since then, they’ve been relatively quiet while wrapped up in legal issues, including a report against the CEO of their label and a lawsuit against an anonymous YouTuber for defamation. Now, the K-pop ju…', 'url': 'https://www.stereogum.com/2261353/newjeans-bubble-gum/music/', 'urlToImage': 'https://static.stereogum.com/uploads/2024/04/ft70sAYrFyY-HD-1714243390.jpg', 'publishedAt': '2024-04-27T18:55:11Z', 'content': 'Last year, NewJeans released their sophomore EP Get Up. Since then, they’ve been relatively quiet while wrapped up in legal issues, including a report against the CEO of their label and a lawsuit aga… [+374 chars]'}, {'source': {'id': None, 'name': 'Stereogum'}, 'author': 'Tom Breihan', 'title': 'NewJeans Seek To Sue Anonymous YouTuber For Defamation', 'description': 'These days, internet fandom is an intense, fraught phenomenon that sometimes pits pop stars against their own listeners. In the world of South Korean pop music, it’s even more intense and fruaght than it usually is in the rest of the world. Case in point: New…', 'url': 'https://www.stereogum.com/2258849/newjeans-seek-to-sue-anonymous-youtuber-for-defamation/news/', 'urlToImage': 'https://static.stereogum.com/uploads/2024/04/NewJeans-1712758600.jpg', 'publishedAt': '2024-04-10T14:30:33Z', 'content': 'These days, internet fandom is an intense, fraught phenomenon that sometimes pits pop stars against their own listeners. In the world of South Korean pop music, it’s even more intense and fruaght tha… [+1575 chars]'}, {'source': {'id': None, 'name': 'Yahoo Entertainment'}, 'author': 'Sohee Kim and Shinhye Kang', 'title': 'K-Pop Agency Hybe’s Internal Strife Wipes Out $873 Million', 'description': '(Bloomberg) -- Hybe Co.’s shares tumbled Friday as internal strife between the K-pop giant and ADOR, the Hybe-owned label behind popular girl group NewJeans,...', 'url': 'https://finance.yahoo.com/news/k-pop-agency-hybe-internal-020600853.html', 'urlToImage': 'https://s.yimg.com/ny/api/res/1.2/uToJl5mvEysMprYry7nvVA--/YXBwaWQ9aGlnaGxhbmRlcjt3PTEyMDA7aD04MDA-/https://media.zenfs.com/en/bloomberg_technology_68/89ae807eceb6fdd7ef6471f7b1e9e62a', 'publishedAt': '2024-04-26T02:06:00Z', 'content': '(Bloomberg) -- Hybe Co.s shares tumbled Friday as internal strife between the K-pop giant and ADOR, the Hybe-owned label behind popular girl group NewJeans, deepened.\\r\\nMost Read from Bloomberg\\r\\nThe c… [+1616 chars]'}, {'source': {'id': None, 'name': 'Deadline'}, 'author': 'Bruce Haring', 'title': 'HYBE, Home Of BTS, Says It Will Contact Police About Executives From Subsidiary Label After Audit', 'description': 'Korean entertainment giant HYBE said it will report an executive of subsidiary label ADOR to police, a move coming days after launching an audit. Hybe is also asking ADOR’s CEO, Min Hee-jin, to exit. Min held an emotional press conference in Seoul and refuted…', 'url': 'http://deadline.com/2024/04/hybe-home-bts-says-will-contact-police-about-executives-from-subsidiary-label-1235897363/', 'urlToImage': 'https://deadline.com/wp-content/uploads/2023/10/BTS_Ptod-Still-1-e1649769495383.jpg?w=1024', 'publishedAt': '2024-04-27T17:37:15Z', 'content': 'Korean entertainment giant HYBE said it will report an executive of subsidiary label ADOR to police, a move coming days after launching an audit. \\r\\nHybe is also asking ADOR’s CEO, Min Hee-jin, to exi… [+1715 chars]'}, {'source': {'id': None, 'name': 'Forbes'}, 'author': 'Conor Murray, Forbes Staff, \\n Conor Murray, Forbes Staff\\n https://www.forbes.com/sites/conormurray/', 'title': 'NewJeans Label Controversy: What To Know About Dispute Between Major K-Pop Company HYBE And Subsidiary ADOR', 'description': 'Min Hee-jin, CEO of HYBE subsidiary ADOR, denied allegations she is attempting to break her label free to independently manage the rising K-pop stars NewJeans.', 'url': 'https://www.forbes.com/sites/conormurray/2024/04/26/newjeans-label-controversy-what-to-know-about-dispute-between-major-k-pop-company-hybe-and-subsidiary-ador/', 'urlToImage': 'https://imageio.forbes.com/specials-images/imageserve/662c114d00950e0e7008c0bf/0x0.jpg?format=jpg&crop=1319,743,x27,y85,safe&height=900&width=1600&fit=bounds', 'publishedAt': '2024-04-26T20:42:41Z', 'content': 'A struggle over the popular K-pop act NewJeans erupted this week after Korean entertainment giant HYBE filed a police report accusing the head of its own subsidiary music label of trying to secretly … [+3579 chars]'}, {'source': {'id': None, 'name': 'Stereogum'}, 'author': 'James Rettig', 'title': 'Fine – “Days Incomplete”', 'description': 'Fine is the solo moniker of Fine Glindvad Jensen, who comes from the same Copenhagen scene that has given us Erika de Casier and Astrid Sonne. She was a co-writer on three of the songs that de Casier made with NewJeans last year, and she has a project with So…', 'url': 'https://www.stereogum.com/2259655/fine-days-incomplete/music/', 'urlToImage': 'https://static.stereogum.com/uploads/2024/04/download-2-1713277577.jpeg', 'publishedAt': '2024-04-16T14:42:51Z', 'content': 'Fine is the solo moniker of Fine Glindvad Jensen, who comes from the same Copenhagen scene that has given us Erika de Casier and Astrid Sonne. She was a co-writer on three of the songs that de Casier… [+996 chars]'}, {'source': {'id': None, 'name': 'Forbes'}, 'author': 'Hugh McIntyre, Senior Contributor, \\n Hugh McIntyre, Senior Contributor\\n https://www.forbes.com/sites/hughmcintyre/', 'title': 'Illit Hits The Hot 100 For The First Time And Makes History', 'description': 'Illit is now just the seventh K-pop girl group to chart a hit on the Hot 100. As \"Magnetic\" debuts, they join Blackpink, Fifty Fifty, Le Sserafim, NewJeans, Twice, and Wonder Girls.', 'url': 'https://www.forbes.com/sites/hughmcintyre/2024/04/16/illit-hits-the-hot-100-for-the-first-time-and-makes-history/', 'urlToImage': 'https://imageio.forbes.com/specials-images/imageserve/661ec700cce3beb053358cf5/0x0.jpg?format=jpg&height=900&width=1600&fit=bounds', 'publishedAt': '2024-04-16T19:00:32Z', 'content': 'Illit (HYBE/BeLift Labs)\\r\\nHYBE/BeLift Labs\\r\\nIllit officially launched their music career last month when the South Korean girl group dropped their debut EP Super Real Me. Just a few weeks later, the … [+1385 chars]'}, {'source': {'id': None, 'name': 'Technews.tw'}, 'author': '林 妤柔', 'title': '動搖股價的 HYBE 與 NewJeans 製作人內鬥，意外引發外資關注', 'description': '近期韓國娛樂圈發生足以影響股價、甚至引起外資關注的事件。韓國知名天團防彈少年團（BTS）所屬娛樂集團 HYBE 控告旗下子公司 ADOR 的代表董事閔熙珍試圖獲取經營權，以擺脫 HYBE 控制；同時，閔熙珍 25 日也緊急召開記者會，否認 HYBE 指控，淚訴遭背叛。針對 HYBE 集團內鬥一事，日...', 'url': 'https://finance.technews.tw/2024/04/26/hybe-stock/', 'urlToImage': 'https://img.technews.tw/wp-content/uploads/2024/04/25201543/hybe1.jpg', 'publishedAt': '2024-04-26T00:16:46Z', 'content': 'BTS HYBE ADOR HYBE 25 HYBE HYBE HYBE \\r\\n ADOR NewJeansNewJeans SM SHINeef(x)Exo Red Velvet \\r\\n HYBE ILLIT NewJeans HYBE ADOR 80% 18% \\r\\n HYBE 2022 NewJeansLe SserafimILLIT NewJeans HYBE \\r\\n HYBE BTS 2024… [+71 chars]'}, {'source': {'id': None, 'name': 'Technews.tw'}, 'author': '林 妤柔', 'title': '動搖股價的 HYBE 與 NewJeans 製作人內鬥，意外引發外資關注', 'description': '近期韓國娛樂圈發生足以影響股價、甚至引起外資關注的事件。南韓知名天團防彈少年團（BTS）所屬娛樂集團HYBE 控告旗下子公司 ADOR 的代表董事閔熙珍試圖獲取經營權，以擺脫 HYBE 控制；同時，閔熙珍 25 日也緊急召開記者會，否認 HYBE 指控，淚訴遭背叛。針對 HYBE 集團內鬥一事，日系...', 'url': 'https://finance.technews.tw/2024/04/26/hype-stock/', 'urlToImage': 'https://img.technews.tw/wp-content/uploads/2024/04/25201543/hybe1.jpg', 'publishedAt': '2024-04-26T00:16:46Z', 'content': 'BTSHYBE ADOR HYBE 25 HYBE HYBE HYBE \\r\\n ADOR NewJeansNewJeans SM SHINeef(x)Exo Red Velvet \\r\\n HYBE ILLIT NewJeans HYBE ADOR 80% 18% \\r\\n HYBE 2022 NewJeansLe SserafimILLIT NewJeans HYBE \\r\\n HYBE BTS 2024 … [+70 chars]'}, {'source': {'id': None, 'name': 'Moneycontrol'}, 'author': 'Moneycontrol Features', 'title': 'NewJeans shares a sneak peek of their new song \"Bubble Gum\" - watch video', 'description': 'NewJeans is set to make their official debut in Japan on June 21 with yet another double single release.', 'url': 'https://www.moneycontrol.com/entertainment/music/newjeans-shares-a-sneak-peek-of-their-new-song-bubble-gum-watch-video-article-12596731.html', 'urlToImage': 'https://images.moneycontrol.com/static-mcnews/2024/04/newjeans1-770x433.jpg', 'publishedAt': '2024-04-08T05:40:57Z', 'content': 'NewJeans, the rising K-pop girl group, has generated excitement among fans with the release of a sneak peek of their upcoming song \"Bubble Gum.\" The teaser offers a tantalising glimpse into what prom… [+1716 chars]'}, {'source': {'id': None, 'name': 'Natalie.mu'}, 'author': '音楽ナタリー', 'title': 'NewJeansが海辺を走り、踊り、笑って騒ぐ', 'description': 'NewJeansの新曲「Bubble Gum」のミュージックビデオがYouTubeで公開された。', 'url': 'https://natalie.mu/music/news/571318', 'urlToImage': 'https://ogre.natalie.mu/media/news/music/2024/0427/NewJeans_MV_3.jpg?impolicy=twitter_card_face_crop', 'publishedAt': '2024-04-27T12:25:00Z', 'content': 'NewJeansBubble Gum(c)2024 ADOR. All Rights Reserved.\\r\\n11'}, {'source': {'id': None, 'name': 'The Cut'}, 'author': 'Brooke LaMantia', 'title': 'Dior Brings Out All the Celebrities', 'description': 'Dior brings out all the celebrities for its pre-fall show at the Brooklyn Museum, including Anya Taylor-Joy, Rosamund Pike, Naomi Watts, Karlie Kloss, Alexandra Daddario, Rachel Zegler, Charlize Theron, Michelle Williams, and Haerin from NewJeans.', 'url': 'http://www.thecut.com/article/dior-brooklyn-show-celebrities.html', 'urlToImage': 'https://pyxis.nymag.com/v1/imgs/42f/bd7/cdc528c2007616f316c827fcc8f40f380e-dior-pre-fall--2024-celebs-lede.1x.rsocial.w1200.jpg', 'publishedAt': '2024-04-16T16:27:03Z', 'content': 'On Monday, Brooklyn was the epicenter of fashion. (Well, Brooklyn is always the epicenter of fashion, but we digress.) The WNBA draft was underway at the Brooklyn Academy of Music, and only 1.5 miles… [+1361 chars]'}, {'source': {'id': None, 'name': 'Natalie.mu'}, 'author': '音楽ナタリー', 'title': 'イタガムが踊る、NewJeans「OMG」に合わせて', 'description': 'NewJeansが広告キャラクターを務めるロッテ「イタガム」の新Web CM「イタガムになっちゃった！」編が4月17日よりSNS公式アカウント各種で公開される。', 'url': 'https://natalie.mu/music/news/569694', 'urlToImage': 'https://ogre.natalie.mu/media/news/music/2024/0416/newjeans_itagum202404_1.jpg?impolicy=twitter_card_face_crop', 'publishedAt': '2024-04-16T19:00:00Z', 'content': '@natalie_mu\\r\\nNewJeansOMGhttps://t.co/1Xz8dtsHiE\\r\\n#NewJeans #'}, {'source': {'id': None, 'name': 'Natalie.mu'}, 'author': '音楽ナタリー', 'title': 'ササノマリイ、SixTONES森本慎太郎主演ドラマの主題歌を担当', 'description': 'ササノマリイの新曲「窮鼠」が、本日4月27日に放送開始した日本テレビ系ドラマ「街並み照らすヤツら」の主題歌に決定した。', 'url': 'https://natalie.mu/music/news/571325', 'urlToImage': 'https://ogre.natalie.mu/media/news/music/2024/0224/sasanomaly_art202402.jpg?impolicy=twitter_card_face_crop', 'publishedAt': '2024-04-27T14:00:00Z', 'content': \"NewJeans () 'Bubble Gum' Official MV\"}, {'source': {'id': None, 'name': 'Vulture'}, 'author': 'Zoe Guy', 'title': 'NewJeans Is Sweet Like ‘Bubble Gum’', 'description': 'NewJeans is sweet like ‘Bubble Gum’ in their new music video. The candied visuals come amid sour corporate drama.', 'url': 'http://www.vulture.com/article/newjeans-comeback-release-date.html', 'urlToImage': 'https://pyxis.nymag.com/v1/imgs/708/a3e/6371eee4b08f3b6f0f1d9b468bdc2f8b96-bubble-gum-1.1x.rsocial.w1200.png', 'publishedAt': '2024-04-26T21:05:36Z', 'content': 'NewJeans know a thing or two about seasonal bops. Last year, they gave us song of the winter (Ditto) and song of the summer (Super Shy). And now, theyre submitting prerelease track Bubble Gum for con… [+1773 chars]'}, {'source': {'id': None, 'name': 'Fashionsnap.com'}, 'author': None, 'title': '渋谷109がNewJeansとコラボ\\u3000開業45周年を記念してポップアップストア出店', 'description': '「SHIBUYA109渋谷店」が、今年4月28日に開業45周年を迎える。これを記念してアニバーサリーキャンペーンを実施。第1弾としてNewJeans（ニュージーンズ）とコラボレーションした「NewJeans × SHIBUYA109 45th ANNIVERSARY CAMPAIGN」を4月26日から5月19日まで開催する。なお、NewJeansが商業施設とコラボするのは初となる。 このコンテンツは FASHIONSNAP が配信しています。', 'url': 'https://www.fashionsnap.com/article/2024-04-10/109-newjrans/', 'urlToImage': 'https://fashionsnap-assets.com/asset/format=auto,width=1280,height=670,gravity=center/article/images/2024/04/newjeans-20240410-3-5640d4b7-00c0-4885-bc3b-36ccba198d72.jpg', 'publishedAt': '2024-04-10T04:13:00Z', 'content': 'SHIBUYA109428451NewJeansNewJeans × SHIBUYA109 45th ANNIVERSARY CAMPAIGN426519NewJeans\\r\\nSHIBUYA10945LOVE\\r\\nNewJeansNewJeans POP-UP STORE in TOKYO ClothingMerch-Best Collection-2ClothingMerch-Best Colle… [+177 chars]'}, {'source': {'id': None, 'name': 'Natalie.mu'}, 'author': '音楽ナタリー', 'title': 'NewJeans、ロッテ「ZERO」新キービジュアルで大人の魅力放つ', 'description': 'NewJeansが広告キャラクターを務めるロッテ「ZERO」ブランドの新キービジュアルが公開された。', 'url': 'https://natalie.mu/music/news/569400', 'urlToImage': 'https://ogre.natalie.mu/media/news/music/2024/0414/NewJeans_lottezero.jpg?impolicy=twitter_card_face_crop', 'publishedAt': '2024-04-14T19:00:00Z', 'content': 'All News ls Here @Allnewishere1\\r\\n@natalie_mu Nice'}, {'source': {'id': None, 'name': 'Livejournal.com'}, 'author': 'varioussaints', 'title': 'Min Hee Jin (ADOR CEO) vs HYBE drama post', 'description': 'Min Hee Jin Drama Summary• Min Hee Jin owns only 20% of Ador, the rest belongs to Hybe• She made plans to take over management rights of Ador• Leaked health records of trainees• Formed negative public opinions on other Hybe artists through media• Approached a…', 'url': 'https://ohnotheydidnt.livejournal.com/128265004.html', 'urlToImage': 'https://l-files.livejournal.net/og_image/3616053/501035?v=1713949733', 'publishedAt': '2024-04-24T07:57:19Z', 'content': 'Min Hee Jin Drama Summary\\r\\n• Min Hee Jin owns only 20% of Ador, the rest belongs to Hybe• She made plans to take over management rights of Ador• Leaked health records of trainees• Formed negative pub… [+4231 chars]'}, {'source': {'id': None, 'name': 'Livejournal.com'}, 'author': 'ladychips', 'title': \"NewJeans comeback song 'Bubble Gum' and HYBE's statement about the drama\", 'description': 'How has this not been posted yet? NewJeans have put out their comeback single, Bubble Gum!In related news, Hybe has put out a statement regarding the controversy around Min Hee Jin. It has the following twelve portions: 1. Regarding the claim that the takeove…', 'url': 'https://ohnotheydidnt.livejournal.com/128288668.html', 'urlToImage': 'https://l-files.livejournal.net/og_image/3616053/501127?v=1714250248', 'publishedAt': '2024-04-27T20:37:27Z', 'content': 'How has this not been posted yet? NewJeans have put out their comeback single, Bubble Gum!In related news, Hybe has put out a statement regarding the controversy around Min Hee Jin. It has the follow… [+1075 chars]'}, {'source': {'id': None, 'name': 'Livejournal.com'}, 'author': 'varioussaints', 'title': 'Min Hee Jin (ADOR CEO) vs HYBE drama post 2', 'description': 'An attempted continuation of this post.ADOR CEO Min Hee Jin (\"MHJ\") had a press conference yesterday (today?). Needless to say, it was a shit show. I reccommend reading the full twitter thread, as I\\'ll only be giving highlights.Min Hee Jin/Ador\\'s Press Confer…', 'url': 'https://ohnotheydidnt.livejournal.com/128277720.html', 'urlToImage': 'https://l-files.livejournal.net/og_image/3616053/501084?v=1714092385', 'publishedAt': '2024-04-26T00:46:23Z', 'content': 'An attempted continuation of this post.ADOR CEO Min Hee Jin (\"MHJ\") had a press conference yesterday (today?). Needless to say, it was a shit show. I reccommend reading the full twitter thread, as I\\'… [+3492 chars]'}, {'source': {'id': None, 'name': 'Newsweekjapan.jp'}, 'author': 'ニューズウィーク日本版ウェブ編集部', 'title': 'NewJeans日本デビュー目前に赤信号\\u3000所属事務所に親会社HYBEが監査、ミン･ヒジン代表の辞任を要求', 'description': '＜世界的に活躍するガールズグループの今後はどうなる？＞ 昨年夏、アップルiPhoneのCMに「ETA」が起用されグローバルな大ヒットとなったK-POPガールズグループNewJeans。5月下旬には久しぶりのオリジナル曲リリースでカムバックすることが予告され、それと同時に日本デビューも発表された彼女たちに突如として赤信号が灯った。所属事務所が監査を受け、代表のミン・ヒジンに辞任が要求されたのだ。韓国日報、韓国経済など韓国メディアが報じている。 【動画】NewJeansミンジが出演した韓国選挙広報CM 親会社HYBE…', 'url': 'https://www.newsweekjapan.jp/stories/culture/2024/04/newjeanshybe.php', 'urlToImage': 'https://www.newsweekjapan.jp/stories/assets_c/2024/04/newsweekjp_20240422070423-thumb-1200x560-1156484.jpg', 'publishedAt': '2024-04-22T07:18:22Z', 'content': 'iPhoneCMETAK-POPNewJeans5\\r\\nNewJeansCM\\r\\nHYBE\\r\\nNewJeansADOR)HYBE·\\r\\n22·AAPC\\r\\nSM\\r\\nNewJeans\\r\\nNewJeans\\r\\n202180%20%NewJeans\\r\\nNewJeansK-POP10%8%212500\\r\\nSMSHINeeEXOBTSNewJeans\\r\\nNewJeans2022Hype BoyAttentionDi… [+48 chars]'}, {'source': {'id': None, 'name': 'Ppss.kr'}, 'author': '리승환', 'title': '[사례 분석] 소비재 커머스 기업이 틱톡 광고를 해야하는 이유: 테라브레스, 모다모다, 프리키나인, 채비공간', 'description': '테라브레스: 제품의 가장 아이코닉한 부분을 소재로 챌린지에 활용  테라브레스는 올리브영에서 4년 연속 1위를 차지한 구강청결제다. 입냄새에 고생하는 딸을 위해 치과의사가 직접 개발한 것으로 잘 알려져 있으며, 해외 브랜드 특유의 디자인도 잘 알려져 있다.        어쩌다 틱톡 마케팅을 진행하게 되었나요?    20대 이상은 이미 테라브레스를 잘 알고 있어요. 더 어린 10대에게도 해당 제품을 알리고 싶어 틱톡 마케팅을 테스트했어요. 유튜버들과는 이미 여러 …', 'url': 'https://ppss.kr/archives/265935', 'urlToImage': 'https://ppss.kr/wp-content/uploads/2024/04/ppfffg_112-1.jpg', 'publishedAt': '2024-04-23T04:12:28Z', 'content': ': \\r\\n 4 1 . , .\\r\\n ( )\\r\\n?\\r\\n20 . 10 . , . .\\r\\n ?\\r\\n . 50 750 500 . , . . ? .\\r\\n@jh.___.97 ? #### – \\r\\n(47 )\\r\\n ?\\r\\n 10 . 2 . . , . . , 3 .\\r\\n3 ?\\r\\n3 . 1 , . , BGM . 10 . , .\\r\\n@ziro_prince_s.s -! #### – \\r\\nCM \\r\\n:… [+620 chars]'}, {'source': {'id': None, 'name': 'Fashionsnap.com'}, 'author': None, 'title': 'New Jeansのハニが「グッチ ビューティ」のグローバルアンバサダーに就任', 'description': '「グッチ ビューティ（GUCCI BEAUTY）」が、5人組ガールズグループ NewJeans（ニュージーンズ）のハニをグローバル・ブランドアンバサダーに起用した。 このコンテンツは FASHIONSNAP が配信しています。', 'url': 'https://www.fashionsnap.com/article/2024-04-02/hani-guccibeauty/', 'urlToImage': 'https://fashionsnap-assets.com/asset/format=auto,width=1280,height=670,gravity=center/article/images/2024/04/newjeans-hani-gucci20240402-1-7eeb650d-a99e-420e-afb4-6a80e8c4b0a0.jpg', 'publishedAt': '2024-04-02T03:26:03Z', 'content': 'Creative Director: Sabato De Sarno Art Director: Riccardo Zanola Photographer/Director: Lee Jaedon Stylist: Francesca Burns Hair Stylist: Sin Gabe Makeup: Thomas de Kluyver\\r\\nCreative Director: Sabato… [+146 chars]'}, {'source': {'id': None, 'name': 'Newsweekjapan.jp'}, 'author': 'ニューズウィーク日本版ウェブ編集部', 'title': 'NewJeansはどうなる？\\u3000所属事務所代表を親会社が告発へ、今後の予想シナリオ ベストvsワースト', 'description': '＜ファンやNewJeansメンバーも巻き込み事態は長期化するおそれも＞ 昨年夏、ビルボードのアルバムチャートで『Get Up』が1位となり、またアルバム収録曲3曲がビルボードシングルチャートに同時にランクインするなど（K-POP以外の全ガールズグループとしても歴代4番目）、世界的な人気を獲得したK-POPガールズグループNewJeans。だが、今後の活躍が危うい状況になってしまった。 既報のように、所属事務所アドアに対して親会社ハイブが4月22日午前、特別監査を行うと同時にアドアの代表であり「NewJeansの母…', 'url': 'https://www.newsweekjapan.jp/stories/culture/2024/04/btsnewjeans.php', 'urlToImage': 'https://www.newsweekjapan.jp/stories/assets_c/2024/04/newsweekjp_20240424153247-thumb-autox675-1159290.jpg', 'publishedAt': '2024-04-25T03:12:28Z', 'content': 'NewJeans\\r\\nGet Up13K-POP4K-POPNewJeans\\r\\n422NewJeans\\r\\nNewJeans\\r\\nAPC·A80%A\\r\\n223ILLITNewJeans\\r\\n·ILLITILLITNewJeans\\r\\n1\\r\\nNewJeans5\\r\\n25\\r\\nNewJeans24·\\r\\nNewJeansNewJeansNewJeansNewJeans'}, {'source': {'id': None, 'name': 'Deadline'}, 'author': 'Armando Tinoco', 'title': 'iHeartRadio Music Awards Complete Winners List: Beyoncé, SZA, Peso Pluma & Jelly Roll Among Artists Honored', 'description': 'The 2024 iHeartRadio Music Awards honored music, with some big winners, including Beyoncé taking the Innovator Award. Taylor Swift took several trophies, including Artist of the Year, Pop Artist of the Year, Tour of the Year, and Best Lyrics for “Is It Over N…', 'url': 'http://deadline.com/2024/04/2024-iheartradio-music-awards-complete-winners-list-1235873650/', 'urlToImage': 'https://deadline.com/wp-content/uploads/2024/04/iheartradio-music-awards-winners.jpg?w=1024', 'publishedAt': '2024-04-02T05:05:03Z', 'content': 'The 2024 iHeartRadio Music Awards honored music, with some big winners, including Beyoncé taking the Innovator Award.\\r\\nTaylor Swift took several trophies, including Artist of the Year, Pop Artist of … [+3660 chars]'}, {'source': {'id': None, 'name': 'Japan Today'}, 'author': None, 'title': 'Shares of BTS agents plunge after audit announcement', 'description': 'Shares of the South Korean agency behind K-pop sensation BTS dropped nearly 10 percent this week after the company announced a probe into its powerhouse subsidiary and demanded the resignation of a star producer. The agency, HYBE, told AFP on Tuesday that it …', 'url': 'https://japantoday.com/category/entertainment/shares-of-bts-agents-plunge-after-audit-announcement', 'urlToImage': None, 'publishedAt': '2024-04-23T21:58:53Z', 'content': 'Shares of the South Korean agency behind K-pop sensation BTS dropped nearly 10 percent this week after the company announced a probe into its powerhouse subsidiary and demanded the resignation of a s… [+2388 chars]'}, {'source': {'id': None, 'name': 'International Business Times'}, 'author': 'AFP News', 'title': 'BTS Agency To File Complaint Against Subsidiary Head Over Breach Of Trust', 'description': \"The South Korean agency behind K-pop sensation BTS said Thursday it will file a legal complaint against its powerhouse subsidiary's head for allegedly orchestrating a plan to break away from the parent company.\", 'url': 'https://www.ibtimes.com/bts-agency-file-complaint-against-subsidiary-head-over-breach-trust-3730567', 'urlToImage': 'https://d.ibtimes.com/en/full/4523411/min-hee-jin-famed-superproducer-chief-ador-powerhouse-subsidiary-hybe-attends-news.jpg', 'publishedAt': '2024-04-25T10:12:16Z', 'content': \"The South Korean agency behind K-pop sensation BTS said Thursday it will file a legal complaint against its powerhouse subsidiary's head for allegedly orchestrating a plan to break away from the pare… [+2195 chars]\"}, {'source': {'id': None, 'name': 'Fashionsnap.com'}, 'author': None, 'title': '今週のポッドキャスト | ビューティ No.94｜コフレドールの終売', 'description': '■グッチ ビューティがグローバル・ブランドアンバサダーにNewJeansのハニを起用■ザラがヘアアイテムを本格展開\\u3000日本でも発売■カネボウ「コフレドール」が12月末を目処に終売\\u30006月から順次生産終了■出演者福崎、平原', 'url': 'https://www.fashionsnap.com/podcast/beauty-094/', 'urlToImage': 'https://fashionsnap-assets.com/asset/format=auto,width=1280,height=670,gravity=center/podcast/images/2023/05/fashionsnap-podcast-icon-beauty_01.jpg', 'publishedAt': '2024-04-07T08:27:34Z', 'content': '2024.04.08 Mon. - 09:54 JST'}, {'source': {'id': None, 'name': 'Fashionsnap.com'}, 'author': None, 'title': '今週のポッドキャスト | ビューティ No.94｜コフレドールの終売', 'description': '■グッチ ビューティがグローバル・ブランドアンバサダーにNewJeansのハニを起用■ザラがヘアアイテムを本格展開\\u3000日本でも発売■カネボウ「コフレドール」が12月末を目処に終売\\u30006月から順次生産終了■出演者福崎、平原', 'url': 'https://www.fashionsnap.com/podcast/beauty-94/', 'urlToImage': 'https://fashionsnap-assets.com/asset/format=auto,width=1280,height=670,gravity=center/podcast/images/2023/05/fashionsnap-podcast-icon-beauty_01.jpg', 'publishedAt': '2024-04-07T08:27:34Z', 'content': '2024.04.07 Sun. - 17:27 JST'}, {'source': {'id': None, 'name': 'CNA'}, 'author': None, 'title': 'HYBE announces interim results of ADOR audit, to file lawsuit against those involved', 'description': 'HYBE added that it will now provide psychological and emotional care to the members of NewJeans.', 'url': 'https://cnalifestyle.channelnewsasia.com/entertainment/hybe-ador-lawsuit-newjeans-k-pop-389051', 'urlToImage': 'https://onecms-res.cloudinary.com/image/upload/s--rN4OfXvG--/c_crop,h_562,w_1000,x_0,y_103/c_fill,g_auto,h_676,w_1200/f_auto,q_auto/v1/one-cms/core/south_korea_kakao_sm_49796.jpg?itok=Mxz7HGGQ', 'publishedAt': '2024-04-25T03:48:51Z', 'content': 'The ongoing saga between South Korean entertainment conglomerate HYBE and Min Hee-jin, CEO of its subsidiary label ADOR, took a new turn on Wednesday (Apr 25) when it announced the interim results of… [+2123 chars]'}, {'source': {'id': None, 'name': 'Fashionsnap.com'}, 'author': None, 'title': '花王「エッセンシャル」が広告モデルにNewJeansを起用\\u3000ポップアップやキャンペーンも展開', 'description': '花王のヘアケアブランド「エッセンシャル（Essential）」が、「エッセンシャル ザビューティ（Essential THE BEAUTY）」のバリアシリーズのリニューアルに合わせ、新たな広告モデルに5人組ガールズグループNewJeans（ニュージーンズ）を起用した。同グループの新楽曲「Bubble Gum」を使用した新テレビCMを全国で放映している。 このコンテンツは FASHIONSNAP が配信しています。', 'url': 'https://www.fashionsnap.com/article/2024-04-08/essential-newjeans/', 'urlToImage': 'https://fashionsnap-assets.com/asset/format=auto,width=1280,height=670,gravity=center/article/images/2024/04/essential-newjeans20240408-1-7607842f-974b-4101-887e-862879ee9dec.jpg', 'publishedAt': '2024-04-08T02:51:06Z', 'content': 'Brighten Me Up4131 Essential Premium 3\\r\\nCM YouTube\\r\\nBrighten Me Up! Museum41821 3 CM\\r\\n 20001000'}, {'source': {'id': None, 'name': 'Yahoo Entertainment'}, 'author': '鉅亨網編譯陳韋廷', 'title': '散戶大撿便宜！與子公司經營糾紛愈演愈烈 HYBE再摔6%市值蒸發270億', 'description': '南韓天團防彈少年團（BTS）經紀公司 HYBE 跟旗下子公司 ADOR 的管理層糾紛近日鬧得沸沸揚揚，連帶導致 HYBE 股價暴跌，在周四 (25 日) 宣布將以涉嫌奪取公司經營權為由向 ADOR 執行長閔熙珍等人提告後，HYBE 今 (26) 日早盤續跌近 6%。 自周一 (', 'url': 'https://tw.stock.yahoo.com/news/%E6%95%A3%E6%88%B6%E5%A4%A7%E6%92%BF%E4%BE%BF%E5%AE%9C-%E8%88%87%E5%AD%90%E5%85%AC%E5%8F%B8%E7%B6%93%E7%87%9F%E7%B3%BE%E7%B4%9B%E6%84%88%E6%BC%94%E6%84%88%E7%83%88-hybe%E5%86%8D%E6%91%946-%E5%B8%82%E5%80%BC%E8%92%B8%E7%99%BC270%E5%84%84-041534076.html', 'urlToImage': 'https://media.zenfs.com/ko/cnyes.com.tw/d4d59484fb843d974b6e63fc5389719b', 'publishedAt': '2024-04-25T20:15:34Z', 'content': 'BTS HYBE ADOR HYBE (25 ) ADOR HYBE (26) 6%\\r\\n (22 ) HYBE 1.2 ( 270 ) 1200 ( 27.8 )HYBE \\r\\n HYBE ADOR \\r\\nHYBE HYBE ADOR \\r\\n HYBE YouTube HYBE HYBE HYBE NewJeans \\r\\n 2021 ADOR NewJeans NewJeans (27) 6 \\r\\nDS … [+226 chars]'}, {'source': {'id': None, 'name': 'CNA'}, 'author': None, 'title': 'HYBE, the agency behind BTS, files complaint against subsidiary head Min Hee-jin over breach of trust', 'description': 'The complaint was filed on Thursday (Apr 25) at a Seoul police station.', 'url': 'https://cnalifestyle.channelnewsasia.com/entertainment/hybe-files-complaint-against-ador-min-hee-jin-389106', 'urlToImage': 'https://onecms-res.cloudinary.com/image/upload/s--yaJkp_bk--/c_crop,h_432,w_768,x_0,y_12/c_fill,g_auto,h_676,w_1200/f_auto,q_auto/v1/one-cms/core/15e8e76b69c416c2273a930149afc52ed3dde0a6.jpg?itok=RJBKjq8K', 'publishedAt': '2024-04-26T00:27:23Z', 'content': \"The South Korean agency behind K-pop sensation BTS on Thursday (Apr 25) filed a legal complaint against its powerhouse subsidiary's head for allegedly orchestrating a plan to break away from the pare… [+2751 chars]\"}, {'source': {'id': None, 'name': 'Japan Today'}, 'author': None, 'title': 'Star K-pop producer causes online stir after lashing out at industry bosses', 'description': \"The creative director behind the girl band NewJeans has found online fame after a tearful, profanity-laced news conference in which she slammed some of K-pop's most powerful executives as &quot;middle-aged jerks&quot;. HYBE, the South Korean agency behind K-p…\", 'url': 'https://japantoday.com/category/entertainment/star-k-pop-producer-causes-online-stir-after-lashing-out-at-industry-bosses', 'urlToImage': None, 'publishedAt': '2024-04-27T21:35:19Z', 'content': 'The creative director behind the girl band NewJeans has found online fame after a tearful, profanity-laced news conference in which she slammed some of K-pop\\'s most powerful executives as \"middle-age… [+3886 chars]'}, {'source': {'id': None, 'name': 'Prtimes.jp'}, 'author': None, 'title': '『NewJeans × SHIBUYA10945th ANNIVERSARY CAMPAIGN』', 'description': '[株式会社SHIBUYA109エンタテイメント]\\n株式会社SHIBUYA109エンタテイメント（本社：東京都渋谷区、代表取締役社長：石川あゆみ）は、東京・渋谷で運営する「SHIBUYA109渋谷店」が本年4月28日（日）に開業45周年を迎えることを記念して、2024年4月26日...', 'url': 'https://prtimes.jp/main/html/rd/p/000000292.000033586.html', 'urlToImage': 'https://prcdn.freetls.fastly.net/release_image/33586/292/33586-292-0caefbd45c9ff4afe187187e649b167e-1492x2114.jpg?format=jpeg&auto=webp&fit=bounds&width=1200&height=630', 'publishedAt': '2024-04-10T03:00:42Z', 'content': 'SHIBUYA109SHIBUYA109428452024426519NewJeansNewJeans × SHIBUYA109 45th ANNIVERSARY CAMPAIGNNewJeansSHIBUYA109\\r\\nNewJeansSHIBUYA10951\\r\\nNewJeansNewJeans2NewJeansBGM\\r\\n428()29()45FLOWER GIFTING427()/28()\\r\\n… [+1610 chars]'}, {'source': {'id': None, 'name': 'Khan.co.kr'}, 'author': '최민지 기자 ming@kyunghyang.com', 'title': '소속사 내홍? 뉴진스는 끄떡없다···‘버블검’ 뮤비 하루 만에 1100만 조회', 'description': '그룹 뉴진스. 어도어 제공\\n\\n그룹 뉴진스의 ‘버블검’ 뮤직비디오가 공개된 지 하루 만에 1100만 조회수를 돌파했다. 소속사 어도어와 모회사 하이브 간 갈등에도 끄떡없는 모습이다. 뮤직비디오에는 뉴진스의 향후 ···', 'url': 'https://m.khan.co.kr/article/202404281634001', 'urlToImage': 'https://img.khan.co.kr/news/2024/04/28/news-p.v1.20240428.08934c309f344befb0723de53b9d3e14_P1.jpg', 'publishedAt': '2024-04-28T07:34:00Z', 'content': '. \\r\\n1100 . . .\\r\\n28 4 1100 . .\\r\\n 24 (How Sweet) . , .\\r\\n3 40 . . , . . .\\r\\n . 66000 . ( ) .\\r\\n 40~50 . 40~50 . , , .\\r\\n . 25 . 27 (SNS) . . 26 A .\\r\\nNewJeans () Bubble Gum Official MV'}, {'source': {'id': None, 'name': 'Deadline'}, 'author': 'Jesse Whittock', 'title': 'K-Entertainment Streamer Kocowa+ Continues Rollout With Europe & Oceania Launches', 'description': 'EXCLUSIVE: The Hallyu march continues this week, as a major Korean content streaming service continues its global rollout. K-entertainment subscription streamer Kocowa+ has launched in Europe and Oceania, offering 30,000 hours — what Kocowa claims is the “lar…', 'url': 'http://deadline.com/2024/04/korea-kocowa-europe-oceania-streaming-kpop-1235873696/', 'urlToImage': 'https://deadline.com/wp-content/uploads/2024/04/Kocowa.jpg?w=1024', 'publishedAt': '2024-04-02T08:01:23Z', 'content': 'EXCLUSIVE: The Hallyu march continues this week, as a major Korean content streaming service continues its global rollout.\\r\\nK-entertainment subscription streamer Kocowa+ has launched in Europe and Oc… [+4246 chars]'}, {'source': {'id': None, 'name': 'Popbee.com'}, 'author': 'info@popbee.com (Popbee)', 'title': '怎麼能如此自然又漂亮：帶著新歌 MV 登場，NewJeans 新作品讓粉絲們都瘋了！', 'description': '在 HYBE 與 NewJeans 公司 ADOR 以及代表閔熙珍的相關爭議尚未平息之下，依舊維持著原訂回歸計劃的 NewJeans，在接連發布了新專輯預告後，帶來全新歌曲《Bubble Gum》的 MV，讓等待已久的粉絲們十分感動，舒服的輕快節奏中，依舊不失令人著迷的復古感，也讓支持者們再次讚嘆閔熙珍真的太會替 NewJeans 策劃形象以及周邊宣傳，表示女孩們真的不能沒有她！延伸閱讀：HYBE 股價暴跌，惹來 NewJeans、BTS 抄襲爭議，究竟 ADOR 出了什麼問題？\\xa0在 Instagram 查看這則…', 'url': 'https://popbee.com/celebrities/celebrities-news/newjeans-new-mv-bubble-gum-how-sweet-album-release-info', 'urlToImage': 'https://image-cdn.hypb.st/https%3A%2F%2Fpopbee.com%2Fimage%2F2024%2F04%2F0427007.jpg?w=960&cbr=1&q=90&fit=max', 'publishedAt': '2024-04-27T09:19:29Z', 'content': 'HYBE NewJeans ADOR NewJeansBubble Gum MV NewJeans \\r\\n5 24 NewJeans Danielle Hanni NewJeans \\r\\nNewJeans\\r\\nNewJeans\\r\\nNewJeans\\r\\nNewJeans\\r\\nNewJeans\\r\\nNewJeans\\r\\nNewJeans\\r\\nNewJeans\\r\\nNewJeans\\r\\nNewJeans\\r\\nNewJean… [+68 chars]'}, {'source': {'id': None, 'name': 'Prtimes.jp'}, 'author': None, 'title': 'Essential新CM出演中「NewJeans」の巨大広告が登場！JR渋谷・新宿駅をメンバー5人が一斉にジャック', 'description': '[花王エッセンシャルPR事務局]\\n[画像1: https://prtimes.jp/i/96518/8/resize/d96518-8-23818319558ed71cac4d-0.jpg ]\\n\\n\\u30002024年4月13日(土)に「Essential Premium（エッセンシャル プレミアム）」シリーズ発売に伴い、大人気グループNewJeans...', 'url': 'https://prtimes.jp/main/html/rd/p/000000008.000096518.html', 'urlToImage': 'https://prcdn.freetls.fastly.net/release_image/96518/8/96518-8-de1a624f6637c128fbf173d07d25811e-1318x652.jpg?format=jpeg&auto=webp&fit=bounds&width=1200&height=630', 'publishedAt': '2024-04-22T04:40:03Z', 'content': '2024413()Essential Premium NewJeansCM202448()\\r\\nEssential Premium2024422()428()7NewJeans5\\r\\nJRCM2NewJeans5\\r\\n\\xa0JR \\r\\n2024422428 \\r\\n2024CM \\r\\nNewJeans CM125 Essential\\r\\nJRBBB \\r\\n2024422428 \\r\\nJR\\r\\nJR////\\r\\nCM15\\r\\n… [+548 chars]'}, {'source': {'id': None, 'name': 'Popbee.com'}, 'author': 'info@popbee.com (Popbee)', 'title': 'NewJeans 新曲回歸：10+ 套 Boyish Style 靈感範本，看她們時髦混搭街頭 + 精品！', 'description': '近日韓國演藝圈 HYBE 娛樂公司與旗下子公司 ADOR 執行長閔熙珍的爭議越演越烈，好險還是沒有止住 NewJeans 的回歸計畫，在 Danielle 以 Celine 品牌大使身份快閃台灣之後，下一張《How Sweet》單曲專輯釋出了全新預告，Minji、Hanni、Danielle、Haerin、Hyein 五位成員都換上了全新造型，相較於〈Ditto〉中的高中生、Y2K 造型，這一次是可甜可帥的 Boyish Style！延伸閱讀－HYBE 股價暴跌，惹來 NewJeans、BTS 抄襲爭議，究竟 A…', 'url': 'https://popbee.com/celebrities/style/newjeans-how-sweet-styling-minji-hanni-danielle-haerin-hyein-street-fashion', 'urlToImage': 'https://image-cdn.hypb.st/https%3A%2F%2Fpopbee.com%2Fimage%2F2024%2F04%2Fiqjw99eer.jpg?w=960&cbr=1&q=90&fit=max', 'publishedAt': '2024-04-26T09:40:14Z', 'content': 'HYBE ADOR NewJeans Danielle Celine How SweetMinjiHanniDanielleHaerinHyein DittoY2K Boyish Style\\r\\nNewJeans MinjiHanniDanielleHaerinHyein How SweetDanielle Hanni … MV Popbee NewJeans \\r\\nNewJeans Boyish … [+248 chars]'}, {'source': {'id': None, 'name': 'Thefemin.com'}, 'author': 'The Femin', 'title': '朴寶劍、Danielle 特地來站台！CELINE 台北 101 精品店開幕，好多大明星都來了', 'description': 'CELINE 全新精品店進駐台北 101 購物中心，近日舉行開幕活動，活動上特地邀請到全球品牌大使朴寶劍及 NewJeans Danielle 前來共襄盛舉，還有多位台灣明星...', 'url': 'https://thefemin.com/2024/04/celine-new-store-open-taipei-101/', 'urlToImage': 'https://femin.adayimg.com/wp-content/uploads/2024/04/2bcf2eae1177caed61a4f9f3b2fc7445.jpg', 'publishedAt': '2024-04-27T08:37:30Z', 'content': 'CELINE 101 NewJeans Danielle \\r\\nCELINE 101 \\r\\nCELINE 101 Hedi Slimane 390 21 \\r\\nCELINE MAISON \\r\\n NewJeans Danielle \\r\\nCELINE NewJeans Danielle \\r\\n 5 CELINE Triomphe\\xa0 T \\r\\nNewJeans Danielle CELINE Triomphe … [+153 chars]'}, {'source': {'id': None, 'name': 'Yahoo Entertainment'}, 'author': '女人我最大', 'title': 'NewJeans的她訪台，網驚：乍看以為是大S？飲食習慣超早熟、起床第一件事做「這個」', 'description': '▲圖／趙世平攝、女大編輯部 怪物新人女團NewJeans 混血成員Danielle 與同樣是代言人的朴寶劍驚喜現身4／23現身台北101精品店，現場集結大量粉絲一睹偶像風采！NewJeans Dan', 'url': 'https://tw.news.yahoo.com/newjeans%E7%9A%84%E5%A5%B9%E8%A8%AA%E5%8F%B0-%E7%B6%B2%E9%A9%9A-%E4%B9%8D%E7%9C%8B%E4%BB%A5%E7%82%BA%E6%98%AF%E5%A4%A7s-%E9%A3%B2%E9%A3%9F%E7%BF%92%E6%85%A3%E8%B6%85%E6%97%A9%E7%86%9F-%E8%B5%B7%E5%BA%8A%E7%AC%AC-000000019.html', 'urlToImage': 'https://media.zenfs.com/en/woman_tvbs_com_tw_428/eb4ddca4fa49d05ecedc420f7feb4339', 'publishedAt': '2024-04-28T16:00:00Z', 'content': 'NewJeans Danielle 4/23101NewJeans Danielle POLOCELINE VICTOIRESCELINE\\r\\nNewJeans Danielle \\r\\nNewJeans Danielle CELINEDanielle19Danielle Marsh2005411DanielleNewJeans2022AttentionNewJeans Danielle Burber… [+169 chars]'}, {'source': {'id': None, 'name': 'Yahoo Entertainment'}, 'author': None, 'title': 'NewJeans、ILLIT抄襲爭議延燒！閔熙珍守護NewJeans反擊母公司HYBE說法？ | BAZAAR', 'description': 'NewJeans、ILLIT抄襲爭議！閔熙珍守護NewJeans反擊母公司HYBE？韓國女團NewJeans成員Danielle來台灣！ILLIT陷抄襲NewJeans爭議，新歌也深陷性暗示風波。', 'url': 'https://consent.yahoo.com/v2/collectConsent?sessionId=1_cc-session_55486f0c-1324-47b5-84b2-f5d9d92f5f31', 'urlToImage': None, 'publishedAt': '2024-04-23T09:52:00Z', 'content': \"If you click 'Accept all', we and our partners, including 238 who are part of the IAB Transparency &amp; Consent Framework, will also store and/or access information on a device (in other words, use … [+678 chars]\"}, {'source': {'id': None, 'name': 'Prtimes.jp'}, 'author': None, 'title': '【グッチ ビューティ】グッチ ビューティの新たなグローバル・ブランドアンバサダーにNewJeansのハニが就任', 'description': '[コティジャパン合同会社]\\n\\n[画像1: https://prtimes.jp/i/110943/12/resize/d110943-12-d8bac19b659a4f8ff746-0.png ]\\n\\n2024年3月28日 - グッチ ビューティは、NewJeansのハニが新しいグローバル・ブランドアンバサダーに就任したことを発...', 'url': 'https://prtimes.jp/main/html/rd/p/000000012.000110943.html', 'urlToImage': 'https://prcdn.freetls.fastly.net/release_image/110943/12/110943-12-f8c8642d8d729d4c3e9e4250cedcc0c3-727x902.png?format=jpeg&auto=webp&fit=bounds&width=1200&height=630', 'publishedAt': '2024-04-02T02:01:42Z', 'content': '2024328 - NewJeans202210 \\r\\n202275 NewJeans \\r\\nNewJeans \\r\\n·\\xa0\\xa0 \\r\\n·\\xa0\\xa0 \\r\\n·\\xa0\\xa0 \\r\\n·\\xa0\\xa0 140W\\r\\n·\\xa0\\xa0 (16C)\\r\\n·\\xa0\\xa0 07 \\r\\n·\\xa0\\xa0 \\r\\n·\\xa0\\xa0 (05 )\\r\\n·\\xa0\\xa0 (01 )\\r\\n·\\xa0\\xa0 01 \\r\\n·\\xa0\\xa0 1 208 \\r\\n·\\xa0\\xa0 2 509 \\xa0\\r\\nDEPACO \\r\\nCreative Director: Sabat… [+152 chars]'}, {'source': {'id': None, 'name': 'Popbee.com'}, 'author': 'info@popbee.com (Popbee)', 'title': 'HYBE 風波後，一身 Chanel 現身的 NewJeans Minji，心情似乎也受到影響！', 'description': '這段時間 HYBE 以及旗下獨立廠牌 ADOR 的各種爭議新聞以及公司展開的相關審查，成為了韓國娛樂圈備受熱議的焦點，而作為 ADOR 旗下由閔熙珍一手打造的 NewJeans 也被牽連其中，在雙方的相互鬥爭下，不免被網民們議論紛紛，讓粉絲們十分心疼五位女孩。延伸閱讀：HYBE 股價暴跌，惹來 NewJeans、BTS 抄襲爭議，究竟 ADOR 出了什麼問題？ 在 Instagram 查看這則貼文NewJeans（@newjeans_official）分享的貼文日前 NewJeans 成員 Minji 在風波公開…', 'url': 'https://popbee.com/celebrities/celebrities-news/newjeans-minji-chanel-event-korea-hybe-ador', 'urlToImage': 'https://image-cdn.hypb.st/https%3A%2F%2Fpopbee.com%2Fimage%2F2024%2F04%2F12y4712irgkrf2o497t1g24khh1o24t.jpg?w=960&cbr=1&q=90&fit=max', 'publishedAt': '2024-04-25T05:00:57Z', 'content': 'HYBE ADOR ADOR NewJeans\\r\\nNewJeans Minji Chanel Minji \\r\\nPhoto by Han Myung-Gu/WireImage\\r\\nHYBE ADOR NewJeans NewJeans \\r\\nPhoto by Han Myung-Gu/WireImage\\r\\nPopbee Circle Popbee'}, {'source': {'id': None, 'name': 'Storm.mg'}, 'author': '柯家媛', 'title': '閔熙珍記者會懶人包》淚控遭背叛…驚曝「NewJeans應為HYBE第一個女團」！「開撕老闆」戰服成焦點', 'description': '南韓經紀公司「HYBE」近日爆出和子公司「ADOR」內鬥，先是控訴ADOR代表閔熙珍和高層試圖爭奪公司經營權，甚至不惜操控輿論、...', 'url': 'https://www.storm.mg/lifestyle/5101841', 'urlToImage': 'https://image.cache.storm.mg/styles/smg-800x533-fp/s3/media/image/2024/04/26/20240426-122856_U28265_M949508_c8f0.jpeg?NfCT1viKlyl0Qob3M9l4GxU4WprKzyj9&itok=1rhhKIVx', 'publishedAt': '2024-04-26T04:39:18Z', 'content': 'HYBEADORADOR25\\r\\n[LINE] \\r\\nHYBEADOR\\r\\nHYBEADORADORADORADORHYBEADOR\\r\\nHYBEADORNewJeansILLIT\\r\\n1.\\r\\n2.HYBE\\r\\nNewJeansNewJeans\\r\\nHYBEKakaoTalkHYBE\\r\\n4.BTS\\r\\nNewJeansHYBEBTS\\r\\nHYBEHYBE\\r\\n5.SM\\r\\nSMSM\\r\\n7.\\xa0GFRIEND\\r\\n8. N… [+150 chars]'}, {'source': {'id': None, 'name': 'Goo.ne.jp'}, 'author': None, 'title': 'NewJeans独立騒動にファン悲鳴', 'description': '親会社と子会社の骨肉の争いBTSを生んだ韓国の最大手芸能事務所HYBE（ハイブ）に激震が走っている。HYBEの子会社でNewJeans（ニュージーンズ）を擁するレーベル「ADOR（ア...', 'url': 'https://news.goo.ne.jp/topstories/entertainment/999/e0e2b8a2b71f183f76c2b10565c03acc.html?fr=RSS', 'urlToImage': 'https://img.news.goo.ne.jp/picture/dailyshincho/m_dailyshincho-1119630.jpg', 'publishedAt': '2024-04-25T03:23:00Z', 'content': '() 2024/04/25 11:02\\r\\nNewJeans\\r\\n()\\r\\nBTSHYBEHYBENewJeansADORHYBE1000NewJeans6'}, {'source': {'id': None, 'name': 'Rlsbb.cc'}, 'author': 'saamaan1@yahoo.com (Master)', 'title': 'Melon Top 100 K-Pop Singles Chart (2024.04.20)', 'description': 'Tracklist:01. ILLIT - Magnetic02. (G)I-DLE - Fate03. TWS - plot twist04. Bibi - Bam Yang Gang05. 이창섭 - Heavenly fate06. IU - Love wins all07. DAY6 - You Were Beautiful08. LE SSERAFIM - EASY09. Lim Jae Hyun - Rhapsody of Sadness10. DAY6 - Time of Our Life11. q…', 'url': 'https://rlsbb.cc/melon-top-100-k-pop-singles-chart-2024-04-20/', 'urlToImage': None, 'publishedAt': '2024-04-21T21:25:30Z', 'content': 'Tracklist:01. ILLIT - Magnetic02. (G)I-DLE - Fate03. TWS - plot twist04. Bibi - Bam Yang Gang05. - Heavenly fate06. IU - Love wins all07. DAY6 - You Were Beautiful08. LE SSERAFIM - EASY09. Lim Jae Hy… [+2798 chars]'}, {'source': {'id': None, 'name': 'Forbes'}, 'author': 'Jeff Benjamin, Senior Contributor, \\n Jeff Benjamin, Senior Contributor\\n https://www.forbes.com/sites/jeffbenjamin/', 'title': 'ILLIT Enter K-Pop World With Unprecedented, ‘Magnetic’ Debut Single', 'description': 'In a whirlwind of youthful, magnetic charm, ILLIT, the latest girl group sensation from HYBE LABELS and BELIFT LAB, has stormed onto the global music scene with their ...', 'url': 'https://www.forbes.com/sites/jeffbenjamin/2024/03/31/illit-enter-k-pop-world-with-unprecedented-magnetic-debut-single/', 'urlToImage': 'https://imageio.forbes.com/specials-images/imageserve/660a2cdc41fe75f40b573b06/0x0.jpg?format=jpg&crop=3000,2000,x0,y0,safe&height=900&width=1600&fit=bounds', 'publishedAt': '2024-04-01T03:59:55Z', 'content': 'ILLIT\\r\\nPhoto Courtesy of BELIFT LAB\\r\\nIn a whirlwind of magnetic charm, the latest girl group sensation from HYBE stormed onto the global music scene with a fervent buzz around their debut single.\\r\\nHa… [+4699 chars]'}, {'source': {'id': None, 'name': 'NPR'}, 'author': 'Lars Gotrich', 'title': '8 Tracks: Samba shoegaze, cherry blossom jazz and an 8-bit K-pop crush', 'description': 'Sonhos Tomam Conta captures an oceanic dream, Fuubutsushi soundtracks a pastoral adventure and ILLIT is pure bubblegum. Those and more are the 8 Tracks to know this week.', 'url': 'https://www.npr.org/2024/04/02/1242277565/8-tracks-fuubutsushi-illit-pedro-the-lion', 'urlToImage': 'https://media.npr.org/assets/img/2024/04/02/sonhos-tomam-conta_wide-11148c31071c703d4683af48075dd7c1970c11a5-s1400-c100.jpg', 'publishedAt': '2024-04-02T18:43:00Z', 'content': 'Sonhos Tomam Conta roughly translates as \"dreams take over,\" which is a perfect way to think of this samba-infused shoegaze project from São Paulo.\\r\\nCourtesy of the artist\\r\\n8 Tracks is your antidote … [+6271 chars]'}, {'source': {'id': None, 'name': 'Popbee.com'}, 'author': 'info@popbee.com (Popbee)', 'title': '先別管 Hedi Slimane 合約問題：Celine 第 12 枝高定香水 ZOUZOU 面世，單看包裝就先愛上！', 'description': '2024 是 Celine 的話題之年：先是宣佈推出 Celine 第一枝唇膏、任命 NewJeans Danielle 為品牌大使，再有就是 Hedi Slimane 的合約問題，讓品牌在 2024 年一直是時裝界的熱話。最近，Celine 為高定香水系添加新成員，推出第 12 枝高定香水 ZOUZOU，讓品牌再次成為熱話了！延伸閱讀：接任 Lisa 之位？Celine 宣佈 NewJeans Danielle 為全球品牌大使，那代表⋯⋯？\\xa0View this post on Instagram\\xa0A post …', 'url': 'https://popbee.com/beauty/perfumes/new-member-of-celine-haute-parfumerie-zouzou', 'urlToImage': 'https://image-cdn.hypb.st/https%3A%2F%2Fpopbee.com%2Fimage%2F2024%2F04%2Ffotojet-11.jpg?w=960&cbr=1&q=90&fit=max', 'publishedAt': '2024-04-28T03:29:15Z', 'content': '2024 Celine Celine NewJeans Danielle Hedi Slimane 2024 Celine 12 ZOUZOU\\r\\n Lisa Celine NewJeans Danielle \\r\\nCeline Celine 1964 2001 2011 Interparfum 2011 LVMH 2019 Celine Celine 2019 11 ZOUZOU \\r\\nZOUZOU… [+59 chars]'}, {'source': {'id': None, 'name': 'Prtimes.jp'}, 'author': None, 'title': '～NewJeansがブランドイメージを体現～ロッテ『ZERO(ゼロ)』新キービジュアル始動！', 'description': '[株式会社ロッテ]\\n\\u3000\\n[画像1: https://prtimes.jp/i/86324/42/resize/d86324-42-68499fd6806f530055f8-2.jpg ]\\n\\n\\n\\u3000株式会社ロッテ（本社：東京都新宿区、代表取締役社長：中島英樹）は、イタガム(板ガム)の広告コミュニケーション...', 'url': 'https://prtimes.jp/main/html/rd/p/000000042.000086324.html', 'urlToImage': 'https://prcdn.freetls.fastly.net/release_image/86324/42/86324-42-08331ae406d1440b45470bba4ff2774f-3737x1878.jpg?format=jpeg&auto=webp&fit=bounds&width=1200&height=630', 'publishedAt': '2024-04-14T19:00:00Z', 'content': '() 20225NewJeans()ZERO()2024\\r\\nZERONewJeans5NewJeansZERO()ZERO 415()\\r\\nNewJeans()ZERO\\r\\n0.5g(100g)0()\\r\\nYouTube\\r\\nZERO532\\r\\n3\\r\\n ()Youtube\\r\\nURLhttps://youtu.be/kktAJfotDe4\\xa0 415()\\r\\nZERO\\r\\nZERO1996\\r\\n2024415()\\r… [+797 chars]'}, {'source': {'id': None, 'name': 'Popbee.com'}, 'author': 'info@popbee.com (Popbee)', 'title': '朴寶劍、Danielle 帶你逛：Celine 台北 101 全新店開幕，像是美術館一樣優雅！', 'description': 'Popbee 和大家預告了好一陣子，終於等到 Celine 全新精品店在台北 101 開幕，延續由創意總監 Hedi Slimane 構思的建築設計，共有 390 平方公尺大的遼闊空間，不僅是新款的時裝、手袋、鞋履，還有一系列 Maison 生活家居系列、2020 年推出的高級訂製香氛系列、以及 Celine 高級訂製珠寶系列... 都可以逛到，應有盡有很難不失心瘋，更何況是還有品牌大使朴寶劍、NewJeans Danielle 的光芒加持！延伸閱讀－接任 Lisa 之位？Celine 宣佈 NewJeans D…', 'url': 'https://popbee.com/fashion/fashion-news/celine-newjeans-danielle-park-bo-gum-taipei-101-ambassador', 'urlToImage': 'https://image-cdn.hypb.st/https%3A%2F%2Fpopbee.com%2Fimage%2F2024%2F04%2Fqwjbeje.jpg?w=960&cbr=1&q=90&fit=max', 'publishedAt': '2024-04-25T08:50:32Z', 'content': 'Popbee Celine 101 Hedi Slimane 390 Maison 2020 Celine … NewJeans Danielle\\r\\nCeline 101 21 Hedi Slimane Jacob KassyWolfgang Voegele Indrikis GelzisKim DacresLukas GeronimasMichele MathisonShigeo Toya \\r… [+162 chars]'}, {'source': {'id': None, 'name': 'Livedoor.jp'}, 'author': 'kaikaihanno', 'title': '韓国人「日本人の彼女ができたら見れるシーン」', 'description': '韓国のネット掲示板イルベに「日本人の彼女ができたら見れるシーン」というスレッドが立っていたのでご紹介。', 'url': 'http://blog.livedoor.jp/kaikaihanno/archives/61459802.html', 'urlToImage': 'https://livedoor.blogimg.jp/kaikaihanno/imgs/3/9/39dcfaef.png', 'publishedAt': '2024-04-29T08:55:51Z', 'content': \"1. https://www.ilbe.com/view/11529806886\\r\\n2. \\r\\n3. \\r\\n4. \\r\\n5. \\r\\n6. &gt;&gt;5\\r\\nNewJeans 'Hype Boy' Official MV (Performance ver.1)\\r\\n7. &gt;&gt;62003\\r\\n8. &gt;&gt;5\\r\\n9. \\r\\n10. \\r\\n11. \\r\\n12. \\r\\n13. &gt;&gt;12\\r… [+100 chars]\"}, {'source': {'id': None, 'name': 'Popbee.com'}, 'author': 'info@popbee.com (Popbee)', 'title': '彩虹腕錶惹人愛：Lisa 今次佩戴的不是 Bulgari，而是來自 LVMH 的這個品牌', 'description': '近日在時尚界的熱話，非 Lisa 莫屬。早前 Celine 宣佈任命 NewJeans 成員 Danielle 為品牌大使，全城也在討論 Lisa 跟 Celine 的合約事宜，加上 Lisa 現與 LVMH 集團關係非常非常密切，正所謂「肥水不流人田」，跟 Celine 的合約不難猜測已告一段落。Lisa 日前現身泰國機場，眼利的 Blinks 一看就看到 Lisa 所佩戴的腕錶，不再是來自 Bulgari，而是來自 Hublot 的 Big Bang One Click Rainbow King Gold。延…', 'url': 'https://popbee.com/accessories/watches/lisa-wore-hulbot-watches', 'urlToImage': 'https://image-cdn.hypb.st/https%3A%2F%2Fpopbee.com%2Fimage%2F2024%2F04%2Ffotojet-85.jpg?w=960&cbr=1&q=90&fit=max', 'publishedAt': '2024-04-08T21:29:47Z', 'content': 'Lisa Celine NewJeans Danielle Lisa Celine Lisa LVMH Celine Lisa Blinks Lisa Bulgari Hublot Big Bang One Click Rainbow King Gold\\r\\n Lisa Celine NewJeans Danielle \\r\\n Lisa Hublot Big Bang One Click Rainb… [+122 chars]'}, {'source': {'id': None, 'name': 'Yahoo Entertainment'}, 'author': None, 'title': '閔熙珍14點召開記者會！NewJeans「經紀公司爆內鬥」HYBE將提告ADOR', 'description': '娛樂中心／徐珮華報導 南韓經紀公司ADOR執行長閔熙珍一手打造大勢女團NewJeans，被外界封為「NewJeans之母」。怎料近日傳出她有意背叛母公司HYBE，帶著NewJ', 'url': 'https://consent.yahoo.com/v2/collectConsent?sessionId=1_cc-session_83ba7ec5-909c-4018-af69-3ad34f99a7e4', 'urlToImage': None, 'publishedAt': '2024-04-24T22:00:03Z', 'content': \"If you click 'Accept all', we and our partners, including 238 who are part of the IAB Transparency &amp; Consent Framework, will also store and/or access information on a device (in other words, use … [+678 chars]\"}, {'source': {'id': None, 'name': 'Yahoo Entertainment'}, 'author': None, 'title': '閔熙珍才槓HYBE！NewJeans震撼宣布「回歸新喜訊」\\u3000衝破6百萬點閱', 'description': '娛樂中心／林汝珊報導 近日NewJeans之母閔熙珍槓上母公司HYBE娛樂，掀起公司內戰，HYBE也提出告訴，要求閔熙珍卸任，許多粉絲擔心NewJeans會因此受影響', 'url': 'https://consent.yahoo.com/v2/collectConsent?sessionId=1_cc-session_671211ad-7429-41d7-b742-68f54a924f22', 'urlToImage': None, 'publishedAt': '2024-04-27T00:50:03Z', 'content': \"If you click 'Accept all', we and our partners, including 238 who are part of the IAB Transparency &amp; Consent Framework, will also store and/or access information on a device (in other words, use … [+678 chars]\"}, {'source': {'id': None, 'name': 'Just Jared'}, 'author': 'Just Jared', 'title': 'iHeartRadio Music Awards 2024 - Complete Winners List Revealed!', 'description': 'The complete list of winners for the 2024 iHeartRadio Music Awards has been revealed! The show took place on Monday (April 1) at the Dolby Theater in Los Angeles. Beyonce, Katy Perry, Jared Leto, Cher, Meryl Streep, and many more stars were in attendance at t…', 'url': 'https://www.justjared.com/2024/04/01/iheartradio-music-awards-2024-complete-winners-list-revealed/', 'urlToImage': 'https://cdn01.justjared.com/wp-content/uploads/headlines/2024/04/iheart-winners.jpg', 'publishedAt': '2024-04-02T02:10:08Z', 'content': 'The complete list of winners for the 2024 iHeartRadio Music Awards has been revealed!\\r\\nThe show took place on Monday (April 1) at the Dolby Theater in Los Angeles. \\r\\nBeyonce, Katy Perry, Jared Leto, … [+7800 chars]'}, {'source': {'id': None, 'name': 'WWD'}, 'author': 'Maggie Clancy', 'title': 'Kim Kardashian Revives Her Bodycon Dress Era in Alaia With Kris Jenner in Sheer Nina Ricci Look at Breakthrough Prize 2024\\xa0Awards', 'description': 'Mother-daughter duo Kim Kardashian, wearing an Alaia white dress, and Kris Jenner, in a sheer look, attended the Breakthrough Prize Awards 2024.', 'url': 'http://wwd.com/pop-culture/celebrity-news/kim-kardashian-alaia-dress-breakthrough-prize-2024-awards-1236313678/', 'urlToImage': 'https://wwd.com/wp-content/uploads/2024/04/kim-kardashian-kris-jenner-breakthrough-prize.jpg?w=1024', 'publishedAt': '2024-04-14T18:25:39Z', 'content': 'Kim Kardashian and her mother Kris Jenner adhered to a mother-daughter complementary black and whitte theme for their appearance on the red carpet for the Breakthrough Prize Honors Ceremony, which to… [+3121 chars]'}, {'source': {'id': None, 'name': 'Yahoo Entertainment'}, 'author': None, 'title': 'NewJeans傳出忙內受傷！ 檢查後證實骨折公司宣布停工', 'description': 'NewJeans傳出忙內受傷！ 檢查後證實骨折公司宣布停工', 'url': 'https://consent.yahoo.com/v2/collectConsent?sessionId=1_cc-session_d27653b7-56a8-4fc6-9be4-40757d32a563', 'urlToImage': None, 'publishedAt': '2024-04-11T09:13:27Z', 'content': \"If you click 'Accept all', we and our partners, including 239 who are part of the IAB Transparency &amp; Consent Framework, will also store and/or access information on a device (in other words, use … [+678 chars]\"}, {'source': {'id': None, 'name': 'Yahoo Entertainment'}, 'author': None, 'title': 'CEO發員工信\\u3000HYBE娛樂：守護NewJeans優先', 'description': '[NOWnews今日新聞]防彈少年團（BTS）的公司HYBE娛樂，旗下兩間子公司ADOR娛樂、BELIFTLAB，各擁大勢女團NewJeans、ILLIT，HYBE娛樂近日將「NewJeans之母」閔...', 'url': 'https://consent.yahoo.com/v2/collectConsent?sessionId=1_cc-session_c8e856a5-232f-4125-9647-1bd54c543a8e', 'urlToImage': None, 'publishedAt': '2024-04-23T05:36:10Z', 'content': \"If you click 'Accept all', we and our partners, including 238 who are part of the IAB Transparency &amp; Consent Framework, will also store and/or access information on a device (in other words, use … [+678 chars]\"}, {'source': {'id': None, 'name': 'Yahoo Entertainment'}, 'author': None, 'title': '閔熙珍被爆拒開股東會！2理由死不面對「私人信件曝光」嗆：不合法', 'description': '記者陳穎／台北報導 近日NewJeans之母閔熙珍槓上母公司HYBE娛樂，掀起公司內戰，HYBE也提出告訴，要求閔熙珍卸任，許多粉絲擔心NewJeans會因此受影響，', 'url': 'https://consent.yahoo.com/v2/collectConsent?sessionId=1_cc-session_c56fa852-0937-4985-b9b0-a487d806962f', 'urlToImage': None, 'publishedAt': '2024-04-29T02:10:03Z', 'content': \"If you click 'Accept all', we and our partners, including 238 who are part of the IAB Transparency &amp; Consent Framework, will also store and/or access information on a device (in other words, use … [+678 chars]\"}, {'source': {'id': None, 'name': 'Yahoo Entertainment'}, 'author': None, 'title': '閔熙珍爆帶NewJeans出走\\u3000HYBE市值蒸發7498億！網驚：等於一個YG', 'description': '娛樂中心／林汝珊報導 韓國大勢女團NewJeans出道就紅遍全球，幕後推手ADOR娛樂負責人閔熙珍功不可沒，昨（22日）驚爆閔熙珍密謀帶著NewJeans出走，擁有8', 'url': 'https://consent.yahoo.com/v2/collectConsent?sessionId=1_cc-session_b5de7118-2fec-4110-8d1e-a58d7ed06d7e', 'urlToImage': None, 'publishedAt': '2024-04-22T20:10:03Z', 'content': \"If you click 'Accept all', we and our partners, including 238 who are part of the IAB Transparency &amp; Consent Framework, will also store and/or access information on a device (in other words, use … [+678 chars]\"}, {'source': {'id': None, 'name': 'Yahoo Entertainment'}, 'author': None, 'title': 'ILLIT打破師姐NewJeans紀錄！ 成為首週銷量最高的KPOP女團', 'description': 'ILLIT打破師姐NewJeans紀錄！ 成為首週銷量最高的KPOP女團', 'url': 'https://consent.yahoo.com/v2/collectConsent?sessionId=1_cc-session_17cbe515-3089-49b1-b769-2e94c4542790', 'urlToImage': None, 'publishedAt': '2024-04-03T09:56:43Z', 'content': \"If you click 'Accept all', we and our partners (including 240 who are part of the IAB Transparency &amp; Consent Framework) will also use cookies and your personal data, such as IP address, precise l… [+686 chars]\"}, {'source': {'id': None, 'name': 'Yahoo Entertainment'}, 'author': '三立新聞網', 'title': '「漢江的貓」是什麼？超狂魅力KPOP都淪陷\\u3000出處貓長這樣', 'description': '娛樂中心／楊雅芸報導 韓國舞蹈Challenge挑戰並不限於打歌歌曲，有時候一些Tik Tok熱門或是搞笑音樂，像是日前的「啵比啵比啵」，都會被韓國藝人翻拍來跟上熱潮', 'url': 'https://tw.news.yahoo.com/%E6%BC%A2%E6%B1%9F%E7%9A%84%E8%B2%93-%E6%98%AF%E4%BB%80%E9%BA%BC-%E8%B6%85%E7%8B%82%E9%AD%85%E5%8A%9Bkpop%E9%83%BD%E6%B7%AA%E9%99%B7-%E5%87%BA%E8%99%95%E8%B2%93%E9%95%B7%E9%80%99%E6%A8%A3-092004530.html', 'urlToImage': 'https://media.zenfs.com/en/setn.com.tw/600e18b991749c121d18b395770e34da', 'publishedAt': '2024-04-20T01:20:04Z', 'content': 'ChallengeTik Tokaespa KarinaENHYPENJAKESUNGHOONSEVENTEENJoshuaDK\\r\\nSNSaespa KarinaENHYPENJAKESUNGHOONSEVENTEENJoshuaDK\\r\\nIU NewJeans'}, {'source': {'id': None, 'name': 'Yahoo Entertainment'}, 'author': None, 'title': '「NewJeans之母」閔熙珍撇奪權\\u3000反咬HYBE放任ILLIT抄襲', 'description': '韓國人氣女團「NewJeans」成員Danielle昨晚（4╱22）才為CELINE抵台，準備出席今天CELINE台北101精品店活動，不過經紀公司「ADOR」老闆閔熙珍卻遭母公司「HYBE娛樂」指控企圖奪經營權、帶「NewJeans」出走自立門戶，對此閔熙珍不僅否認，還反嗆同屬「HYBE」子公司的新女團「ILLIT」抄襲「NewJeans」。', 'url': 'https://consent.yahoo.com/v2/collectConsent?sessionId=1_cc-session_ad9d8c91-f593-4c24-939e-ff01a571ea30', 'urlToImage': None, 'publishedAt': '2024-04-22T08:47:18Z', 'content': \"If you click 'Accept all', we and our partners, including 238 who are part of the IAB Transparency &amp; Consent Framework, will also store and/or access information on a device (in other words, use … [+678 chars]\"}, {'source': {'id': None, 'name': 'Prtimes.jp'}, 'author': None, 'title': '人気の韓国ブランド MARGESHERWOOD ( マージシャーウッド ) JOY GRYSON ( ジョイグライソン ) NOTHING WRITTEN ( ナッシングリトゥン ) がついに日本上陸', 'description': '[株式会社マルコローナ]\\n[画像1: https://prtimes.jp/i/86820/24/resize/d86820-24-bbf3fc53ba7b430c66cf-0.jpg ]\\n\\nNewJeans ( ニュージーンズ ) やハン・ソヒなど、多くの人気 K-POP アーティストや、人気女優も愛用している韓国ブラン...', 'url': 'https://prtimes.jp/main/html/rd/p/000000024.000086820.html', 'urlToImage': 'https://prcdn.freetls.fastly.net/release_image/86820/24/86820-24-371d1ff14e72abc94b117c19b1206dba-2000x2000.jpg?format=jpeg&auto=webp&fit=bounds&width=1200&height=630', 'publishedAt': '2024-04-01T00:00:00Z', 'content': \"NewJeans ( ) K-POP 3\\r\\n1. MARGESHERWOOD ( )\\r\\nNew Jeans ( ) Red Velvet ( ) SNSD ( GIRLS' GENERATION ) \\r\\n( ) ( ) FLAGSHIP STORE ( ) \\r\\n: 27,270 ( 29,997 ) ~ 49,990 ( 54,989 )\\r\\n2 . JOY GRYSON ( )\\r\\n: \\r\\nMAR… [+495 chars]\"}, {'source': {'id': None, 'name': 'Yahoo Entertainment'}, 'author': '記者陳雅蘭／綜合報導', 'title': '首露臉爆哭！閔熙珍否認一切指控', 'description': '[NOWnews今日新聞]閔熙珍被母公司HYBE發現策劃獨立，要把旗下藝人NewJeans帶走，氣得HYBE創辦人、同時也是培訓BTS紅遍全球的房時爀揚言喊告，要求閔熙珍卸任子公司「ADOR」CEO職...', 'url': 'https://tw.news.yahoo.com/%E9%A6%96%E9%9C%B2%E8%87%89%E7%88%86%E5%93%AD-%E9%96%94%E7%86%99%E7%8F%8D%E5%90%A6%E8%AA%8D-%E5%88%87%E6%8C%87%E6%8E%A7-172706581.html', 'urlToImage': 'https://media.zenfs.com/en/nownews.com/a9450c663ececb4d3698a85a1e5a63a8', 'publishedAt': '2024-04-25T09:27:06Z', 'content': 'NewJeansHYBESBS YouTubeNewJeans X\\r\\n[NOWnews] HYBENewJeansHYBEBTSADORCEO25\\r\\n2002SMSHINeef(x)EXORed VelvetMV2019HYBEADORADORNewJeansNewJeansNewJeans422HYBENewJeansFIFTY FIFTY 2.0\\r\\nHYBEILLITNewJeansTWSN… [+86 chars]'}, {'source': {'id': None, 'name': 'Prtimes.jp'}, 'author': None, 'title': '「星になれ ヴェーダの騎士たち」サービス記念生放送が本日放送！流れ星☆ ちゅうえいさん、インパルス 板倉俊之さんも参戦しチーム対抗 スターになれ3本勝負！', 'description': '[株式会社HYBE JAPAN]\\n[画像: https://prtimes.jp/i/45862/366/resize/d45862-366-1eb91cd68a528d6413d0-0.png ]\\n\\nBTSやSEVENTEEN、NewJeansなど世界的アーティストを擁するエンターテインメントライフスタイルプラットフォーム企業HYB...', 'url': 'https://prtimes.jp/main/html/rd/p/000000366.000045862.html', 'urlToImage': 'https://prcdn.freetls.fastly.net/release_image/45862/366/45862-366-bbc76e4846df875c7de9d31ad643ae35-1600x900.png?format=jpeg&auto=webp&fit=bounds&width=1200&height=630', 'publishedAt': '2024-04-12T04:40:02Z', 'content': 'BTSSEVENTEENNewJeansHYBECEOHYBE IM42PCRPG \\r\\n20 YouTube\\r\\n 3\\r\\n1\\r\\nYouTube\\r\\n2\\r\\n3\\r\\n2024412() 20:00\\r\\nURL YouTube\\r\\nhttps://www.youtube.com/watch?v=4B7VAB5IYRM\\r\\n ()\\r\\n ()\\r\\n ()\\r\\n ()\\r\\nMCyukishiro\\r\\n(50)\\r\\n X(Twit… [+142 chars]'}, {'source': {'id': None, 'name': 'Prtimes.jp'}, 'author': None, 'title': 'HYBE IM、2Dアニメーション風RPG新作「OZ Re:write」タイトル名正式決定！ゲームパブリッシング事業をさらに強化', 'description': '[株式会社HYBE JAPAN]\\n[画像: https://prtimes.jp/i/45862/370/resize/d45862-370-b8095aba3deaa8db1ed5-0.jpg ]\\n\\nBTSやSEVENTEEN、NewJeansなど世界的アーティストを擁するエンターテインメントライフスタイルプラットフォーム企業HYB...', 'url': 'https://prtimes.jp/main/html/rd/p/000000370.000045862.html', 'urlToImage': 'https://prcdn.freetls.fastly.net/release_image/45862/370/45862-370-92756e66622397464a720d74045f8b13-640x437.jpg?format=jpeg&auto=webp&fit=bounds&width=1200&height=630', 'publishedAt': '2024-04-22T02:40:03Z', 'content': 'BTSSEVENTEENNewJeansHYBECEOHYBE IMMACOVILLOZOZ Re:write\\r\\nOZ Re:write HYEB IM\\r\\nRPG2D\\r\\nOZ Re:write7\\r\\nSNS()\\r\\nMACOVILL20202MACOVILLOZ Re:write\\r\\nHYBE IM\\r\\nHYBE IMHYBE\\r\\nHYBE IMHYBE'}, {'source': {'id': None, 'name': 'Uol.com.br'}, 'author': 'Camila Monteiro', 'title': None, 'description': 'O Universo K-pop acordou na última segunda-feira (22) com uma briga enorme entre CEOs proeminentes de duas empresas bem sucedidas do gênero: HYBE e ADOR, sua subsidiária.So who are we siding with? pic.twitter.com/Kt4IAZTcnP-- blackpink on repeat. (@bpo', 'url': 'https://www.uol.com.br/splash/noticias/2024/04/23/o-que-sabemos-sobre-o-drama-min-heejin-e-ador-vs-hybe.htm', 'urlToImage': 'https://conteudo.imguol.com.br/c/splash/8c/2024/04/22/newjeans-esquerda-e-illit-direita-os-grupos-envolvidos-no-drama-1713827023212_v2_615x300.jpg', 'publishedAt': '2024-04-23T18:08:40Z', 'content': 'O que aconteceu?\\r\\nNa última segunda-feira (22), a ADOR soltou um comunicado extenso, com duras críticas ao presidente da HYBE, Bang Sihyuk e a BE:LIFT, outra subsidiária da empresa, casa dos grupos E… [+963 chars]'}, {'source': {'id': None, 'name': 'Yahoo Entertainment'}, 'author': None, 'title': 'NewJeans驚喜現身GD的IG！「超另類聯動」網友驚訝：是要合作嗎？', 'description': 'NewJeans驚喜現身GD的IG！「超另類聯動」網友驚訝：是要合作嗎？', 'url': 'https://consent.yahoo.com/v2/collectConsent?sessionId=1_cc-session_c4076e32-07c4-4a97-a2cd-18787228c0f5', 'urlToImage': None, 'publishedAt': '2024-04-20T06:28:28Z', 'content': \"If you click 'Accept all', we and our partners, including 238 who are part of the IAB Transparency &amp; Consent Framework, will also store and/or access information on a device (in other words, use … [+678 chars]\"}, {'source': {'id': None, 'name': 'Yahoo Entertainment'}, 'author': None, 'title': 'ILLIT抄襲爭議又+1？ 被網友抓包複製NewJeans成員招牌動作', 'description': 'ILLIT抄襲爭議又+1？ 被網友抓包複製NewJeans成員招牌動作', 'url': 'https://consent.yahoo.com/v2/collectConsent?sessionId=1_cc-session_bd903ffc-d4c9-40ae-883f-0b94c4de8b5c', 'urlToImage': None, 'publishedAt': '2024-04-28T10:04:02Z', 'content': \"If you click 'Accept all', we and our partners, including 238 who are part of the IAB Transparency &amp; Consent Framework, will also store and/or access information on a device (in other words, use … [+678 chars]\"}, {'source': {'id': None, 'name': 'Yahoo Entertainment'}, 'author': None, 'title': 'NewJeans來台拍攝惹爭議 傳工作人員態度差「檢查路人手機」公司發聲了', 'description': 'NewJeans來台拍攝惹爭議 傳工作人員態度差「檢查路人手機」公司發聲了', 'url': 'https://consent.yahoo.com/v2/collectConsent?sessionId=1_cc-session_3f315535-9970-4c3c-ad3d-9457f4910a0f', 'urlToImage': None, 'publishedAt': '2024-04-02T09:26:24Z', 'content': 'Si vous cliquez sur «\\xa0Tout accepter\\xa0», nos partenaires (y compris 240 qui font partie du Cadre de transparence et de consentement dIAB) et nous utiliserons également des témoins et vos données person… [+982 chars]'}, {'source': {'id': None, 'name': 'Yahoo Entertainment'}, 'author': None, 'title': 'NewJeans、IVE、aespa東蛋票價太高！ 「比日本藝人還貴」引發粉絲不滿', 'description': 'NewJeans、IVE、aespa東蛋票價太高！ 「比日本藝人還貴」引發粉絲不滿', 'url': 'https://consent.yahoo.com/v2/collectConsent?sessionId=1_cc-session_9bd6a5f9-0056-4574-9020-c44a6db0ac71', 'urlToImage': None, 'publishedAt': '2024-04-12T08:33:18Z', 'content': \"If you click 'Accept all', we and our partners, including 239 who are part of the IAB Transparency &amp; Consent Framework, will also store and/or access information on a device (in other words, use … [+678 chars]\"}, {'source': {'id': None, 'name': 'Yahoo Entertainment'}, 'author': None, 'title': 'NewJeans被直擊到軍中看師兄BTS V 男神好友也在Danielle意外透露細節', 'description': 'NewJeans被直擊到軍中看師兄BTS V 男神好友也在Danielle意外透露細節', 'url': 'https://consent.yahoo.com/v2/collectConsent?sessionId=1_cc-session_443fbc02-f0cc-483e-a374-9943f1820657', 'urlToImage': None, 'publishedAt': '2024-04-15T06:03:28Z', 'content': \"If you click 'Accept all', we and our partners, including 239 who are part of the IAB Transparency &amp; Consent Framework, will also store and/or access information on a device (in other words, use … [+678 chars]\"}, {'source': {'id': None, 'name': 'Yahoo Entertainment'}, 'author': None, 'title': 'HYBE和閔熙珍內鬥NewJeans該怎麼做？ 韓媒給出建議「不可輕易解約或訴訟」', 'description': 'HYBE和閔熙珍內鬥NewJeans該怎麼做？ 韓媒給出建議「不可輕易解約或訴訟」', 'url': 'https://consent.yahoo.com/v2/collectConsent?sessionId=1_cc-session_1c9c9179-a490-433d-b2d3-22e5c75413e6', 'urlToImage': None, 'publishedAt': '2024-04-25T09:20:40Z', 'content': \"If you click 'Accept all', we and our partners, including 238 who are part of the IAB Transparency &amp; Consent Framework, will also store and/or access information on a device (in other words, use … [+678 chars]\"}, {'source': {'id': None, 'name': 'Yahoo Entertainment'}, 'author': None, 'title': '閔熙珍指控HYBE偏愛LE SSERAFIM！ 網友翻出證據「房時爀IG獨缺NewJeans」', 'description': '閔熙珍指控HYBE偏愛LE SSERAFIM！ 網友翻出證據「房時爀IG獨缺NewJeans」', 'url': 'https://consent.yahoo.com/v2/collectConsent?sessionId=1_cc-session_2e29ab68-4e32-43ee-bee0-a655c0ceba4e', 'urlToImage': None, 'publishedAt': '2024-04-26T08:29:53Z', 'content': \"If you click 'Accept all', we and our partners, including 238 who are part of the IAB Transparency &amp; Consent Framework, will also store and/or access information on a device (in other words, use … [+678 chars]\"}, {'source': {'id': None, 'name': 'Newsweekjapan.jp'}, 'author': 'まつもとたくお', 'title': 'NewJeans､ILLIT､LE SSERAFIM......\\u3000K-POPガールズグループを中心に急増する｢時短サウンド｣､その理由とは？ [K-POPナビゲーション 2024]', 'description': '＜タイパ重視の現代、トレンドに敏感なK-POPにも変化が──＞ 韓国の音楽シーンを追い続けていると、サウンドのちょっとした変化に気づき、その背景や経緯を調べる場合が少なくない。最近であれば、メロディラインを際立たせるためにバックの音数をできるだけ減らす傾向が強くなってきている点だ。これはおそらくYouTubeやTikTokなどの動画投稿サイトで注目を集めるための工夫なのだろうと推測した。そしてここ数か月の話だが、今度はK-POPガールズグループの新曲で2分前後のものが目立ってきているのが気になっている。 それなり…', 'url': 'https://www.newsweekjapan.jp/matsumoto/2024/04/newjeansillitle-sserafimk-pop.php', 'urlToImage': 'https://www.newsweekjapan.jp/matsumoto/assets_c/2024/04/newsweekjp_20240408104454-thumb-autox675-1139998.jpg', 'publishedAt': '2024-04-09T02:00:00Z', 'content': 'K-POP\\r\\nYouTubeTikTokK-POP2\\r\\n2ILLIT3SUPER REAL ME\"\"MagneticMidnight FictionLucky Girl Syndrome4\\r\\nHYBE LABELS3ILLITHYBE LABELS / YouTube\\r\\n2024K-POP(G)I-DLE2LE SSERAFIMEASY2WifeGood Bones\\r\\n(G)I-DLE(G)I-… [+49 chars]'}, {'source': {'id': None, 'name': 'Yahoo Entertainment'}, 'author': None, 'title': 'NewJeans師妹表演服裝像慈濟師姐？！ 對比後讓台網友笑翻：太接地氣了', 'description': 'NewJeans師妹表演服裝像慈濟師姐？！ 對比後讓台網友笑翻：太接地氣了', 'url': 'https://consent.yahoo.com/v2/collectConsent?sessionId=1_cc-session_8f5bc0fa-6c94-4ba9-809c-0bbc06e9e81a', 'urlToImage': None, 'publishedAt': '2024-04-03T09:57:06Z', 'content': \"If you click 'Accept all', we and our partners (including 240 who are part of the IAB Transparency &amp; Consent Framework) will also use cookies and your personal data, such as IP address, precise l… [+686 chars]\"}, {'source': {'id': None, 'name': 'Yahoo Entertainment'}, 'author': None, 'title': 'IVE回歸造型被質疑抄襲NewJeans 對比相似度高掀起兩派爭論', 'description': 'IVE回歸造型被質疑抄襲NewJeans 對比相似度高掀起兩派爭論', 'url': 'https://consent.yahoo.com/v2/collectConsent?sessionId=1_cc-session_a586ebb4-9c40-43b6-9791-ed84d37d7df8', 'urlToImage': None, 'publishedAt': '2024-04-21T11:05:52Z', 'content': \"If you click 'Accept all', we and our partners, including 238 who are part of the IAB Transparency &amp; Consent Framework, will also store and/or access information on a device (in other words, use … [+678 chars]\"}, {'source': {'id': None, 'name': 'Yahoo Entertainment'}, 'author': None, 'title': '閔熙珍指控ILLIT抄襲NewJeans 創意總監疑似不滿「曬出中指照」', 'description': '閔熙珍指控ILLIT抄襲NewJeans 創意總監疑似不滿「曬出中指照」', 'url': 'https://consent.yahoo.com/v2/collectConsent?sessionId=1_cc-session_7a237528-7d20-4fbd-ad50-560b154e940d', 'urlToImage': None, 'publishedAt': '2024-04-26T09:20:40Z', 'content': \"If you click 'Accept all', we and our partners, including 238 who are part of the IAB Transparency &amp; Consent Framework, will also store and/or access information on a device (in other words, use … [+678 chars]\"}, {'source': {'id': None, 'name': 'Yahoo Entertainment'}, 'author': '娛樂星聞', 'title': '閔熙珍說曾經猶豫和BTS V合作 「一心只有NewJeans」發言讓ARMY很不滿', 'description': '閔熙珍說曾經猶豫和BTS V合作 「一心只有NewJeans」發言讓ARMY很不滿', 'url': 'https://tw.news.yahoo.com/%E9%96%94%E7%86%99%E7%8F%8D%E8%AA%AA%E6%9B%BE%E7%B6%93%E7%8C%B6%E8%B1%AB%E5%92%8Cbts-v%E5%90%88%E4%BD%9C-%E5%BF%83%E5%8F%AA%E6%9C%89newjeans-%E7%99%BC%E8%A8%80%E8%AE%93army%E5%BE%88%E4%B8%8D%E6%BB%BF-152356038.html', 'urlToImage': 'https://media.zenfs.com/en/__rss_338/ef1cf4ea3d8acdc8ddcbf37f4310215a', 'publishedAt': '2024-04-27T07:23:56Z', 'content': 'Say goodbye to dust bunnies forever with this unbelievable deal on a Shark vacuum cleaner - your floors will thank you!'}, {'source': {'id': None, 'name': 'Popbee.com'}, 'author': 'info@popbee.com (Popbee)', 'title': '行程公開：Celine 為了什麼活動，把品牌大使朴寶劍、Newjeans Danielle 都請來台灣？', 'description': '走一趟位於信義區的台北 101，幾乎能看到所有一線精品的櫃位，而在 2024 年似乎又要更好逛，不僅是 Saint Laurent 即將擴大營業變成兩層樓，Celine 這回也要首度進駐台北 101 購物中心，預告門店設計將延伸創意總監 Hedi Slimane 構思的建築設計概念，包括最新的男女時裝、手袋、鞋履、小皮件、高級香水，還有 Celine 高級珠寶系列未來都能在 Celine 台北 101 店舖逛到。延伸閱讀－看膩單調髮型？ 3 個髮飾，為頭髮增添亮點： Celine 這款太高雅， Prada 個性女…', 'url': 'https://popbee.com/fashion/fashion-news/celine-park-bo-gum-newjeans-danielle-taipei-101-schduele', 'urlToImage': 'https://image-cdn.hypb.st/https%3A%2F%2Fpopbee.com%2Fimage%2F2024%2F04%2Fkjkwoowe.jpg?w=960&cbr=1&q=90&fit=max', 'publishedAt': '2024-04-20T07:31:24Z', 'content': '101 2024 Saint Laurent Celine 101 Hedi Slimane Celine Celine 101 \\r\\nCeline 101 Celine \\r\\n Celine 101 4 22 19 15 Newjeans Danielle 4 22 19 4 23 Celine 101 Popbee \\r\\nPopbee Circle Popbee'}, {'source': {'id': None, 'name': 'Yahoo Entertainment'}, 'author': '記者陳雅蘭／綜合報導', 'title': '出道被打壓！閔熙珍保護NewJeans才開公司', 'description': '[NOWnews今日新聞]「NewJeans之母」閔熙珍爆出要從母公司HYBE獨立，動怒「BTS爸爸」房時爀要求閔熙珍卸任子公司「ADOR」CEO職位，閔熙珍今（25）首度露面召開記者會，除了公開房時...', 'url': 'https://tw.news.yahoo.com/%E5%87%BA%E9%81%93%E8%A2%AB%E6%89%93%E5%A3%93-%E9%96%94%E7%86%99%E7%8F%8D%E4%BF%9D%E8%AD%B7newjeans%E6%89%8D%E9%96%8B%E5%85%AC%E5%8F%B8-172731476.html', 'urlToImage': 'https://media.zenfs.com/en/nownews.com/89a6497b3aa53cd3b5d8ab37d93eccd7', 'publishedAt': '2024-04-25T09:27:31Z', 'content': 'NewJeansLE SSERAFIMNewJeansaespaNewJeansLE SSERAFIMaespa X\\r\\n[NOWnews] NewJeansHYBEBTSADORCEO25NewJeansLE SSERAFIMNewJeansaespa\\r\\n2002SMSHINeef(x)EXORed VelvetMV2019HYBEADORADORNewJeansNewJeansNewJeans… [+426 chars]'}, {'source': {'id': None, 'name': 'Popbee.com'}, 'author': 'info@popbee.com (Popbee)', 'title': '泰國時尚新勢力：Loewe 與 Bottega Veneta 雙雙宣佈委任來自泰國的品牌大使！', 'description': '泰國流行文化掘起已是不爭的事實，愈來愈多人留意 T-Pop、泰國劇集和電影，這亦見證著 泰國 偶像的誕生，更於早年在時裝界取得一席位，先有 Bright 成為 Burberry 的全球品牌大使、Apo、Mile 和 Tontawan 與 Dior 展開合作、Louis Vuitton 宣佈 BamBam 為品牌大使、Gucci 委任 Gulf ⋯⋯ 最近，Loewe 與 Bottega Veneta 也先後宣佈委任了來自泰國的人氣偶像為新任品牌大使，立即來看看這 3 位時尚新臉孔！延伸閱讀：NewJeans Ha…', 'url': 'https://popbee.com/fashion/fashion-news/loewe-bottega-veneta-thailand-brand-ambassador', 'urlToImage': 'https://image-cdn.hypb.st/https%3A%2F%2Fpopbee.com%2Fimage%2F2024%2F04%2Ffotojet-67.jpg?w=960&cbr=1&q=90&fit=max', 'publishedAt': '2024-04-04T12:04:10Z', 'content': 'T-Pop Bright Burberry ApoMile Tontawan Dior Louis Vuitton BamBam Gucci Gulf Loewe Bottega Veneta 3 \\r\\nNewJeans Hanni Gucci Beauty \\r\\nBottega Veneta Jirawat Sutivanichsak Kanyawee Songmuang Jirawat Suti… [+262 chars]'}, {'source': {'id': None, 'name': 'Popbee.com'}, 'author': 'info@popbee.com (Popbee)', 'title': 'Gucci 2025 早春系列落實於倫敦泰特現代美術館舉行，再次向品牌的根出發！', 'description': 'Gucci 日前宣佈 2025 早春系列將於 5 月 13 日在倫敦泰特現代美術館美術館舉行，這亦是 Sabato De Sarno 上任後首個早春系列。而 Sabato 就決定再次尋根，選擇對品牌極具意義的倫敦實現他的第一次。延伸閱讀：NewJeans Hanni 出發參加 GUCCI 2024 秋冬大秀，身上穿的服裝單品竟然是...值得筆記！ Tate Modern from North Bank © Tate Photography泰特現代美術館為創意和對談的樞紐，匯聚多元觀點，促進文化交流。而 Sabat…', 'url': 'https://popbee.com/fashion/runway-fashion/gucci-cruise-2025-tate-modern', 'urlToImage': 'https://image-cdn.hypb.st/https%3A%2F%2Fpopbee.com%2Fimage%2F2024%2F04%2Ffotojet-2024-04-21t005557.029.jpg?w=960&cbr=1&q=90&fit=max', 'publishedAt': '2024-04-20T17:06:26Z', 'content': 'Gucci 2025 5 13 Sabato De Sarno Sabato \\r\\nNewJeans Hanni GUCCI 2024 …\\r\\nTate Modern from North Bank © Tate Photography\\r\\nSabato Gucci Guccio Gucci 1897 Sabato \\xa0\\r\\nImage from Getty\\r\\nImage from Getty\\r\\nSaba… [+66 chars]'}, {'source': {'id': None, 'name': 'Prtimes.jp'}, 'author': None, 'title': '【DIOR FINE JEWELLERY】NewJeansのHAERINが新作の「エトワール デ ヴァン」を着用', 'description': '[クリスチャン・ディオール合同会社]\\n4月15日にニューヨーク・ブルックリン美術館で開催されたディオール 2024年フォール コレクションにNewJeansのHAERINが登場。\\n[画像1: https://prtimes.jp/i/8795/1555/resize/d8795-1555-5075c7d229a7b3ad37e8-0...', 'url': 'https://prtimes.jp/main/html/rd/p/000001555.000008795.html', 'urlToImage': 'https://prcdn.freetls.fastly.net/release_image/8795/1555/8795-1555-7ec83dd91c34c87ad3803567c7e8545e-3600x2700.jpg?format=jpeg&auto=webp&fit=bounds&width=1200&height=630', 'publishedAt': '2024-04-23T02:48:47Z', 'content': 'Copyright © PR TIMES Corporation All Rights Reserved.'}, {'source': {'id': None, 'name': 'Yahoo Entertainment'}, 'author': '張疏影', 'title': 'NewJeans來台拍攝爭議再＋1！工作人員強制驅離、檢查路人手機引微詞', 'description': '（記者張疏影／綜合報導）南韓HYBE娛樂公司旗下的大勢女團NewJeans，上週六（30日）被目擊在台北街頭拍 […]', 'url': 'https://tw.news.yahoo.com/newjeans%E4%BE%86%E5%8F%B0%E6%8B%8D%E6%94%9D%E7%88%AD%E8%AD%B0%E5%86%8D-1-%E5%B7%A5%E4%BD%9C%E4%BA%BA%E5%93%A1%E5%BC%B7%E5%88%B6%E9%A9%85%E9%9B%A2-%E6%AA%A2%E6%9F%A5%E8%B7%AF%E4%BA%BA%E6%89%8B%E6%A9%9F%E5%BC%95%E5%BE%AE%E8%A9%9E-030901857.html', 'urlToImage': 'https://media.zenfs.com/en/innews_com_tw_7/53abb6b9b2de9e2b5beec00e06c12995', 'publishedAt': '2024-03-31T19:09:01Z', 'content': 'HYBENewJeans30MVNewJeansNewJeansMV\\r\\nNewJeansMVNewJeans IG\\r\\n31PTTNewJeansMV\\r\\nNewJeans650\\r\\nThreads\\r\\nNewJeansBLACKPINKNewJeans IG\\r\\nHYBELE SSERAFIMNew JeansR U NextILLIT\\r\\nMVP'}, {'source': {'id': None, 'name': 'Yahoo Entertainment'}, 'author': None, 'title': '朴寶劍機場管秩序比噓！繞全場寵粉蹲下來為她簽名 NewJeans Danielle被人潮嚇到送飛吻愛心超可愛', 'description': '朴寶劍機場管秩序比噓！繞全場寵粉蹲下來為她簽名 NewJeans Danielle被人潮嚇到送飛吻愛心超可愛', 'url': 'https://consent.yahoo.com/v2/collectConsent?sessionId=1_cc-session_0e0de9f9-fafb-4233-9211-e1ee5a3c5fe9', 'urlToImage': None, 'publishedAt': '2024-04-22T04:52:13Z', 'content': \"If you click 'Accept all', we and our partners, including 238 who are part of the IAB Transparency &amp; Consent Framework, will also store and/or access information on a device (in other words, use … [+678 chars]\"}, {'source': {'id': None, 'name': 'Yahoo Entertainment'}, 'author': None, 'title': '閔熙珍曝「NewJeans半夜哭著打給她」 公開房時爀傳的訊息：可以把aespa踩在腳下嗎？', 'description': '閔熙珍曝「NewJeans半夜哭著打給她」 公開房時爀傳的訊息：可以把aespa踩在腳下嗎？', 'url': 'https://consent.yahoo.com/v2/collectConsent?sessionId=1_cc-session_1cf70046-f5c5-4092-abe3-14614e6df39a', 'urlToImage': None, 'publishedAt': '2024-04-25T03:43:48Z', 'content': \"If you click 'Accept all', we and our partners, including 238 who are part of the IAB Transparency &amp; Consent Framework, will also store and/or access information on a device (in other words, use … [+678 chars]\"}, {'source': {'id': None, 'name': 'Yahoo Entertainment'}, 'author': None, 'title': 'HYBE宣布RM回歸日期和NewJeans同天 偶像被拖上戰場粉絲崩潰：拜託放過他們吧', 'description': 'HYBE宣布RM回歸日期和NewJeans同天 偶像被拖上戰場粉絲崩潰：拜託放過他們吧', 'url': 'https://consent.yahoo.com/v2/collectConsent?sessionId=1_cc-session_9e769fc3-2ec5-4d9a-b081-1fc1ba9a671a', 'urlToImage': None, 'publishedAt': '2024-04-26T09:10:17Z', 'content': \"If you click 'Accept all', we and our partners, including 238 who are part of the IAB Transparency &amp; Consent Framework, will also store and/or access information on a device (in other words, use … [+678 chars]\"}, {'source': {'id': None, 'name': 'Yahoo Entertainment'}, 'author': '中天新聞網', 'title': '想帶NewJeans出走？閔熙珍傳「背叛公司」被逼卸任\\u3000HYBE回應1事', 'description': '曾擔任南韓SM娛樂創意總監的閔熙珍，近年打造新生代女團NewJeans，成為HYBE旗下子公司ADOR娛樂的現任執行長。未料，韓媒22日稍早卻爆出閔熙珍疑有獨立ADOR娛樂、帶NewJeans出走的想法，傳出HYBE因此要求閔熙珍卸任，並對她展開相關調查。', 'url': 'https://tw.news.yahoo.com/%E6%83%B3%E5%B8%B6newjeans%E5%87%BA%E8%B5%B0-%E9%96%94%E7%86%99%E7%8F%8D%E5%82%B3-%E8%83%8C%E5%8F%9B%E5%85%AC%E5%8F%B8-%E8%A2%AB%E9%80%BC%E5%8D%B8%E4%BB%BB-hybe%E5%9B%9E%E6%87%891%E4%BA%8B-082644955.html', 'urlToImage': 'https://s.yimg.com/ny/api/res/1.2/7InSCM1Idan2FZRKn.ptDQ--/YXBwaWQ9aGlnaGxhbmRlcjt3PTEyMDA7aD05MDA-/https://media.zenfs.com/en/gotv_ctitv_com_tw_678/f068b80e136192a97c2a25d3f283bc48', 'publishedAt': '2024-04-22T00:26:44Z', 'content': 'SMNewJeansHYBEADOR22ADORNewJeansHYBE\\r\\nHYBEADORHYBEADORHYBEHYBE\\r\\nHYBE\\r\\nNewJeans2022DittoHype BoyOMGSuper ShyETANewJeans\\r\\n35 8 1'}, {'source': {'id': None, 'name': 'Yahoo Entertainment'}, 'author': None, 'title': '檢查手機又未申請路權\\u3000NewJeans來台爭議多', 'description': '[NOWnews今日新聞]南韓人氣女團NewJeans出道2年，近日首度祕訪台灣，現身台北街頭拍攝新歌MV，意外被拍到引發全台粉絲們的熱議。韓團來台拍攝本是美事一樁，然而近日卻出現部分粉絲集體情勒，要...', 'url': 'https://consent.yahoo.com/v2/collectConsent?sessionId=1_cc-session_826becd2-c919-47c1-a448-88da5a0c66bc', 'urlToImage': None, 'publishedAt': '2024-04-01T17:37:28Z', 'content': 'Si vous cliquez sur «\\xa0Tout accepter\\xa0», nos partenaires (y compris 241 qui font partie du Cadre de transparence et de consentement dIAB) et nous utiliserons également des témoins et vos données person… [+982 chars]'}, {'source': {'id': None, 'name': 'Yahoo Entertainment'}, 'author': None, 'title': '台北拍MV爆爭議！NewJeans公司回應了', 'description': '[NOWnews今日新聞]南韓女團NewJeans來台北拍MV爭議不斷，除了粉絲攻擊五月天阿信要求刪文，《NOWnews今日新聞》也接到民眾投訴「拍攝當天被尖叫聲騷擾」，網友也透露路過的阿姨被工作人員...', 'url': 'https://consent.yahoo.com/v2/collectConsent?sessionId=1_cc-session_572019bd-b78e-4a9a-82de-58a872eb998b', 'urlToImage': None, 'publishedAt': '2024-04-01T20:54:13Z', 'content': 'Si vous cliquez sur «\\xa0Tout accepter\\xa0», nos partenaires (y compris 241 qui font partie du Cadre de transparence et de consentement dIAB) et nous utiliserons également des témoins et vos données person… [+982 chars]'}, {'source': {'id': None, 'name': 'Yahoo Entertainment'}, 'author': '記者江芷稜／綜合報導', 'title': '躲過台灣7.2強震！NewJeans一早順利返韓', 'description': '[NOWnews今日新聞]韓國超人氣女團NewJeans日前來台拍攝MV，被路人巧遇拍下花絮照，歌迷嚴正要求刪除，引發軒然大波，協助拍攝的台灣團隊事後道歉平息風波，台灣今（3）日早上7點58分發生規模...', 'url': 'https://tw.news.yahoo.com/%E8%BA%B2%E9%81%8E%E5%8F%B0%E7%81%A37-2%E5%BC%B7%E9%9C%87-newjeans-%E6%97%A9%E9%A0%86%E5%88%A9%E8%BF%94%E9%9F%93-013643483.html', 'urlToImage': 'https://media.zenfs.com/en/nownews.com/2af1204fb3a53ab1b9cfa87968d8cbf9', 'publishedAt': '2024-04-03T17:36:43Z', 'content': \"Getting a note from the teacher can be a dreadful feeling for any child, fortunately, these teacher's notes are sprinkled with a little humor\"}, {'source': {'id': None, 'name': 'Yahoo Entertainment'}, 'author': None, 'title': '確定現身101！朴寶劍、NewJeans一起來台灣', 'description': '[NOWnews今日新聞]韓星朴寶劍日前傳出將於下週一（4／22）來台出席精品活動，今（20）日官方發文證實，還加碼公開NewJeans成員Danielle也會一同參與，掀起熱議。朴寶劍跟BLACKP...', 'url': 'https://consent.yahoo.com/v2/collectConsent?sessionId=1_cc-session_c9e173ef-4d9c-4bb5-8974-d4fee6508487', 'urlToImage': None, 'publishedAt': '2024-04-20T18:54:38Z', 'content': \"If you click 'Accept all', we and our partners, including 238 who are part of the IAB Transparency &amp; Consent Framework, will also store and/or access information on a device (in other words, use … [+678 chars]\"}, {'source': {'id': None, 'name': 'Biztoc.com'}, 'author': 'billboard.com', 'title': 'NewJeans Asks U.S. Court to Force Google to Identify YouTube User for Criminal Defamation Case', 'description': 'NewJeans is asking an American court to force Google to unmask an anonymous YouTube user so that the person can be criminally prosecuted under South Korea’s strict libel laws for posting “false and defamatory videos” about the K-pop band. In court documents f…', 'url': 'https://biztoc.com/x/aa4deb9c2ec68bde', 'urlToImage': 'https://c.biztoc.com/p/aa4deb9c2ec68bde/s.webp', 'publishedAt': '2024-04-11T16:12:11Z', 'content': 'NewJeans is asking an American court to force Google to unmask an anonymous YouTube user so that the person can be criminally prosecuted under South Koreas strict libel laws for posting false and def… [+295 chars]'}, {'source': {'id': None, 'name': 'Yahoo Entertainment'}, 'author': None, 'title': '韓新人歌手身分起底竟是NewJeans Danielle親姐\\u3000正臉曝光網嗨翻', 'description': '娛樂中心／林汝珊報導 韓國新人女歌手GYUNA日前演唱戲劇《HIDE》的OST〈LAVA〉亮相，超強唱功及嗓音引起關注，這位女歌手身分也被發現其實是大勢女團NewJeans成', 'url': 'https://consent.yahoo.com/v2/collectConsent?sessionId=1_cc-session_2da6dc25-9a29-45f3-99e8-a5a55a70f4ae', 'urlToImage': None, 'publishedAt': '2024-04-15T21:55:03Z', 'content': \"If you click 'Accept all', we and our partners, including 238 who are part of the IAB Transparency &amp; Consent Framework, will also store and/or access information on a device (in other words, use … [+678 chars]\"}]}\n"
     ]
    }
   ],
   "source": [
    "query = \"What's news on NewJeans?\"\n",
    "\n",
    "tool_calls = llm_with_tools.invoke(query).tool_calls\n",
    "print(tool_calls)\n",
    "\n",
    "for tool_call in tool_calls:\n",
    "    print(call_tool(tool_call))"
   ]
  },
  {
   "cell_type": "markdown",
   "metadata": {},
   "source": [
    "## HW\n",
    "Create a chatbot using LLM, LA, tool, GC. It can draw images, search news, check schedules, etc. based on your query."
   ]
  }
 ],
 "metadata": {
  "kernelspec": {
   "display_name": "Python 3",
   "language": "python",
   "name": "python3"
  },
  "language_info": {
   "codemirror_mode": {
    "name": "ipython",
    "version": 3
   },
   "file_extension": ".py",
   "mimetype": "text/x-python",
   "name": "python",
   "nbconvert_exporter": "python",
   "pygments_lexer": "ipython3",
   "version": "3.9.6"
  }
 },
 "nbformat": 4,
 "nbformat_minor": 2
}
