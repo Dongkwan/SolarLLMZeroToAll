{
 "cells": [
  {
   "cell_type": "code",
   "execution_count": null,
   "metadata": {},
   "outputs": [],
   "source": [
    "!pip install -q gradio python-dotenv langchain-upstage"
   ]
  },
  {
   "cell_type": "code",
   "execution_count": null,
   "metadata": {},
   "outputs": [],
   "source": [
    "import gradio as gr\n",
    "\n",
    "from langchain_upstage import ChatUpstage\n",
    "from langchain_core.prompts import ChatPromptTemplate\n",
    "from langchain_core.output_parsers import StrOutputParser\n",
    "\n",
    "llm = ChatUpstage()\n",
    "\n",
    "def chat(message, history):\n",
    "    # Change this to your function\n",
    "    history_langchain_format = [(\"system\", \"You are a helpful assistant.\")]\n",
    "    for human, ai in history:\n",
    "        history_langchain_format += (\"human\", human)\n",
    "        history_langchain_format += (\"ai\", ai)\n",
    "    history_langchain_format += (\"human\", message)\n",
    "    \n",
    "    chain = ChatPromptTemplate.from_messages(history_langchain_format) | llm | StrOutputParser()\n",
    "\n",
    "    return chain.invoke({})\n",
    "\n",
    "with gr.Blocks() as demo:\n",
    "    chatbot = gr.ChatInterface(\n",
    "        chat, \n",
    "        examples=[\"How to eat healthy?\", \"Best Places in Korea\", \"How to make a chatbot?\"],\n",
    "        title=\"Solar Chatbot\",\n",
    "        description=\"Upstage Solar Chatbot\",\n",
    "    )\n",
    "    chatbot.chatbot.height = 400\n"
   ]
  },
  {
   "cell_type": "code",
   "execution_count": null,
   "metadata": {},
   "outputs": [],
   "source": [
    "demo.launch(share=True)"
   ]
  }
 ],
 "metadata": {
  "language_info": {
   "name": "python"
  }
 },
 "nbformat": 4,
 "nbformat_minor": 2
}
